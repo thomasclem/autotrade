{
 "cells": [
  {
   "cell_type": "code",
   "execution_count": 22,
   "metadata": {
    "collapsed": true,
    "ExecuteTime": {
     "end_time": "2024-03-31T20:44:45.772390Z",
     "start_time": "2024-03-31T20:44:45.751704Z"
    }
   },
   "outputs": [],
   "source": [
    "import time\n",
    "\n",
    "import ccxt\n",
    "import pandas as pd\n",
    "from datetime import datetime, timezone, timedelta\n",
    "import ta\n",
    "\n",
    "import mexc as mexc_private\n",
    "from mexc import OrderSide"
   ]
  },
  {
   "cell_type": "code",
   "execution_count": 44,
   "outputs": [],
   "source": [
    "PAIR = \"API3/USDT:USDT\"\n",
    "MEXC_TOKEN = \"WEBa175908e56e196c900120604a24234256cec260d8522e70a95e8a95e1c2fab1f\"\n",
    "WALLET = 225\n",
    "TIMEFRAME = \"1h\"\n",
    "LEVERAGE = 2\n",
    "EXCHANGE = \"bybit\"\n",
    "params = {\n",
    "    \"fast_ma\": 7,\n",
    "    \"slow_ma\": 50,\n",
    "    \"sigma_open\": 2.0,\n",
    "    \"sigma_close\": 1.6,\n",
    "    \"take_profit\": 1.05\n",
    "}\n",
    "\n",
    "current_date = datetime.now().replace(tzinfo=timezone.utc)\n",
    "start_date = current_date - timedelta(minutes=(params[\"slow_ma\"] + 1) * 15)\n",
    "current_date_ts = int(current_date.timestamp() * 1000)\n",
    "start_date_ts = int(start_date.timestamp() * 1000)"
   ],
   "metadata": {
    "collapsed": false,
    "ExecuteTime": {
     "end_time": "2024-03-31T21:40:39.293016Z",
     "start_time": "2024-03-31T21:40:39.291543Z"
    }
   }
  },
  {
   "cell_type": "code",
   "execution_count": 45,
   "outputs": [],
   "source": [
    "mexc = ccxt.mexc()"
   ],
   "metadata": {
    "collapsed": false,
    "ExecuteTime": {
     "end_time": "2024-03-31T21:40:40.199327Z",
     "start_time": "2024-03-31T21:40:40.046117Z"
    }
   }
  },
  {
   "cell_type": "code",
   "execution_count": 56,
   "outputs": [
    {
     "data": {
      "text/plain": "                       open    high     low   close   volume\ntimestamp                                                   \n2024-03-31 09:30:00  3.6632  3.6632  3.6548  3.6603   5101.0\n2024-03-31 09:45:00  3.6603  3.6613  3.6559  3.6584   3018.0\n2024-03-31 10:00:00  3.6584  3.6659  3.6573  3.6632    367.0\n2024-03-31 10:15:00  3.6632  3.6677  3.6586  3.6645   1793.0\n2024-03-31 10:30:00  3.6645  3.6743  3.6635  3.6741  43459.0\n2024-03-31 10:45:00  3.6741  3.6901  3.6552  3.6573  23574.0\n2024-03-31 11:00:00  3.6573  3.6584  3.6507  3.6546  16015.0\n2024-03-31 11:15:00  3.6546  3.6578  3.6464  3.6464   1474.0\n2024-03-31 11:30:00  3.6464  3.6506  3.6409  3.6498  17180.0\n2024-03-31 11:45:00  3.6498  3.6530  3.6384  3.6525   4713.0\n2024-03-31 12:00:00  3.6525  3.6692  3.6521  3.6666   2552.0\n2024-03-31 12:15:00  3.6666  3.6688  3.6509  3.6598   3012.0\n2024-03-31 12:30:00  3.6598  3.6661  3.6578  3.6606   3111.0\n2024-03-31 12:45:00  3.6606  3.6706  3.6604  3.6658    890.0\n2024-03-31 13:00:00  3.6658  3.6701  3.6526  3.6630    745.0\n2024-03-31 13:15:00  3.6630  3.6640  3.6571  3.6593   1460.0\n2024-03-31 13:30:00  3.6593  3.6606  3.6526  3.6527    573.0\n2024-03-31 13:45:00  3.6527  3.6614  3.6451  3.6467   7762.0\n2024-03-31 14:00:00  3.6467  3.6610  3.6399  3.6606   2648.0\n2024-03-31 14:15:00  3.6606  3.6624  3.6501  3.6618    454.0\n2024-03-31 14:30:00  3.6618  3.6651  3.6609  3.6625   4822.0\n2024-03-31 14:45:00  3.6625  3.6625  3.6502  3.6602   1223.0\n2024-03-31 15:00:00  3.6602  3.6733  3.6522  3.6733   3480.0\n2024-03-31 15:15:00  3.6733  3.6733  3.6550  3.6604  15186.0\n2024-03-31 15:30:00  3.6604  3.6779  3.6604  3.6683  15846.0\n2024-03-31 15:45:00  3.6683  3.6726  3.6642  3.6648    873.0\n2024-03-31 16:00:00  3.6648  3.6821  3.6616  3.6773   1307.0\n2024-03-31 16:15:00  3.6773  3.6914  3.6712  3.6742   1762.0\n2024-03-31 16:30:00  3.6742  3.6800  3.6696  3.6758   5289.0\n2024-03-31 16:45:00  3.6758  3.6789  3.6699  3.6775    650.0\n2024-03-31 17:00:00  3.6775  3.6848  3.6732  3.6759  31841.0\n2024-03-31 17:15:00  3.6759  3.6773  3.6664  3.6721   3546.0\n2024-03-31 17:30:00  3.6721  3.6721  3.6581  3.6625  15180.0\n2024-03-31 17:45:00  3.6625  3.6805  3.6611  3.6800   6876.0\n2024-03-31 18:00:00  3.6800  3.6800  3.6671  3.6711  11347.0\n2024-03-31 18:15:00  3.6711  3.6774  3.6656  3.6704   4531.0\n2024-03-31 18:30:00  3.6704  3.6916  3.6671  3.6901   9531.0\n2024-03-31 18:45:00  3.6901  3.7004  3.6805  3.6850  13885.0\n2024-03-31 19:00:00  3.6850  3.6918  3.6718  3.6867   7867.0\n2024-03-31 19:15:00  3.6867  3.6935  3.6844  3.6864   2312.0\n2024-03-31 19:30:00  3.6864  3.6870  3.6750  3.6854   1858.0\n2024-03-31 19:45:00  3.6854  3.6870  3.6796  3.6847  15390.0\n2024-03-31 20:00:00  3.6847  3.6954  3.6847  3.6940   3531.0\n2024-03-31 20:15:00  3.6940  3.6983  3.6852  3.6877   1977.0\n2024-03-31 20:30:00  3.6877  3.6932  3.6822  3.6850   1932.0\n2024-03-31 20:45:00  3.6850  3.6940  3.6848  3.6852   2431.0\n2024-03-31 21:00:00  3.6852  3.6940  3.6773  3.6928   3512.0\n2024-03-31 21:15:00  3.6928  3.6933  3.6731  3.6746   2447.0\n2024-03-31 21:30:00  3.6746  3.6815  3.6617  3.6749  16660.0\n2024-03-31 21:45:00  3.6749  3.6749  3.6582  3.6615   2426.0\n2024-03-31 22:00:00  3.6615  3.6621  3.6615  3.6621      5.0",
      "text/html": "<div>\n<style scoped>\n    .dataframe tbody tr th:only-of-type {\n        vertical-align: middle;\n    }\n\n    .dataframe tbody tr th {\n        vertical-align: top;\n    }\n\n    .dataframe thead th {\n        text-align: right;\n    }\n</style>\n<table border=\"1\" class=\"dataframe\">\n  <thead>\n    <tr style=\"text-align: right;\">\n      <th></th>\n      <th>open</th>\n      <th>high</th>\n      <th>low</th>\n      <th>close</th>\n      <th>volume</th>\n    </tr>\n    <tr>\n      <th>timestamp</th>\n      <th></th>\n      <th></th>\n      <th></th>\n      <th></th>\n      <th></th>\n    </tr>\n  </thead>\n  <tbody>\n    <tr>\n      <th>2024-03-31 09:30:00</th>\n      <td>3.6632</td>\n      <td>3.6632</td>\n      <td>3.6548</td>\n      <td>3.6603</td>\n      <td>5101.0</td>\n    </tr>\n    <tr>\n      <th>2024-03-31 09:45:00</th>\n      <td>3.6603</td>\n      <td>3.6613</td>\n      <td>3.6559</td>\n      <td>3.6584</td>\n      <td>3018.0</td>\n    </tr>\n    <tr>\n      <th>2024-03-31 10:00:00</th>\n      <td>3.6584</td>\n      <td>3.6659</td>\n      <td>3.6573</td>\n      <td>3.6632</td>\n      <td>367.0</td>\n    </tr>\n    <tr>\n      <th>2024-03-31 10:15:00</th>\n      <td>3.6632</td>\n      <td>3.6677</td>\n      <td>3.6586</td>\n      <td>3.6645</td>\n      <td>1793.0</td>\n    </tr>\n    <tr>\n      <th>2024-03-31 10:30:00</th>\n      <td>3.6645</td>\n      <td>3.6743</td>\n      <td>3.6635</td>\n      <td>3.6741</td>\n      <td>43459.0</td>\n    </tr>\n    <tr>\n      <th>2024-03-31 10:45:00</th>\n      <td>3.6741</td>\n      <td>3.6901</td>\n      <td>3.6552</td>\n      <td>3.6573</td>\n      <td>23574.0</td>\n    </tr>\n    <tr>\n      <th>2024-03-31 11:00:00</th>\n      <td>3.6573</td>\n      <td>3.6584</td>\n      <td>3.6507</td>\n      <td>3.6546</td>\n      <td>16015.0</td>\n    </tr>\n    <tr>\n      <th>2024-03-31 11:15:00</th>\n      <td>3.6546</td>\n      <td>3.6578</td>\n      <td>3.6464</td>\n      <td>3.6464</td>\n      <td>1474.0</td>\n    </tr>\n    <tr>\n      <th>2024-03-31 11:30:00</th>\n      <td>3.6464</td>\n      <td>3.6506</td>\n      <td>3.6409</td>\n      <td>3.6498</td>\n      <td>17180.0</td>\n    </tr>\n    <tr>\n      <th>2024-03-31 11:45:00</th>\n      <td>3.6498</td>\n      <td>3.6530</td>\n      <td>3.6384</td>\n      <td>3.6525</td>\n      <td>4713.0</td>\n    </tr>\n    <tr>\n      <th>2024-03-31 12:00:00</th>\n      <td>3.6525</td>\n      <td>3.6692</td>\n      <td>3.6521</td>\n      <td>3.6666</td>\n      <td>2552.0</td>\n    </tr>\n    <tr>\n      <th>2024-03-31 12:15:00</th>\n      <td>3.6666</td>\n      <td>3.6688</td>\n      <td>3.6509</td>\n      <td>3.6598</td>\n      <td>3012.0</td>\n    </tr>\n    <tr>\n      <th>2024-03-31 12:30:00</th>\n      <td>3.6598</td>\n      <td>3.6661</td>\n      <td>3.6578</td>\n      <td>3.6606</td>\n      <td>3111.0</td>\n    </tr>\n    <tr>\n      <th>2024-03-31 12:45:00</th>\n      <td>3.6606</td>\n      <td>3.6706</td>\n      <td>3.6604</td>\n      <td>3.6658</td>\n      <td>890.0</td>\n    </tr>\n    <tr>\n      <th>2024-03-31 13:00:00</th>\n      <td>3.6658</td>\n      <td>3.6701</td>\n      <td>3.6526</td>\n      <td>3.6630</td>\n      <td>745.0</td>\n    </tr>\n    <tr>\n      <th>2024-03-31 13:15:00</th>\n      <td>3.6630</td>\n      <td>3.6640</td>\n      <td>3.6571</td>\n      <td>3.6593</td>\n      <td>1460.0</td>\n    </tr>\n    <tr>\n      <th>2024-03-31 13:30:00</th>\n      <td>3.6593</td>\n      <td>3.6606</td>\n      <td>3.6526</td>\n      <td>3.6527</td>\n      <td>573.0</td>\n    </tr>\n    <tr>\n      <th>2024-03-31 13:45:00</th>\n      <td>3.6527</td>\n      <td>3.6614</td>\n      <td>3.6451</td>\n      <td>3.6467</td>\n      <td>7762.0</td>\n    </tr>\n    <tr>\n      <th>2024-03-31 14:00:00</th>\n      <td>3.6467</td>\n      <td>3.6610</td>\n      <td>3.6399</td>\n      <td>3.6606</td>\n      <td>2648.0</td>\n    </tr>\n    <tr>\n      <th>2024-03-31 14:15:00</th>\n      <td>3.6606</td>\n      <td>3.6624</td>\n      <td>3.6501</td>\n      <td>3.6618</td>\n      <td>454.0</td>\n    </tr>\n    <tr>\n      <th>2024-03-31 14:30:00</th>\n      <td>3.6618</td>\n      <td>3.6651</td>\n      <td>3.6609</td>\n      <td>3.6625</td>\n      <td>4822.0</td>\n    </tr>\n    <tr>\n      <th>2024-03-31 14:45:00</th>\n      <td>3.6625</td>\n      <td>3.6625</td>\n      <td>3.6502</td>\n      <td>3.6602</td>\n      <td>1223.0</td>\n    </tr>\n    <tr>\n      <th>2024-03-31 15:00:00</th>\n      <td>3.6602</td>\n      <td>3.6733</td>\n      <td>3.6522</td>\n      <td>3.6733</td>\n      <td>3480.0</td>\n    </tr>\n    <tr>\n      <th>2024-03-31 15:15:00</th>\n      <td>3.6733</td>\n      <td>3.6733</td>\n      <td>3.6550</td>\n      <td>3.6604</td>\n      <td>15186.0</td>\n    </tr>\n    <tr>\n      <th>2024-03-31 15:30:00</th>\n      <td>3.6604</td>\n      <td>3.6779</td>\n      <td>3.6604</td>\n      <td>3.6683</td>\n      <td>15846.0</td>\n    </tr>\n    <tr>\n      <th>2024-03-31 15:45:00</th>\n      <td>3.6683</td>\n      <td>3.6726</td>\n      <td>3.6642</td>\n      <td>3.6648</td>\n      <td>873.0</td>\n    </tr>\n    <tr>\n      <th>2024-03-31 16:00:00</th>\n      <td>3.6648</td>\n      <td>3.6821</td>\n      <td>3.6616</td>\n      <td>3.6773</td>\n      <td>1307.0</td>\n    </tr>\n    <tr>\n      <th>2024-03-31 16:15:00</th>\n      <td>3.6773</td>\n      <td>3.6914</td>\n      <td>3.6712</td>\n      <td>3.6742</td>\n      <td>1762.0</td>\n    </tr>\n    <tr>\n      <th>2024-03-31 16:30:00</th>\n      <td>3.6742</td>\n      <td>3.6800</td>\n      <td>3.6696</td>\n      <td>3.6758</td>\n      <td>5289.0</td>\n    </tr>\n    <tr>\n      <th>2024-03-31 16:45:00</th>\n      <td>3.6758</td>\n      <td>3.6789</td>\n      <td>3.6699</td>\n      <td>3.6775</td>\n      <td>650.0</td>\n    </tr>\n    <tr>\n      <th>2024-03-31 17:00:00</th>\n      <td>3.6775</td>\n      <td>3.6848</td>\n      <td>3.6732</td>\n      <td>3.6759</td>\n      <td>31841.0</td>\n    </tr>\n    <tr>\n      <th>2024-03-31 17:15:00</th>\n      <td>3.6759</td>\n      <td>3.6773</td>\n      <td>3.6664</td>\n      <td>3.6721</td>\n      <td>3546.0</td>\n    </tr>\n    <tr>\n      <th>2024-03-31 17:30:00</th>\n      <td>3.6721</td>\n      <td>3.6721</td>\n      <td>3.6581</td>\n      <td>3.6625</td>\n      <td>15180.0</td>\n    </tr>\n    <tr>\n      <th>2024-03-31 17:45:00</th>\n      <td>3.6625</td>\n      <td>3.6805</td>\n      <td>3.6611</td>\n      <td>3.6800</td>\n      <td>6876.0</td>\n    </tr>\n    <tr>\n      <th>2024-03-31 18:00:00</th>\n      <td>3.6800</td>\n      <td>3.6800</td>\n      <td>3.6671</td>\n      <td>3.6711</td>\n      <td>11347.0</td>\n    </tr>\n    <tr>\n      <th>2024-03-31 18:15:00</th>\n      <td>3.6711</td>\n      <td>3.6774</td>\n      <td>3.6656</td>\n      <td>3.6704</td>\n      <td>4531.0</td>\n    </tr>\n    <tr>\n      <th>2024-03-31 18:30:00</th>\n      <td>3.6704</td>\n      <td>3.6916</td>\n      <td>3.6671</td>\n      <td>3.6901</td>\n      <td>9531.0</td>\n    </tr>\n    <tr>\n      <th>2024-03-31 18:45:00</th>\n      <td>3.6901</td>\n      <td>3.7004</td>\n      <td>3.6805</td>\n      <td>3.6850</td>\n      <td>13885.0</td>\n    </tr>\n    <tr>\n      <th>2024-03-31 19:00:00</th>\n      <td>3.6850</td>\n      <td>3.6918</td>\n      <td>3.6718</td>\n      <td>3.6867</td>\n      <td>7867.0</td>\n    </tr>\n    <tr>\n      <th>2024-03-31 19:15:00</th>\n      <td>3.6867</td>\n      <td>3.6935</td>\n      <td>3.6844</td>\n      <td>3.6864</td>\n      <td>2312.0</td>\n    </tr>\n    <tr>\n      <th>2024-03-31 19:30:00</th>\n      <td>3.6864</td>\n      <td>3.6870</td>\n      <td>3.6750</td>\n      <td>3.6854</td>\n      <td>1858.0</td>\n    </tr>\n    <tr>\n      <th>2024-03-31 19:45:00</th>\n      <td>3.6854</td>\n      <td>3.6870</td>\n      <td>3.6796</td>\n      <td>3.6847</td>\n      <td>15390.0</td>\n    </tr>\n    <tr>\n      <th>2024-03-31 20:00:00</th>\n      <td>3.6847</td>\n      <td>3.6954</td>\n      <td>3.6847</td>\n      <td>3.6940</td>\n      <td>3531.0</td>\n    </tr>\n    <tr>\n      <th>2024-03-31 20:15:00</th>\n      <td>3.6940</td>\n      <td>3.6983</td>\n      <td>3.6852</td>\n      <td>3.6877</td>\n      <td>1977.0</td>\n    </tr>\n    <tr>\n      <th>2024-03-31 20:30:00</th>\n      <td>3.6877</td>\n      <td>3.6932</td>\n      <td>3.6822</td>\n      <td>3.6850</td>\n      <td>1932.0</td>\n    </tr>\n    <tr>\n      <th>2024-03-31 20:45:00</th>\n      <td>3.6850</td>\n      <td>3.6940</td>\n      <td>3.6848</td>\n      <td>3.6852</td>\n      <td>2431.0</td>\n    </tr>\n    <tr>\n      <th>2024-03-31 21:00:00</th>\n      <td>3.6852</td>\n      <td>3.6940</td>\n      <td>3.6773</td>\n      <td>3.6928</td>\n      <td>3512.0</td>\n    </tr>\n    <tr>\n      <th>2024-03-31 21:15:00</th>\n      <td>3.6928</td>\n      <td>3.6933</td>\n      <td>3.6731</td>\n      <td>3.6746</td>\n      <td>2447.0</td>\n    </tr>\n    <tr>\n      <th>2024-03-31 21:30:00</th>\n      <td>3.6746</td>\n      <td>3.6815</td>\n      <td>3.6617</td>\n      <td>3.6749</td>\n      <td>16660.0</td>\n    </tr>\n    <tr>\n      <th>2024-03-31 21:45:00</th>\n      <td>3.6749</td>\n      <td>3.6749</td>\n      <td>3.6582</td>\n      <td>3.6615</td>\n      <td>2426.0</td>\n    </tr>\n    <tr>\n      <th>2024-03-31 22:00:00</th>\n      <td>3.6615</td>\n      <td>3.6621</td>\n      <td>3.6615</td>\n      <td>3.6621</td>\n      <td>5.0</td>\n    </tr>\n  </tbody>\n</table>\n</div>"
     },
     "execution_count": 56,
     "metadata": {},
     "output_type": "execute_result"
    }
   ],
   "source": [
    "ohlc_history = mexc.fetch_ohlcv(\n",
    "    symbol=PAIR, timeframe=TIMEFRAME, limit=51\n",
    ")\n",
    "df = pd.DataFrame(ohlc_history, columns=['timestamp', 'open', 'high', 'low', 'close', 'volume'])\n",
    "\n",
    "# Converting timestamp to datetime and setting as index\n",
    "df['timestamp'] = pd.to_datetime(df['timestamp'], unit='ms')\n",
    "df.set_index('timestamp', inplace=True)\n",
    "df"
   ],
   "metadata": {
    "collapsed": false,
    "ExecuteTime": {
     "end_time": "2024-03-31T22:00:13.532366Z",
     "start_time": "2024-03-31T22:00:12.502542Z"
    }
   }
  },
  {
   "cell_type": "code",
   "execution_count": null,
   "outputs": [],
   "source": [
    "def get_exchange_client(exchange_name: str):\n",
    "    if exchange_name == \"mexc\":\n",
    "        return ccxt.mexc()\n",
    "    if exchange_name == \"bybit\":\n",
    "        return ccxt.bybit()\n",
    "\n",
    "def get_symbol_data(pair, timeframe: str, params: dict, client):\n",
    "    data = client.fetch_ohlcv(symbol=pair, timeframe=timeframe, limit=params[\"slow_ma\"])\n",
    "    return data\n",
    "\n",
    "def get_symbol_data_df(pair, timeframe: str, since: datetime, client):\n",
    "    data = get_symbol_data(pair, timeframe, since, client)\n",
    "    df = pd.DataFrame(data, columns=['timestamp', 'open', 'high', 'low', 'close', 'volume'])\n",
    "    df['timestamp'] = pd.to_datetime(df['timestamp'], unit='ms')\n",
    "    df.set_index('timestamp', inplace=True)\n",
    "    return df\n",
    "\n",
    "def build_indicators(df: pd.DataFrame, params: dict):\n",
    "    df['fast_ma'] = ta.trend.sma_indicator(close=df[\"close\"], window=params[\"fast_ma\"])\n",
    "    df['slow_ma'] = ta.trend.sma_indicator(close=df[\"close\"], window=params[\"slow_ma\"])\n",
    "    df[\"rsi\"] = ta.momentum.RSIIndicator(close=df[\"close\"]).rsi()\n",
    "    df['mrat'] = df['fast_ma'] / df['slow_ma']\n",
    "    df['mean_mrat'] = ta.trend.sma_indicator(close=df['mrat'], window=params[\"mean_mrat_lenght\"])\n",
    "    df['stdev_mrat'] = df['mrat'].rolling(params[\"mean_mrat_lenght\"]).std(ddof=0)\n",
    "    df['open_long_signal'] = (\n",
    "        df['mean_mrat'].shift(1) - df['mrat'].shift(1) >= params['sigma_open'] * df['stdev_mrat'].shift(1)\n",
    "    )\n",
    "    df['close_long_signal'] = (\n",
    "        df['mrat'].shift(1) - df['mean_mrat'].shift(1) >= params['sigma_close'] * df['stdev_mrat'].shift(1)\n",
    "    )\n",
    "    return df\n"
   ],
   "metadata": {
    "collapsed": false
   }
  },
  {
   "cell_type": "code",
   "execution_count": null,
   "outputs": [],
   "source": [
    "client = get_exchange_client(\"mexc\")\n",
    "is_order_open = False\n",
    "wallet = WALLET\n",
    "\n",
    "# Order info\n",
    "order_id = None\n",
    "position_id = None\n",
    "order_start_ts = None\n",
    "order_close_ts = None\n",
    "open_order_price = 0\n",
    "open_close_price = 0\n",
    "open_order_vol = 0\n",
    "order_profit = 0\n",
    "\n",
    "while True:\n",
    "    df_init = get_symbol_data_df(PAIR, TIMEFRAME, params[\"slow_ma\"]+1, client)\n",
    "    df = build_indicators(df_init, params)\n",
    "    current_ohlc = df.iloc[-1, :]\n",
    "    if current_ohlc[\"open_long_signal\"] and not is_order_open:\n",
    "        open_order_vol = wallet * LEVERAGE / current_ohlc[\"open_long_signal\"][\"open\"]\n",
    "        response = mexc_private.place_order(\n",
    "            MEXC_TOKEN, open_order_vol, OrderSide.OPEN_LONG, LEVERAGE, MEXC_TOKEN\n",
    "        )\n",
    "        if response[\"success\"]:\n",
    "            data = response[\"data\"]\n",
    "            order_id = response[\"orderId\"]\n",
    "            position_id = response[\"positionId\"]\n",
    "            order_open_price = response[\"price\"]\n",
    "            order_start_ts = response[\"createTime\"]\n",
    "            is_order_open = True\n",
    "    elif current_ohlc[\"close_long_signal\"] and is_order_open:\n",
    "        response = mexc_private.place_order(\n",
    "            MEXC_TOKEN, open_order_vol, OrderSide.OPEN_LONG, LEVERAGE, MEXC_TOKEN\n",
    "        )\n",
    "        if response[\"success\"]:\n",
    "            data = response[\"data\"]\n",
    "            order_close_price = data[\"price\"]\n",
    "            order_profit = data[\"profit\"]\n",
    "            order_end_ts = data[\"createTime\"]\n",
    "            is_order_open = False\n",
    "\n",
    "\n",
    "    time.sleep(1/5)"
   ],
   "metadata": {
    "collapsed": false
   }
  },
  {
   "cell_type": "code",
   "execution_count": 6,
   "outputs": [],
   "source": [
    "response = await mexc_private.place_order(\n",
    "            PAIR, 1, OrderSide.OPEN_LONG, LEVERAGE, MEXC_TOKEN\n",
    "        )"
   ],
   "metadata": {
    "collapsed": false,
    "ExecuteTime": {
     "end_time": "2024-03-31T20:32:57.862638Z",
     "start_time": "2024-03-31T20:32:56.725431Z"
    }
   }
  },
  {
   "cell_type": "code",
   "execution_count": 7,
   "outputs": [
    {
     "data": {
      "text/plain": "{'success': True,\n 'code': 0,\n 'data': {'orderId': '529517362448033282',\n  'symbol': 'API3_USDT',\n  'positionId': 394295774,\n  'price': 3.6885,\n  'priceStr': '3.6885',\n  'vol': 1,\n  'leverage': 2,\n  'side': 1,\n  'category': 1,\n  'orderType': 5,\n  'dealAvgPrice': 3.6885,\n  'dealAvgPriceStr': '3.6885',\n  'dealVol': 1,\n  'orderMargin': 1.8457254,\n  'takerFee': 0.0007377,\n  'makerFee': 0,\n  'profit': 0,\n  'feeCurrency': 'USDT',\n  'openType': 1,\n  'state': 3,\n  'externalOid': '_m_f0074b76e3be43c2921a244f56899d3a',\n  'errorCode': 0,\n  'usedMargin': 1.8457254,\n  'createTime': 1711917177109,\n  'updateTime': 1711917177167,\n  'positionMode': 1,\n  'version': 2,\n  'showCancelReason': 0,\n  'showProfitRateShare': 0}}"
     },
     "execution_count": 7,
     "metadata": {},
     "output_type": "execute_result"
    }
   ],
   "source": [
    "response\n",
    "order_id = response[\"orderId\"]\n",
    "position_id = response[\"positionId\"]\n",
    "order_open_price = response[\"price\"]\n",
    "order_start_ts = response[\"createTime\"]"
   ],
   "metadata": {
    "collapsed": false,
    "ExecuteTime": {
     "end_time": "2024-03-31T20:32:58.718509Z",
     "start_time": "2024-03-31T20:32:58.708799Z"
    }
   }
  },
  {
   "cell_type": "code",
   "execution_count": 8,
   "outputs": [],
   "source": [
    "response = await mexc_private.place_order(\n",
    "            PAIR, 1, OrderSide.CLOSE_LONG, LEVERAGE, MEXC_TOKEN\n",
    "        )"
   ],
   "metadata": {
    "collapsed": false,
    "ExecuteTime": {
     "end_time": "2024-03-31T20:33:46.421614Z",
     "start_time": "2024-03-31T20:33:45.114693Z"
    }
   }
  },
  {
   "cell_type": "code",
   "execution_count": 12,
   "outputs": [],
   "source": [
    "response\n",
    "data = response[\"data\"]\n",
    "order_open_price = data[\"price\"]\n",
    "profit = data[\"profit\"]\n",
    "order_end_ts = data[\"createTime\"]"
   ],
   "metadata": {
    "collapsed": false,
    "ExecuteTime": {
     "end_time": "2024-03-31T20:40:46.546801Z",
     "start_time": "2024-03-31T20:40:46.526615Z"
    }
   }
  },
  {
   "cell_type": "code",
   "execution_count": 42,
   "outputs": [],
   "source": [
    "order_end_date = datetime.utcfromtimestamp(order_end_ts / 1000)"
   ],
   "metadata": {
    "collapsed": false,
    "ExecuteTime": {
     "end_time": "2024-03-31T20:47:38.210574Z",
     "start_time": "2024-03-31T20:47:38.204399Z"
    }
   }
  },
  {
   "cell_type": "code",
   "execution_count": 43,
   "outputs": [
    {
     "data": {
      "text/plain": "datetime.datetime(2024, 3, 31, 20, 33, 45, 915000)"
     },
     "execution_count": 43,
     "metadata": {},
     "output_type": "execute_result"
    }
   ],
   "source": [
    "order_end_date"
   ],
   "metadata": {
    "collapsed": false,
    "ExecuteTime": {
     "end_time": "2024-03-31T20:47:38.611297Z",
     "start_time": "2024-03-31T20:47:38.605133Z"
    }
   }
  },
  {
   "cell_type": "code",
   "execution_count": 9,
   "outputs": [
    {
     "ename": "TypeError",
     "evalue": "ModelMetaclass object got multiple values for keyword argument 'order_id'",
     "output_type": "error",
     "traceback": [
      "\u001B[0;31m---------------------------------------------------------------------------\u001B[0m",
      "\u001B[0;31mTypeError\u001B[0m                                 Traceback (most recent call last)",
      "Cell \u001B[0;32mIn[9], line 16\u001B[0m\n\u001B[1;32m     13\u001B[0m params \u001B[38;5;241m=\u001B[39m {\u001B[38;5;124m\"\u001B[39m\u001B[38;5;124morder_id\u001B[39m\u001B[38;5;124m\"\u001B[39m: \u001B[38;5;241m1\u001B[39m, \u001B[38;5;124m\"\u001B[39m\u001B[38;5;124mposition_id\u001B[39m\u001B[38;5;124m\"\u001B[39m: \u001B[38;5;241m2\u001B[39m, \u001B[38;5;124m\"\u001B[39m\u001B[38;5;124mopen_price\u001B[39m\u001B[38;5;124m\"\u001B[39m:\u001B[38;5;241m3\u001B[39m}\n\u001B[1;32m     15\u001B[0m order \u001B[38;5;241m=\u001B[39m Order(\u001B[38;5;241m*\u001B[39m\u001B[38;5;241m*\u001B[39mparams)\n\u001B[0;32m---> 16\u001B[0m orders \u001B[38;5;241m=\u001B[39m Orders(\u001B[38;5;241m*\u001B[39m\u001B[38;5;241m*\u001B[39morder\u001B[38;5;241m.\u001B[39mdict(), \u001B[38;5;241m*\u001B[39m\u001B[38;5;241m*\u001B[39morder\u001B[38;5;241m.\u001B[39mdict())\n",
      "\u001B[0;31mTypeError\u001B[0m: ModelMetaclass object got multiple values for keyword argument 'order_id'"
     ]
    }
   ],
   "source": [
    "from pydantic import BaseModel\n",
    "\n",
    "class Order(BaseModel):\n",
    "    order_id: int\n",
    "    position_id: int\n",
    "    open_price: int\n",
    "\n",
    "class Orders(BaseModel):\n",
    "    order_a : Order\n",
    "    order_b : Order\n",
    "\n",
    "\n",
    "params = {\"order_id\": 1, \"position_id\": 2, \"open_price\":3}\n",
    "\n",
    "order = Order(**params)\n",
    "orders = Orders(**order.dict(), **order.dict())"
   ],
   "metadata": {
    "collapsed": false,
    "ExecuteTime": {
     "end_time": "2024-06-20T21:19:50.156228Z",
     "start_time": "2024-06-20T21:19:50.130089Z"
    }
   }
  },
  {
   "cell_type": "code",
   "execution_count": 28,
   "outputs": [],
   "source": [
    "from enum import Enum\n",
    "from pydantic import BaseModel\n",
    "\n",
    "\n",
    "class StrategyId(Enum):\n",
    "    MRAT = \"mrat\"\n",
    "    NADARAYA_WATSON_ENVELOPE = \"nadaraya_watson_envelope\"\n",
    "\n",
    "    @classmethod\n",
    "    def get_supported_strategies(cls):\n",
    "        return [strategy.value for strategy in cls]\n",
    "\n",
    "    @classmethod\n",
    "    def validate_strategy(cls, strategy):\n",
    "        if strategy in cls.get_supported_strategies():\n",
    "            return strategy\n",
    "        else:\n",
    "            raise ValueError(\n",
    "                f\"Unsupported strategy '{strategy}'. Supported strategies are: {', '.join(cls.get_supported_strategies())}\"\n",
    "            )\n",
    "\n",
    "\n",
    "class StrategyOrderType(Enum):\n",
    "    OPEN = \"open\"\n",
    "    CLOSE = \"close\"\n",
    "    LONG_SHORT = \"long_short\"\n",
    "\n",
    "\n",
    "class StrategyParams(BaseModel):\n",
    "    order_type: str\n",
    "    leverage: int\n",
    "    start_amount: int\n",
    "    equity_invest_ptc: float\n",
    "    ohlcv_window: int\n",
    "\n",
    "\n",
    "class MRATParams(StrategyParams):\n",
    "    id: StrategyId = StrategyId.MRAT\n",
    "    fast_ma: int\n",
    "    slow_ma: int\n",
    "    open_std_alpha: float\n",
    "    close_std_alpha: float\n",
    "    tp_pct: float\n",
    "\n",
    "class NadarayaWatsonEnvelopeParams(StrategyParams):\n",
    "    id: StrategyId = StrategyId.NADARAYA_WATSON_ENVELOPE\n",
    "    lookback_window: int\n",
    "    relative_weighting: float\n",
    "    start_regression_bar: int\n"
   ],
   "metadata": {
    "collapsed": false,
    "ExecuteTime": {
     "end_time": "2024-06-21T11:00:54.834339Z",
     "start_time": "2024-06-21T11:00:54.814508Z"
    }
   }
  },
  {
   "cell_type": "code",
   "execution_count": 29,
   "outputs": [],
   "source": [
    "params = {\n",
    "    \"equity_invest_ptc\": 1,\n",
    "    \"order_type\": \"long\",\n",
    "    \"leverage\": 2,\n",
    "    \"start_amount\": 500,\n",
    "    \"ohlcv_window\": 51,\n",
    "    \"fast_ma\": 7,\n",
    "    \"slow_ma\": 50,\n",
    "    \"open_std_alpha\": 2.22,\n",
    "    \"close_std_alpha\": 2.22,\n",
    "    \"tp_pct\" : 0.06\n",
    "}"
   ],
   "metadata": {
    "collapsed": false,
    "ExecuteTime": {
     "end_time": "2024-06-21T11:00:55.629595Z",
     "start_time": "2024-06-21T11:00:55.621765Z"
    }
   }
  },
  {
   "cell_type": "code",
   "execution_count": 34,
   "outputs": [],
   "source": [
    "strat = MRATParams(**params)"
   ],
   "metadata": {
    "collapsed": false,
    "ExecuteTime": {
     "end_time": "2024-06-21T11:01:35.895278Z",
     "start_time": "2024-06-21T11:01:35.892172Z"
    }
   }
  },
  {
   "cell_type": "code",
   "execution_count": 36,
   "outputs": [
    {
     "data": {
      "text/plain": "2"
     },
     "execution_count": 36,
     "metadata": {},
     "output_type": "execute_result"
    }
   ],
   "source": [
    "strat.leverage"
   ],
   "metadata": {
    "collapsed": false,
    "ExecuteTime": {
     "end_time": "2024-06-21T11:01:43.431995Z",
     "start_time": "2024-06-21T11:01:43.429066Z"
    }
   }
  },
  {
   "cell_type": "code",
   "execution_count": null,
   "outputs": [],
   "source": [],
   "metadata": {
    "collapsed": false
   }
  }
 ],
 "metadata": {
  "kernelspec": {
   "display_name": "Python 3",
   "language": "python",
   "name": "python3"
  },
  "language_info": {
   "codemirror_mode": {
    "name": "ipython",
    "version": 2
   },
   "file_extension": ".py",
   "mimetype": "text/x-python",
   "name": "python",
   "nbconvert_exporter": "python",
   "pygments_lexer": "ipython2",
   "version": "2.7.6"
  }
 },
 "nbformat": 4,
 "nbformat_minor": 0
}
