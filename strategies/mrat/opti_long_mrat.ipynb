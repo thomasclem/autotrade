{
 "cells": [
  {
   "cell_type": "code",
   "execution_count": 512,
   "metadata": {
    "collapsed": true,
    "ExecuteTime": {
     "end_time": "2024-03-21T19:52:50.902493Z",
     "start_time": "2024-03-21T19:52:50.902046Z"
    }
   },
   "outputs": [],
   "source": [
    "import json\n",
    "import sys\n",
    "sys.path.append('../..')\n",
    "import pandas as pd\n",
    "import ta\n",
    "from utilities.data_manager import ExchangeDataManager\n",
    "pd.options.mode.chained_assignment = None  # default='warn'\n"
   ]
  },
  {
   "cell_type": "code",
   "execution_count": 603,
   "outputs": [],
   "source": [
    "class Strategy():\n",
    "    def __init__(\n",
    "        self,\n",
    "        pair,\n",
    "        type=[\"long\"],\n",
    "        params={},\n",
    "    ):\n",
    "        self.df_pair = None\n",
    "        self.df = None\n",
    "        self.pair = pair\n",
    "        self.initial_wallet = 1000\n",
    "        self.use_long = \"long\" in type\n",
    "        self.use_short = \"short\" in type\n",
    "        self.params = params\n",
    "        self.result_df = None\n",
    "\n",
    "    def get_pair_data(self, timeframe, start = 2050, end = 2050):\n",
    "        exchange = ExchangeDataManager(\n",
    "            exchange_name=exchange_name,\n",
    "            path_download=\"./database/exchanges\"\n",
    "        )\n",
    "\n",
    "        self.df_pair = exchange.load_data(self.pair, timeframe, start, end)\n",
    "\n",
    "    def populate_indicators2(self):\n",
    "        params = self.params\n",
    "        df = self.df_pair.copy()\n",
    "        df.drop(\n",
    "            columns=df.columns.difference(['open','high','low','close','volume']),\n",
    "            inplace=True\n",
    "        )\n",
    "        df['fast_ma'] = ta.trend.sma_indicator(close=df[\"close\"], window=params[\"fast_ma\"])\n",
    "        df['slow_ma'] = ta.trend.sma_indicator(close=df[\"close\"], window=params[\"slow_ma\"])\n",
    "        df['mrat'] = df['fast_ma'] / df['slow_ma']\n",
    "        df['mean_mrat'] = ta.trend.sma_indicator(close=df['mrat'], window=params[\"mean_mrat_lenght\"])\n",
    "        df['stdev_mrat'] = df['mrat'].rolling(params[\"mean_mrat_lenght\"]).std(ddof=0)\n",
    "        df['open_long_signal'] = df['mean_mrat'].shift(1) - df['mrat'].shift(1) >= params['sigma_open'] * df['stdev_mrat'].shift(1)\n",
    "        df['close_long_signal'] = df['mrat'].shift(1) - df['mean_mrat'].shift(1) >= params['sigma_close'] * df['stdev_mrat'].shift(1)\n",
    "\n",
    "        df_signal = df.loc[\n",
    "            df[\"open_long_signal\"] | df[\"close_long_signal\"],\n",
    "            [\"open_long_signal\", \"close_long_signal\",\"open\", \"close\"]\n",
    "        ]\n",
    "        df_signal[\"open_signal_lag\"] = df_signal[\"open_long_signal\"].shift(fill_value=False)\n",
    "        df_signal[\"close_signal_lag\"] = df_signal[\"close_long_signal\"].shift(fill_value=False)\n",
    "        df_first_signal  = df_signal[\n",
    "            (~ df_signal[\"open_signal_lag\"] & (df_signal[\"open_long_signal\"] | df_signal[\"open_long_signal\"].isnull())) |\n",
    "            (~ df_signal[\"close_signal_lag\"] & df_signal[\"close_long_signal\"])\n",
    "         ]\n",
    "        df_first_signal[\"open_signal_lag\"] = df_first_signal[\"open_long_signal\"].shift(fill_value=False)\n",
    "        df_first_signal[\"close_signal_lag\"] = df_first_signal[\"close_long_signal\"].shift(fill_value=False)\n",
    "\n",
    "        df_order_tmp = df_first_signal[\n",
    "            (df_first_signal[\"open_long_signal\"] & (~df_first_signal[\"open_signal_lag\"] | df_first_signal[\"open_long_signal\"].isnull())) |\n",
    "            (df_first_signal[\"close_long_signal\"] & ~ df_first_signal[\"close_signal_lag\"])\n",
    "        ]\n",
    "        df_order = df_order_tmp.loc[\n",
    "            ~ ( ~ df_order_tmp[\"close_signal_lag\"] & ~ df_order_tmp[\"open_signal_lag\"] & df_order_tmp[\"close_long_signal\"])\n",
    "        ]\n",
    "        df_order[\"order_number\"] = df_order[\"open_long_signal\"].cumsum()\n",
    "        df_order[\"open_lag\"] = df_order[\"open\"].shift(-1)\n",
    "        df_order[\"open_order\"] = df_order[\"open\"].shift()\n",
    "        df_order.loc[df_order[\"open_long_signal\"], \"open_order\"] = df_order.loc[df_order[\"open_long_signal\"], \"open\"]\n",
    "        df_pair = df[[\"open\", \"close\", \"low\", \"high\", \"mrat\", \"mean_mrat\", \"stdev_mrat\", \"open_long_signal\", \"close_long_signal\"]]\n",
    "\n",
    "        leverage = params[\"leverage\"]  # Fixed leverage\n",
    "        maintenance_margin_percent = 0.004\n",
    "        wallet = 1000  # Initial wallet balance\n",
    "        quantity = 0  # Initial quantity\n",
    "\n",
    "        # Ensure the DataFrame has 'quantity' and 'trade_result' columns initialized\n",
    "        df_order['quantity'] = 0.0\n",
    "        df_order['trade_result'] = 0.0\n",
    "        df_order['trade_result_pct'] = 0.0\n",
    "\n",
    "        # Iterating over DataFrame rows to process trading signals\n",
    "        for i, row in df_order.iterrows():\n",
    "            # Check if there is a signal to open a long position\n",
    "            if row['open_long_signal']:\n",
    "                # Calculate the new quantity based on the current wallet and leverage\n",
    "                quantity = wallet * leverage / row['open']\n",
    "                # Update the 'quantity' column with the new quantity\n",
    "                df_order.at[i, 'quantity'] = quantity\n",
    "                # No change in wallet yet as the position has just opened\n",
    "                df_order.at[i, 'wallet'] = wallet\n",
    "                # Track the price at which the position was opened\n",
    "                open = row['open']\n",
    "            elif row['close_long_signal']:\n",
    "                # Calculate the trade result based on the difference between current and open price\n",
    "                trade_result = (row['open'] - open) * quantity\n",
    "                # Update the 'trade_result' column with the result of the closed trade\n",
    "                df_order.at[i, 'trade_result'] = trade_result\n",
    "                df_order.at[i, 'trade_result_pct'] = trade_result / wallet * 100\n",
    "                # Update the wallet with the result of the trade\n",
    "                wallet += trade_result\n",
    "                # Reset quantity as the trade is closed\n",
    "                df_order.at[i, 'quantity'] = quantity\n",
    "                quantity = 0\n",
    "\n",
    "            # Update the wallet and quantity for the current row\n",
    "            df_order.at[i, 'wallet'] = wallet\n",
    "\n",
    "        df_order_tmp = df_order[\n",
    "            [\"order_number\", \"quantity\", \"trade_result\", \"trade_result_pct\", \"wallet\", \"open_order\"]\n",
    "        ]\n",
    "        df_order_final = df_pair.join(df_order_tmp)\n",
    "\n",
    "        f = df_order_final['order_number'].ffill()\n",
    "        b = df_order_final['order_number'].bfill()\n",
    "\n",
    "        df_order_final['order_number'] = df_order_final['order_number'].mask(f == b, f)\n",
    "\n",
    "        f = df_order_final['open_order'].ffill()\n",
    "        b = df_order_final['open_order'].bfill()\n",
    "\n",
    "        df_order_final['open_order'] = df_order_final['open_order'].mask(f == b, f)\n",
    "        df_order_final['wallet'] = df_order_final['wallet'].ffill()\n",
    "        #df_order_final[\"hypothetical_wallet\"] = df_order_final[\"wallet\"] + df_order_final[\"quantity\"] * (df_order_final['open'] - df_order_final[\"open_order\"])\n",
    "        df_order_final[\"hypothetical_wallet\"] = df_order_final[\"wallet\"].shift() + df_order_final[\"quantity\"] * (df_order_final['open'] - df_order_final[\"open_order\"])\n",
    "        df_order_final[\"hypothetical_low_result\"] =  ((df_order_final[\"quantity\"] * df_order_final[\"low\"]) - df_order_final[\"wallet\"]) / df_order_final[\"wallet\"]\n",
    "        df_order_final[\"drawdown\"] = (df_order_final[\"low\"] - df_order_final[\"open_order\"]) / df_order_final[\"open_order\"] * 100 * leverage\n",
    "        df_order_final[\"is_liquidated\"] = df_order_final['hypothetical_wallet'] < (df_order_final[\"wallet\"] / leverage) * maintenance_margin_percent\n",
    "\n",
    "        self.df = df_order_final\n",
    "\n",
    "\n",
    "    def populate_indicators(self):\n",
    "        params = self.params\n",
    "        df = self.df_pair.copy()\n",
    "        df.drop(\n",
    "            columns=df.columns.difference(['open','high','low','close','volume']),\n",
    "            inplace=True\n",
    "        )\n",
    "\n",
    "        # -- Populate indicators --\n",
    "        df['fast_ma'] = ta.trend.sma_indicator(close=df[\"close\"], window=params[\"fast_ma\"])\n",
    "        df['slow_ma'] = ta.trend.sma_indicator(close=df[\"close\"], window=params[\"slow_ma\"])\n",
    "        df['mrat'] = df['fast_ma'] / df['slow_ma']\n",
    "        df['mean_mrat'] = ta.trend.sma_indicator(close=df['mrat'], window=params[\"mean_mrat_lenght\"])\n",
    "        df['stdev_mrat'] = df['mrat'].rolling(params[\"mean_mrat_lenght\"]).std(ddof=0)\n",
    "        df['open_long_signal'] = df['mean_mrat'].shift(1) - df['mrat'].shift(1) >= params['sigma_open'] * df['stdev_mrat'].shift(1)\n",
    "        df['close_long_signal'] = df['mrat'].shift(1) - df['mean_mrat'].shift(1) >= params['sigma_close'] * df['stdev_mrat'].shift(1)\n",
    "\n",
    "        df[\"is_liquidated\"] = False\n",
    "        df[\"order_open\"] = False\n",
    "        # Trading logic\n",
    "        order_open = False\n",
    "        current_order_number = 0\n",
    "        open_price = 0\n",
    "        quantity = 0\n",
    "        trade_result = 0\n",
    "        # Constants and Initialization\n",
    "        initial_wallet = self.initial_wallet\n",
    "        leverage = params[\"leverage\"]  # Fixed leverage\n",
    "        maintenance_margin_percent = 0.004\n",
    "        wallet = initial_wallet\n",
    "        max_equity = initial_wallet  # To track the max equity before a new trade\n",
    "        max_drawdown = 0\n",
    "\n",
    "        for i in df.index:\n",
    "            if df.loc[i, 'open_long_signal'] and not order_open:\n",
    "                # Open a new order\n",
    "                current_order_number += 1\n",
    "                order_open = True\n",
    "                open_price = df.loc[i, 'open']\n",
    "                open_wallet = df.loc[i, 'wallet']\n",
    "                quantity = (wallet / open_price) * leverage\n",
    "                df.loc[i, 'order_number'] = current_order_number\n",
    "                df.loc[i, 'order_open'] = order_open\n",
    "\n",
    "            # Assign order_number to all rows of the current order\n",
    "            if order_open:\n",
    "                df.loc[i, 'order_number'] = current_order_number\n",
    "                df.loc[i, 'order_open'] = order_open\n",
    "                # Calculate hypothetical_wallet\n",
    "                hypothetical_wallet = wallet + quantity * (df.loc[i, 'open'] - open_price)\n",
    "                df.loc[i, 'hypothetical_wallet'] = hypothetical_wallet\n",
    "                df.loc[i, 'quantity'] = quantity\n",
    "\n",
    "                # Check for liquidation\n",
    "                maintenance_margin = (wallet / leverage) * maintenance_margin_percent\n",
    "                if hypothetical_wallet < maintenance_margin:\n",
    "                    df.loc[i, 'is_liquidated'] = True\n",
    "                    df.loc[i, 'trade_result'] = hypothetical_wallet - wallet\n",
    "                    wallet = 0  # Update wallet with the loss\n",
    "                    order_open = False  # Close the order\n",
    "\n",
    "            # Close the order\n",
    "            if df.loc[i, 'close_long_signal'] and order_open:\n",
    "                trade_result = quantity * (df.loc[i, 'open'] - open_price)\n",
    "                trade_result_perc = trade_result / wallet * 100\n",
    "                wallet += trade_result  # Update wallet with the profit or loss\n",
    "                order_open = False  # Close the order\n",
    "                df.loc[i, 'trade_result'] = trade_result\n",
    "                df.loc[i, 'trade_result_perc'] = trade_result_perc\n",
    "\n",
    "            # Set wallet to current wallet value\n",
    "            df.loc[i, 'wallet'] = wallet\n",
    "\n",
    "        df[\"drawdown\"] = (df[\"hypothetical_wallet\"] - df[\"wallet\"]) / df[\"wallet\"] * 100\n",
    "\n",
    "        self.df = df\n",
    "\n",
    "\n",
    "    def get_result_df(self):\n",
    "        try:\n",
    "            df = self.df\n",
    "            if df is not None:\n",
    "                total_trades = df.order_number.max()\n",
    "                final_wallet_amount = df.loc[df[\"open_long_signal\"], \"wallet\"].tail(1)\n",
    "                total_profit = final_wallet_amount - self.initial_wallet\n",
    "                total_profit_perc = total_profit / self.initial_wallet * 100\n",
    "                avg_trade_profit_perc = df[\"trade_result_pct\"].dropna().mean()\n",
    "                avg_trade_profit = df[\"trade_result\"].dropna().mean()\n",
    "                max_drawdown = df[\"drawdown\"].min()\n",
    "\n",
    "                result_df = pd.DataFrame(\n",
    "                    {\n",
    "                        \"params\": str(self.params),\n",
    "                        \"final_wallet_amount\": final_wallet_amount,\n",
    "                        \"total_profit\": total_profit,\n",
    "                        \"total_profit_perc\": total_profit_perc,\n",
    "                        \"total_trades\": total_trades,\n",
    "                        \"avg_trade_profit_perc\": avg_trade_profit_perc,\n",
    "                        \"avg_trade_profit\": avg_trade_profit,\n",
    "                        \"max_drawdown\": max_drawdown,\n",
    "                    }\n",
    "                )\n",
    "\n",
    "                return result_df\n",
    "            else:\n",
    "                return None\n",
    "        except Exception as e:\n",
    "            print(e)\n",
    "            print(self.params)\n",
    "            return None"
   ],
   "metadata": {
    "collapsed": false,
    "ExecuteTime": {
     "end_time": "2024-03-22T19:56:26.510187Z",
     "start_time": "2024-03-22T19:56:26.378835Z"
    }
   }
  },
  {
   "cell_type": "code",
   "execution_count": 517,
   "outputs": [],
   "source": [
    "params = {\n",
    "    \"fast_ma\": 60,\n",
    "    \"slow_ma\": 60,\n",
    "    \"sigma_open\": 1,\n",
    "    \"sigma_close\": 2.9,\n",
    "    \"mean_mrat_lenght\": 60,\n",
    "    \"leverage\": 1\n",
    "}\n",
    "\n",
    "pair = \"API3/USDT:USDT\"\n",
    "exchange_name = \"binance\"\n",
    "tf = '15m'\n",
    "oldest_pair = \"API3/USDT:USDT\"\n",
    "start_date = \"2023-01-01 00:00:00\"\n",
    "end_date = \"2023-12-31 00:00:00\""
   ],
   "metadata": {
    "collapsed": false,
    "ExecuteTime": {
     "end_time": "2024-03-21T19:53:47.017541Z",
     "start_time": "2024-03-21T19:53:47.013985Z"
    }
   }
  },
  {
   "cell_type": "code",
   "execution_count": 515,
   "outputs": [],
   "source": [
    "strat = Strategy(pair=pair, params=params)\n",
    "strat.get_pair_data(timeframe=tf, start=start_date)\n",
    "df1 = strat.populate_indicators()"
   ],
   "metadata": {
    "collapsed": false,
    "ExecuteTime": {
     "end_time": "2024-03-21T19:53:23.743292Z",
     "start_time": "2024-03-21T19:52:58.650340Z"
    }
   }
  },
  {
   "cell_type": "code",
   "execution_count": null,
   "outputs": [],
   "source": [
    "strat = Strategy(pair=pair, params=params)\n",
    "strat.get_pair_data(timeframe=tf, start=start_date, end=end_date)\n",
    "df2 = strat.populate_indicators2()"
   ],
   "metadata": {
    "collapsed": false
   }
  },
  {
   "cell_type": "markdown",
   "source": [
    "# Check best params result"
   ],
   "metadata": {
    "collapsed": false
   }
  },
  {
   "cell_type": "markdown",
   "source": [
    "## API3"
   ],
   "metadata": {
    "collapsed": false
   }
  },
  {
   "cell_type": "markdown",
   "source": [
    "# TradingView consistence check"
   ],
   "metadata": {
    "collapsed": false
   }
  },
  {
   "cell_type": "code",
   "execution_count": 809,
   "outputs": [],
   "source": [
    "pair = \"API3/USDT:USDT\"\n",
    "exchange_name = \"binance\"\n",
    "tf = '15m'"
   ],
   "metadata": {
    "collapsed": false,
    "ExecuteTime": {
     "end_time": "2024-03-24T21:41:32.260825Z",
     "start_time": "2024-03-24T21:41:32.259223Z"
    }
   }
  },
  {
   "cell_type": "code",
   "execution_count": 810,
   "outputs": [],
   "source": [
    "df_result = pd.read_csv(\"results/API3_binance_15m_2023-01-01_2023-12-31_2.csv\")"
   ],
   "metadata": {
    "collapsed": false,
    "ExecuteTime": {
     "end_time": "2024-03-24T21:41:33.008393Z",
     "start_time": "2024-03-24T21:41:32.607500Z"
    }
   }
  },
  {
   "cell_type": "code",
   "execution_count": 811,
   "outputs": [
    {
     "data": {
      "text/plain": "                       date  \\\n134417  2023-12-27 14:15:00   \n126494  2023-12-27 13:30:00   \n126514  2023-12-27 13:15:00   \n917     2023-12-28 16:00:00   \n134416  2023-12-27 14:15:00   \n126534  2023-12-27 12:45:00   \n126517  2023-12-27 13:15:00   \n134068  2023-12-27 14:15:00   \n104429  2023-12-24 00:15:00   \n134415  2023-12-27 14:15:00   \n118598  2023-12-27 12:15:00   \n134069  2023-12-27 14:15:00   \n126366  2023-12-27 13:15:00   \n916     2023-12-28 16:00:00   \n126537  2023-12-27 12:45:00   \n126497  2023-12-27 13:30:00   \n126516  2023-12-27 13:15:00   \n126496  2023-12-27 13:30:00   \n104026  2023-12-23 23:45:00   \n126498  2023-12-27 13:30:00   \n\n                                                   params  \\\n134417  {'fast_ma': 45, 'slow_ma': 130, 'sigma_open': ...   \n126494  {'fast_ma': 40, 'slow_ma': 130, 'sigma_open': ...   \n126514  {'fast_ma': 40, 'slow_ma': 130, 'sigma_open': ...   \n917     {'fast_ma': 5, 'slow_ma': 60, 'sigma_open': 2....   \n134416  {'fast_ma': 45, 'slow_ma': 130, 'sigma_open': ...   \n126534  {'fast_ma': 40, 'slow_ma': 130, 'sigma_open': ...   \n126517  {'fast_ma': 40, 'slow_ma': 130, 'sigma_open': ...   \n134068  {'fast_ma': 45, 'slow_ma': 125, 'sigma_open': ...   \n104429  {'fast_ma': 30, 'slow_ma': 55, 'sigma_open': 2...   \n134415  {'fast_ma': 45, 'slow_ma': 130, 'sigma_open': ...   \n118598  {'fast_ma': 35, 'slow_ma': 130, 'sigma_open': ...   \n134069  {'fast_ma': 45, 'slow_ma': 125, 'sigma_open': ...   \n126366  {'fast_ma': 40, 'slow_ma': 125, 'sigma_open': ...   \n916     {'fast_ma': 5, 'slow_ma': 60, 'sigma_open': 2....   \n126537  {'fast_ma': 40, 'slow_ma': 130, 'sigma_open': ...   \n126497  {'fast_ma': 40, 'slow_ma': 130, 'sigma_open': ...   \n126516  {'fast_ma': 40, 'slow_ma': 130, 'sigma_open': ...   \n126496  {'fast_ma': 40, 'slow_ma': 130, 'sigma_open': ...   \n104026  {'fast_ma': 30, 'slow_ma': 50, 'sigma_open': 2...   \n126498  {'fast_ma': 40, 'slow_ma': 130, 'sigma_open': ...   \n\n        final_wallet_amount  total_profit  total_profit_perc  total_trades  \\\n134417          6110.124098   5110.124098         511.012410          32.0   \n126494          5721.771949   4721.771949         472.177195          41.0   \n126514          5672.590534   4672.590534         467.259053          39.0   \n917             5597.140374   4597.140374         459.714037          80.0   \n134416          5531.853541   4531.853541         453.185354          34.0   \n126534          5509.907257   4509.907257         450.990726          38.0   \n126517          5330.416552   4330.416552         433.041655          34.0   \n134068          5322.116960   4322.116960         432.211696          28.0   \n104429          5302.126854   4302.126854         430.212685          36.0   \n134415          5277.026209   4277.026209         427.702621          37.0   \n118598          5263.039703   4263.039703         426.303970          34.0   \n134069          5204.811223   4204.811223         420.481122          26.0   \n126366          5173.572299   4173.572299         417.357230          37.0   \n916             5163.295904   4163.295904         416.329590          85.0   \n126537          5125.604952   4125.604952         412.560495          34.0   \n126497          5116.632391   4116.632391         411.663239          35.0   \n126516          5095.458681   4095.458681         409.545868          37.0   \n126496          5085.283105   4085.283105         408.528310          39.0   \n104026          5043.766848   4043.766848         404.376685          65.0   \n126498          5031.831244   4031.831244         403.183124          32.0   \n\n        avg_trade_profit_perc  avg_trade_profit  max_drawdown  \n134417               3.322065         81.113081    -33.977456  \n126494               2.380483         58.293481    -19.609756  \n126514               2.468339         60.682994    -19.844358  \n917                  1.174467         28.811047    -22.495274  \n134416               2.866569         67.639605    -29.310345  \n126534               2.492006         60.132097    -19.844358  \n126517               2.793497         64.633083    -28.819444  \n134068               3.435533         78.583945    -28.819444  \n104429               2.818852         59.535030    -18.403305  \n134415               2.555983         58.589400    -29.310345  \n118598               2.838632         63.627458    -33.495539  \n134069               3.659934         82.447279    -30.155875  \n126366               2.539622         57.172223    -29.188256  \n916                  1.053520         24.558496    -22.495274  \n126537               2.738870         61.576193    -29.310345  \n126497               2.675702         59.661339    -28.819444  \n126516               2.504341         56.102174    -28.819444  \n126496               2.394017         53.055625    -28.819444  \n104026               1.442454         33.954230    -13.426636  \n126498               3.053550         63.997321    -33.549433  ",
      "text/html": "<div>\n<style scoped>\n    .dataframe tbody tr th:only-of-type {\n        vertical-align: middle;\n    }\n\n    .dataframe tbody tr th {\n        vertical-align: top;\n    }\n\n    .dataframe thead th {\n        text-align: right;\n    }\n</style>\n<table border=\"1\" class=\"dataframe\">\n  <thead>\n    <tr style=\"text-align: right;\">\n      <th></th>\n      <th>date</th>\n      <th>params</th>\n      <th>final_wallet_amount</th>\n      <th>total_profit</th>\n      <th>total_profit_perc</th>\n      <th>total_trades</th>\n      <th>avg_trade_profit_perc</th>\n      <th>avg_trade_profit</th>\n      <th>max_drawdown</th>\n    </tr>\n  </thead>\n  <tbody>\n    <tr>\n      <th>134417</th>\n      <td>2023-12-27 14:15:00</td>\n      <td>{'fast_ma': 45, 'slow_ma': 130, 'sigma_open': ...</td>\n      <td>6110.124098</td>\n      <td>5110.124098</td>\n      <td>511.012410</td>\n      <td>32.0</td>\n      <td>3.322065</td>\n      <td>81.113081</td>\n      <td>-33.977456</td>\n    </tr>\n    <tr>\n      <th>126494</th>\n      <td>2023-12-27 13:30:00</td>\n      <td>{'fast_ma': 40, 'slow_ma': 130, 'sigma_open': ...</td>\n      <td>5721.771949</td>\n      <td>4721.771949</td>\n      <td>472.177195</td>\n      <td>41.0</td>\n      <td>2.380483</td>\n      <td>58.293481</td>\n      <td>-19.609756</td>\n    </tr>\n    <tr>\n      <th>126514</th>\n      <td>2023-12-27 13:15:00</td>\n      <td>{'fast_ma': 40, 'slow_ma': 130, 'sigma_open': ...</td>\n      <td>5672.590534</td>\n      <td>4672.590534</td>\n      <td>467.259053</td>\n      <td>39.0</td>\n      <td>2.468339</td>\n      <td>60.682994</td>\n      <td>-19.844358</td>\n    </tr>\n    <tr>\n      <th>917</th>\n      <td>2023-12-28 16:00:00</td>\n      <td>{'fast_ma': 5, 'slow_ma': 60, 'sigma_open': 2....</td>\n      <td>5597.140374</td>\n      <td>4597.140374</td>\n      <td>459.714037</td>\n      <td>80.0</td>\n      <td>1.174467</td>\n      <td>28.811047</td>\n      <td>-22.495274</td>\n    </tr>\n    <tr>\n      <th>134416</th>\n      <td>2023-12-27 14:15:00</td>\n      <td>{'fast_ma': 45, 'slow_ma': 130, 'sigma_open': ...</td>\n      <td>5531.853541</td>\n      <td>4531.853541</td>\n      <td>453.185354</td>\n      <td>34.0</td>\n      <td>2.866569</td>\n      <td>67.639605</td>\n      <td>-29.310345</td>\n    </tr>\n    <tr>\n      <th>126534</th>\n      <td>2023-12-27 12:45:00</td>\n      <td>{'fast_ma': 40, 'slow_ma': 130, 'sigma_open': ...</td>\n      <td>5509.907257</td>\n      <td>4509.907257</td>\n      <td>450.990726</td>\n      <td>38.0</td>\n      <td>2.492006</td>\n      <td>60.132097</td>\n      <td>-19.844358</td>\n    </tr>\n    <tr>\n      <th>126517</th>\n      <td>2023-12-27 13:15:00</td>\n      <td>{'fast_ma': 40, 'slow_ma': 130, 'sigma_open': ...</td>\n      <td>5330.416552</td>\n      <td>4330.416552</td>\n      <td>433.041655</td>\n      <td>34.0</td>\n      <td>2.793497</td>\n      <td>64.633083</td>\n      <td>-28.819444</td>\n    </tr>\n    <tr>\n      <th>134068</th>\n      <td>2023-12-27 14:15:00</td>\n      <td>{'fast_ma': 45, 'slow_ma': 125, 'sigma_open': ...</td>\n      <td>5322.116960</td>\n      <td>4322.116960</td>\n      <td>432.211696</td>\n      <td>28.0</td>\n      <td>3.435533</td>\n      <td>78.583945</td>\n      <td>-28.819444</td>\n    </tr>\n    <tr>\n      <th>104429</th>\n      <td>2023-12-24 00:15:00</td>\n      <td>{'fast_ma': 30, 'slow_ma': 55, 'sigma_open': 2...</td>\n      <td>5302.126854</td>\n      <td>4302.126854</td>\n      <td>430.212685</td>\n      <td>36.0</td>\n      <td>2.818852</td>\n      <td>59.535030</td>\n      <td>-18.403305</td>\n    </tr>\n    <tr>\n      <th>134415</th>\n      <td>2023-12-27 14:15:00</td>\n      <td>{'fast_ma': 45, 'slow_ma': 130, 'sigma_open': ...</td>\n      <td>5277.026209</td>\n      <td>4277.026209</td>\n      <td>427.702621</td>\n      <td>37.0</td>\n      <td>2.555983</td>\n      <td>58.589400</td>\n      <td>-29.310345</td>\n    </tr>\n    <tr>\n      <th>118598</th>\n      <td>2023-12-27 12:15:00</td>\n      <td>{'fast_ma': 35, 'slow_ma': 130, 'sigma_open': ...</td>\n      <td>5263.039703</td>\n      <td>4263.039703</td>\n      <td>426.303970</td>\n      <td>34.0</td>\n      <td>2.838632</td>\n      <td>63.627458</td>\n      <td>-33.495539</td>\n    </tr>\n    <tr>\n      <th>134069</th>\n      <td>2023-12-27 14:15:00</td>\n      <td>{'fast_ma': 45, 'slow_ma': 125, 'sigma_open': ...</td>\n      <td>5204.811223</td>\n      <td>4204.811223</td>\n      <td>420.481122</td>\n      <td>26.0</td>\n      <td>3.659934</td>\n      <td>82.447279</td>\n      <td>-30.155875</td>\n    </tr>\n    <tr>\n      <th>126366</th>\n      <td>2023-12-27 13:15:00</td>\n      <td>{'fast_ma': 40, 'slow_ma': 125, 'sigma_open': ...</td>\n      <td>5173.572299</td>\n      <td>4173.572299</td>\n      <td>417.357230</td>\n      <td>37.0</td>\n      <td>2.539622</td>\n      <td>57.172223</td>\n      <td>-29.188256</td>\n    </tr>\n    <tr>\n      <th>916</th>\n      <td>2023-12-28 16:00:00</td>\n      <td>{'fast_ma': 5, 'slow_ma': 60, 'sigma_open': 2....</td>\n      <td>5163.295904</td>\n      <td>4163.295904</td>\n      <td>416.329590</td>\n      <td>85.0</td>\n      <td>1.053520</td>\n      <td>24.558496</td>\n      <td>-22.495274</td>\n    </tr>\n    <tr>\n      <th>126537</th>\n      <td>2023-12-27 12:45:00</td>\n      <td>{'fast_ma': 40, 'slow_ma': 130, 'sigma_open': ...</td>\n      <td>5125.604952</td>\n      <td>4125.604952</td>\n      <td>412.560495</td>\n      <td>34.0</td>\n      <td>2.738870</td>\n      <td>61.576193</td>\n      <td>-29.310345</td>\n    </tr>\n    <tr>\n      <th>126497</th>\n      <td>2023-12-27 13:30:00</td>\n      <td>{'fast_ma': 40, 'slow_ma': 130, 'sigma_open': ...</td>\n      <td>5116.632391</td>\n      <td>4116.632391</td>\n      <td>411.663239</td>\n      <td>35.0</td>\n      <td>2.675702</td>\n      <td>59.661339</td>\n      <td>-28.819444</td>\n    </tr>\n    <tr>\n      <th>126516</th>\n      <td>2023-12-27 13:15:00</td>\n      <td>{'fast_ma': 40, 'slow_ma': 130, 'sigma_open': ...</td>\n      <td>5095.458681</td>\n      <td>4095.458681</td>\n      <td>409.545868</td>\n      <td>37.0</td>\n      <td>2.504341</td>\n      <td>56.102174</td>\n      <td>-28.819444</td>\n    </tr>\n    <tr>\n      <th>126496</th>\n      <td>2023-12-27 13:30:00</td>\n      <td>{'fast_ma': 40, 'slow_ma': 130, 'sigma_open': ...</td>\n      <td>5085.283105</td>\n      <td>4085.283105</td>\n      <td>408.528310</td>\n      <td>39.0</td>\n      <td>2.394017</td>\n      <td>53.055625</td>\n      <td>-28.819444</td>\n    </tr>\n    <tr>\n      <th>104026</th>\n      <td>2023-12-23 23:45:00</td>\n      <td>{'fast_ma': 30, 'slow_ma': 50, 'sigma_open': 2...</td>\n      <td>5043.766848</td>\n      <td>4043.766848</td>\n      <td>404.376685</td>\n      <td>65.0</td>\n      <td>1.442454</td>\n      <td>33.954230</td>\n      <td>-13.426636</td>\n    </tr>\n    <tr>\n      <th>126498</th>\n      <td>2023-12-27 13:30:00</td>\n      <td>{'fast_ma': 40, 'slow_ma': 130, 'sigma_open': ...</td>\n      <td>5031.831244</td>\n      <td>4031.831244</td>\n      <td>403.183124</td>\n      <td>32.0</td>\n      <td>3.053550</td>\n      <td>63.997321</td>\n      <td>-33.549433</td>\n    </tr>\n  </tbody>\n</table>\n</div>"
     },
     "execution_count": 811,
     "metadata": {},
     "output_type": "execute_result"
    }
   ],
   "source": [
    "df_result.sort_values(\"final_wallet_amount\", ascending=False).head(20)"
   ],
   "metadata": {
    "collapsed": false,
    "ExecuteTime": {
     "end_time": "2024-03-24T21:41:33.158879Z",
     "start_time": "2024-03-24T21:41:33.120313Z"
    }
   }
  },
  {
   "cell_type": "code",
   "execution_count": 762,
   "outputs": [],
   "source": [
    "params = {\n",
    "    \"fast_ma\": 5,\n",
    "    \"slow_ma\": 60,\n",
    "    \"sigma_open\": 2.5,\n",
    "    \"sigma_close\": 2.7,\n",
    "    \"mean_mrat_lenght\": 60,\n",
    "    \"leverage\": 1\n",
    "}\n",
    "\n",
    "pair = \"API3/USDT:USDT\"\n",
    "exchange_name = \"binance\"\n",
    "tf = '15m'\n",
    "start_date = \"2023-12-01 00:00:00\"\n",
    "end_date = \"2024-03-24 01:00:00\"\n",
    "\n",
    "strat = Strategy(pair=pair, params=params)\n",
    "strat.get_pair_data(timeframe=tf, start=start_date, end=end_date)\n",
    "strat.populate_indicators2()\n",
    "df_result_tmp = strat.get_result_df()\n",
    "df = strat.df"
   ],
   "metadata": {
    "collapsed": false,
    "ExecuteTime": {
     "end_time": "2024-03-24T21:26:02.838528Z",
     "start_time": "2024-03-24T21:26:02.719544Z"
    }
   }
  },
  {
   "cell_type": "code",
   "execution_count": 763,
   "outputs": [
    {
     "data": {
      "text/plain": "                       open   close     low    high      mrat  mean_mrat  \\\ndate                                                                       \n2023-12-02 17:15:00  1.5588  1.5575  1.5568  1.5605  1.003348   1.023243   \n2023-12-05 00:30:00  1.5750  1.5856  1.5664  1.5908  1.037881   0.978960   \n\n                     stdev_mrat  open_long_signal  close_long_signal  \\\ndate                                                                   \n2023-12-02 17:15:00    0.007682              True              False   \n2023-12-05 00:30:00    0.018748             False               True   \n\n                     order_number    quantity  trade_result  trade_result_pct  \\\ndate                                                                            \n2023-12-02 17:15:00           1.0  641.519117       0.00000          0.000000   \n2023-12-05 00:30:00           1.0  641.519117      10.39261          1.039261   \n\n                         wallet  open_order  hypothetical_wallet  \\\ndate                                                               \n2023-12-02 17:15:00  1000.00000      1.5588                  NaN   \n2023-12-05 00:30:00  1010.39261      1.5588           1010.39261   \n\n                     hypothetical_low_result  drawdown  is_liquidated  \ndate                                                                   \n2023-12-02 17:15:00                -0.001283 -0.128304          False  \n2023-12-05 00:30:00                -0.005460  0.487555          False  ",
      "text/html": "<div>\n<style scoped>\n    .dataframe tbody tr th:only-of-type {\n        vertical-align: middle;\n    }\n\n    .dataframe tbody tr th {\n        vertical-align: top;\n    }\n\n    .dataframe thead th {\n        text-align: right;\n    }\n</style>\n<table border=\"1\" class=\"dataframe\">\n  <thead>\n    <tr style=\"text-align: right;\">\n      <th></th>\n      <th>open</th>\n      <th>close</th>\n      <th>low</th>\n      <th>high</th>\n      <th>mrat</th>\n      <th>mean_mrat</th>\n      <th>stdev_mrat</th>\n      <th>open_long_signal</th>\n      <th>close_long_signal</th>\n      <th>order_number</th>\n      <th>quantity</th>\n      <th>trade_result</th>\n      <th>trade_result_pct</th>\n      <th>wallet</th>\n      <th>open_order</th>\n      <th>hypothetical_wallet</th>\n      <th>hypothetical_low_result</th>\n      <th>drawdown</th>\n      <th>is_liquidated</th>\n    </tr>\n    <tr>\n      <th>date</th>\n      <th></th>\n      <th></th>\n      <th></th>\n      <th></th>\n      <th></th>\n      <th></th>\n      <th></th>\n      <th></th>\n      <th></th>\n      <th></th>\n      <th></th>\n      <th></th>\n      <th></th>\n      <th></th>\n      <th></th>\n      <th></th>\n      <th></th>\n      <th></th>\n      <th></th>\n    </tr>\n  </thead>\n  <tbody>\n    <tr>\n      <th>2023-12-02 17:15:00</th>\n      <td>1.5588</td>\n      <td>1.5575</td>\n      <td>1.5568</td>\n      <td>1.5605</td>\n      <td>1.003348</td>\n      <td>1.023243</td>\n      <td>0.007682</td>\n      <td>True</td>\n      <td>False</td>\n      <td>1.0</td>\n      <td>641.519117</td>\n      <td>0.00000</td>\n      <td>0.000000</td>\n      <td>1000.00000</td>\n      <td>1.5588</td>\n      <td>NaN</td>\n      <td>-0.001283</td>\n      <td>-0.128304</td>\n      <td>False</td>\n    </tr>\n    <tr>\n      <th>2023-12-05 00:30:00</th>\n      <td>1.5750</td>\n      <td>1.5856</td>\n      <td>1.5664</td>\n      <td>1.5908</td>\n      <td>1.037881</td>\n      <td>0.978960</td>\n      <td>0.018748</td>\n      <td>False</td>\n      <td>True</td>\n      <td>1.0</td>\n      <td>641.519117</td>\n      <td>10.39261</td>\n      <td>1.039261</td>\n      <td>1010.39261</td>\n      <td>1.5588</td>\n      <td>1010.39261</td>\n      <td>-0.005460</td>\n      <td>0.487555</td>\n      <td>False</td>\n    </tr>\n  </tbody>\n</table>\n</div>"
     },
     "execution_count": 763,
     "metadata": {},
     "output_type": "execute_result"
    }
   ],
   "source": [
    "df.loc[df[\"order_number\"] == 1].iloc[[0,-1],:]"
   ],
   "metadata": {
    "collapsed": false,
    "ExecuteTime": {
     "end_time": "2024-03-24T21:26:03.514294Z",
     "start_time": "2024-03-24T21:26:03.494554Z"
    }
   }
  },
  {
   "cell_type": "code",
   "execution_count": 764,
   "outputs": [
    {
     "data": {
      "text/plain": "                       open   close     low    high      mrat  mean_mrat  \\\ndate                                                                       \n2024-03-12 06:30:00  3.8007  3.7861  3.7805  3.8172  0.983506   1.007186   \n2024-03-17 03:30:00  3.2426  3.2630  3.2417  3.2768  1.003626   0.961099   \n\n                     stdev_mrat  open_long_signal  close_long_signal  \\\ndate                                                                   \n2024-03-12 06:30:00    0.006351              True              False   \n2024-03-17 03:30:00    0.015625             False               True   \n\n                     order_number    quantity  trade_result  trade_result_pct  \\\ndate                                                                            \n2024-03-12 06:30:00          24.0  534.837577      0.000000          0.000000   \n2024-03-17 03:30:00          24.0  534.837577   -298.492852        -14.684137   \n\n                          wallet  open_order  hypothetical_wallet  \\\ndate                                                                \n2024-03-12 06:30:00  2032.757180      3.8007          2032.757180   \n2024-03-17 03:30:00  1734.264328      3.8007          1734.264328   \n\n                     hypothetical_low_result   drawdown  is_liquidated  \ndate                                                                    \n2024-03-12 06:30:00                -0.005315  -0.531481          False  \n2024-03-17 03:30:00                -0.000278 -14.707817          False  ",
      "text/html": "<div>\n<style scoped>\n    .dataframe tbody tr th:only-of-type {\n        vertical-align: middle;\n    }\n\n    .dataframe tbody tr th {\n        vertical-align: top;\n    }\n\n    .dataframe thead th {\n        text-align: right;\n    }\n</style>\n<table border=\"1\" class=\"dataframe\">\n  <thead>\n    <tr style=\"text-align: right;\">\n      <th></th>\n      <th>open</th>\n      <th>close</th>\n      <th>low</th>\n      <th>high</th>\n      <th>mrat</th>\n      <th>mean_mrat</th>\n      <th>stdev_mrat</th>\n      <th>open_long_signal</th>\n      <th>close_long_signal</th>\n      <th>order_number</th>\n      <th>quantity</th>\n      <th>trade_result</th>\n      <th>trade_result_pct</th>\n      <th>wallet</th>\n      <th>open_order</th>\n      <th>hypothetical_wallet</th>\n      <th>hypothetical_low_result</th>\n      <th>drawdown</th>\n      <th>is_liquidated</th>\n    </tr>\n    <tr>\n      <th>date</th>\n      <th></th>\n      <th></th>\n      <th></th>\n      <th></th>\n      <th></th>\n      <th></th>\n      <th></th>\n      <th></th>\n      <th></th>\n      <th></th>\n      <th></th>\n      <th></th>\n      <th></th>\n      <th></th>\n      <th></th>\n      <th></th>\n      <th></th>\n      <th></th>\n      <th></th>\n    </tr>\n  </thead>\n  <tbody>\n    <tr>\n      <th>2024-03-12 06:30:00</th>\n      <td>3.8007</td>\n      <td>3.7861</td>\n      <td>3.7805</td>\n      <td>3.8172</td>\n      <td>0.983506</td>\n      <td>1.007186</td>\n      <td>0.006351</td>\n      <td>True</td>\n      <td>False</td>\n      <td>24.0</td>\n      <td>534.837577</td>\n      <td>0.000000</td>\n      <td>0.000000</td>\n      <td>2032.757180</td>\n      <td>3.8007</td>\n      <td>2032.757180</td>\n      <td>-0.005315</td>\n      <td>-0.531481</td>\n      <td>False</td>\n    </tr>\n    <tr>\n      <th>2024-03-17 03:30:00</th>\n      <td>3.2426</td>\n      <td>3.2630</td>\n      <td>3.2417</td>\n      <td>3.2768</td>\n      <td>1.003626</td>\n      <td>0.961099</td>\n      <td>0.015625</td>\n      <td>False</td>\n      <td>True</td>\n      <td>24.0</td>\n      <td>534.837577</td>\n      <td>-298.492852</td>\n      <td>-14.684137</td>\n      <td>1734.264328</td>\n      <td>3.8007</td>\n      <td>1734.264328</td>\n      <td>-0.000278</td>\n      <td>-14.707817</td>\n      <td>False</td>\n    </tr>\n  </tbody>\n</table>\n</div>"
     },
     "execution_count": 764,
     "metadata": {},
     "output_type": "execute_result"
    }
   ],
   "source": [
    "df.loc[df[\"order_number\"] == df[\"order_number\"].max() - 1].iloc[[0,-1],:]"
   ],
   "metadata": {
    "collapsed": false,
    "ExecuteTime": {
     "end_time": "2024-03-24T21:26:05.550808Z",
     "start_time": "2024-03-24T21:26:05.462709Z"
    }
   }
  },
  {
   "cell_type": "code",
   "execution_count": 765,
   "outputs": [
    {
     "data": {
      "text/plain": "                                                                params  \\\ndate                                                                     \n2024-03-18 02:00:00  {'fast_ma': 5, 'slow_ma': 60, 'sigma_open': 2....   \n\n                     final_wallet_amount  total_profit  total_profit_perc  \\\ndate                                                                        \n2024-03-18 02:00:00          1734.264328    734.264328          73.426433   \n\n                     total_trades  avg_trade_profit_perc  avg_trade_profit  \\\ndate                                                                         \n2024-03-18 02:00:00          25.0               1.220592         14.984986   \n\n                     max_drawdown  \ndate                               \n2024-03-18 02:00:00    -28.693689  ",
      "text/html": "<div>\n<style scoped>\n    .dataframe tbody tr th:only-of-type {\n        vertical-align: middle;\n    }\n\n    .dataframe tbody tr th {\n        vertical-align: top;\n    }\n\n    .dataframe thead th {\n        text-align: right;\n    }\n</style>\n<table border=\"1\" class=\"dataframe\">\n  <thead>\n    <tr style=\"text-align: right;\">\n      <th></th>\n      <th>params</th>\n      <th>final_wallet_amount</th>\n      <th>total_profit</th>\n      <th>total_profit_perc</th>\n      <th>total_trades</th>\n      <th>avg_trade_profit_perc</th>\n      <th>avg_trade_profit</th>\n      <th>max_drawdown</th>\n    </tr>\n    <tr>\n      <th>date</th>\n      <th></th>\n      <th></th>\n      <th></th>\n      <th></th>\n      <th></th>\n      <th></th>\n      <th></th>\n      <th></th>\n    </tr>\n  </thead>\n  <tbody>\n    <tr>\n      <th>2024-03-18 02:00:00</th>\n      <td>{'fast_ma': 5, 'slow_ma': 60, 'sigma_open': 2....</td>\n      <td>1734.264328</td>\n      <td>734.264328</td>\n      <td>73.426433</td>\n      <td>25.0</td>\n      <td>1.220592</td>\n      <td>14.984986</td>\n      <td>-28.693689</td>\n    </tr>\n  </tbody>\n</table>\n</div>"
     },
     "execution_count": 765,
     "metadata": {},
     "output_type": "execute_result"
    }
   ],
   "source": [
    "df_result_tmp"
   ],
   "metadata": {
    "collapsed": false,
    "ExecuteTime": {
     "end_time": "2024-03-24T21:26:10.655117Z",
     "start_time": "2024-03-24T21:26:10.601038Z"
    }
   }
  },
  {
   "cell_type": "markdown",
   "source": [
    "✅ Same first order as TV\n",
    "✅ Same trade result\n",
    "✅ Same profit"
   ],
   "metadata": {
    "collapsed": false
   }
  },
  {
   "cell_type": "markdown",
   "source": [
    "## Best params 2024 performance"
   ],
   "metadata": {
    "collapsed": false
   }
  },
  {
   "cell_type": "code",
   "execution_count": 812,
   "outputs": [],
   "source": [
    "top_params = df_result.sort_values(\"final_wallet_amount\", ascending=False).iloc[:100][\"params\"]"
   ],
   "metadata": {
    "collapsed": false,
    "ExecuteTime": {
     "end_time": "2024-03-24T21:41:40.370796Z",
     "start_time": "2024-03-24T21:41:40.311904Z"
    }
   }
  },
  {
   "cell_type": "code",
   "execution_count": 813,
   "outputs": [],
   "source": [
    "train_start_date = \"2023-01-01 00:00:00\"\n",
    "train_end_date = \"2023-12-31 00:00:00\"\n",
    "test_start_date = \"2024-01-01 00:00:00\"\n",
    "test_end_date = \"2024-03-22 00:00:00\"\n",
    "\n",
    "result = []\n",
    "for param in top_params:\n",
    "    param = param.replace(\"'\", \"\\\"\")\n",
    "    param = json.loads(param)\n",
    "    param[\"leverage\"] = 1\n",
    "    strat = Strategy(pair=pair, params=param)\n",
    "    strat.get_pair_data(timeframe=tf, start=test_start_date, end=test_end_date)\n",
    "    strat.populate_indicators2()\n",
    "    df_result_tmp = strat.get_result_df()\n",
    "    result.append(df_result_tmp)"
   ],
   "metadata": {
    "collapsed": false,
    "ExecuteTime": {
     "end_time": "2024-03-24T21:41:47.589959Z",
     "start_time": "2024-03-24T21:41:40.660979Z"
    }
   }
  },
  {
   "cell_type": "code",
   "execution_count": 814,
   "outputs": [],
   "source": [
    "result_dfs = pd.concat(result)"
   ],
   "metadata": {
    "collapsed": false,
    "ExecuteTime": {
     "end_time": "2024-03-24T21:41:47.590790Z",
     "start_time": "2024-03-24T21:41:47.575320Z"
    }
   }
  },
  {
   "cell_type": "code",
   "execution_count": 815,
   "outputs": [
    {
     "data": {
      "text/plain": "                                                                params  \\\ndate                                                                     \n2024-03-15 13:00:00  {'fast_ma': 40, 'slow_ma': 125, 'sigma_open': ...   \n2024-03-15 13:45:00  {'fast_ma': 45, 'slow_ma': 125, 'sigma_open': ...   \n2024-03-15 13:30:00  {'fast_ma': 45, 'slow_ma': 125, 'sigma_open': ...   \n2024-03-15 13:45:00  {'fast_ma': 45, 'slow_ma': 125, 'sigma_open': ...   \n2024-03-15 13:30:00  {'fast_ma': 45, 'slow_ma': 125, 'sigma_open': ...   \n...                                                                ...   \n2024-03-19 08:00:00  {'fast_ma': 30, 'slow_ma': 50, 'sigma_open': 2...   \n2024-03-19 08:30:00  {'fast_ma': 30, 'slow_ma': 50, 'sigma_open': 2...   \n2024-03-19 08:30:00  {'fast_ma': 30, 'slow_ma': 50, 'sigma_open': 2...   \n2024-03-19 08:00:00  {'fast_ma': 30, 'slow_ma': 50, 'sigma_open': 2...   \n2024-03-19 08:15:00  {'fast_ma': 30, 'slow_ma': 50, 'sigma_open': 2...   \n\n                     final_wallet_amount  total_profit  total_profit_perc  \\\ndate                                                                        \n2024-03-15 13:00:00          2236.247990   1236.247990         123.624799   \n2024-03-15 13:45:00          2110.096710   1110.096710         111.009671   \n2024-03-15 13:30:00          2108.017696   1108.017696         110.801770   \n2024-03-15 13:45:00          2025.129080   1025.129080         102.512908   \n2024-03-15 13:30:00          2023.133782   1023.133782         102.313378   \n...                                  ...           ...                ...   \n2024-03-19 08:00:00           682.338462   -317.661538         -31.766154   \n2024-03-19 08:30:00           682.014789   -317.985211         -31.798521   \n2024-03-19 08:30:00           653.619763   -346.380237         -34.638024   \n2024-03-19 08:00:00           653.009135   -346.990865         -34.699086   \n2024-03-19 08:15:00           652.480717   -347.519283         -34.751928   \n\n                     total_trades  avg_trade_profit_perc  avg_trade_profit  \\\ndate                                                                         \n2024-03-15 13:00:00           8.0               6.451376         82.416533   \n2024-03-15 13:45:00           7.0               6.422197         85.392055   \n2024-03-15 13:30:00           7.0               6.431124         85.232130   \n2024-03-15 13:45:00           7.0               6.031854         78.856083   \n2024-03-15 13:30:00           7.0               6.040575         78.702599   \n...                           ...                    ...               ...   \n2024-03-19 08:00:00          11.0              -1.729583        -15.126740   \n2024-03-19 08:30:00          14.0              -1.316925        -11.777230   \n2024-03-19 08:30:00          11.0              -1.793757        -16.494297   \n2024-03-19 08:00:00           8.0              -2.595019        -23.132724   \n2024-03-19 08:15:00          11.0              -1.907677        -16.548537   \n\n                     max_drawdown  \ndate                               \n2024-03-15 13:00:00    -13.752607  \n2024-03-15 13:45:00    -22.038161  \n2024-03-15 13:30:00    -21.858732  \n2024-03-15 13:45:00    -22.038161  \n2024-03-15 13:30:00    -21.858732  \n...                           ...  \n2024-03-19 08:00:00    -23.187643  \n2024-03-19 08:30:00    -23.187643  \n2024-03-19 08:30:00    -24.030101  \n2024-03-19 08:00:00    -23.187643  \n2024-03-19 08:15:00    -23.187643  \n\n[100 rows x 8 columns]",
      "text/html": "<div>\n<style scoped>\n    .dataframe tbody tr th:only-of-type {\n        vertical-align: middle;\n    }\n\n    .dataframe tbody tr th {\n        vertical-align: top;\n    }\n\n    .dataframe thead th {\n        text-align: right;\n    }\n</style>\n<table border=\"1\" class=\"dataframe\">\n  <thead>\n    <tr style=\"text-align: right;\">\n      <th></th>\n      <th>params</th>\n      <th>final_wallet_amount</th>\n      <th>total_profit</th>\n      <th>total_profit_perc</th>\n      <th>total_trades</th>\n      <th>avg_trade_profit_perc</th>\n      <th>avg_trade_profit</th>\n      <th>max_drawdown</th>\n    </tr>\n    <tr>\n      <th>date</th>\n      <th></th>\n      <th></th>\n      <th></th>\n      <th></th>\n      <th></th>\n      <th></th>\n      <th></th>\n      <th></th>\n    </tr>\n  </thead>\n  <tbody>\n    <tr>\n      <th>2024-03-15 13:00:00</th>\n      <td>{'fast_ma': 40, 'slow_ma': 125, 'sigma_open': ...</td>\n      <td>2236.247990</td>\n      <td>1236.247990</td>\n      <td>123.624799</td>\n      <td>8.0</td>\n      <td>6.451376</td>\n      <td>82.416533</td>\n      <td>-13.752607</td>\n    </tr>\n    <tr>\n      <th>2024-03-15 13:45:00</th>\n      <td>{'fast_ma': 45, 'slow_ma': 125, 'sigma_open': ...</td>\n      <td>2110.096710</td>\n      <td>1110.096710</td>\n      <td>111.009671</td>\n      <td>7.0</td>\n      <td>6.422197</td>\n      <td>85.392055</td>\n      <td>-22.038161</td>\n    </tr>\n    <tr>\n      <th>2024-03-15 13:30:00</th>\n      <td>{'fast_ma': 45, 'slow_ma': 125, 'sigma_open': ...</td>\n      <td>2108.017696</td>\n      <td>1108.017696</td>\n      <td>110.801770</td>\n      <td>7.0</td>\n      <td>6.431124</td>\n      <td>85.232130</td>\n      <td>-21.858732</td>\n    </tr>\n    <tr>\n      <th>2024-03-15 13:45:00</th>\n      <td>{'fast_ma': 45, 'slow_ma': 125, 'sigma_open': ...</td>\n      <td>2025.129080</td>\n      <td>1025.129080</td>\n      <td>102.512908</td>\n      <td>7.0</td>\n      <td>6.031854</td>\n      <td>78.856083</td>\n      <td>-22.038161</td>\n    </tr>\n    <tr>\n      <th>2024-03-15 13:30:00</th>\n      <td>{'fast_ma': 45, 'slow_ma': 125, 'sigma_open': ...</td>\n      <td>2023.133782</td>\n      <td>1023.133782</td>\n      <td>102.313378</td>\n      <td>7.0</td>\n      <td>6.040575</td>\n      <td>78.702599</td>\n      <td>-21.858732</td>\n    </tr>\n    <tr>\n      <th>...</th>\n      <td>...</td>\n      <td>...</td>\n      <td>...</td>\n      <td>...</td>\n      <td>...</td>\n      <td>...</td>\n      <td>...</td>\n      <td>...</td>\n    </tr>\n    <tr>\n      <th>2024-03-19 08:00:00</th>\n      <td>{'fast_ma': 30, 'slow_ma': 50, 'sigma_open': 2...</td>\n      <td>682.338462</td>\n      <td>-317.661538</td>\n      <td>-31.766154</td>\n      <td>11.0</td>\n      <td>-1.729583</td>\n      <td>-15.126740</td>\n      <td>-23.187643</td>\n    </tr>\n    <tr>\n      <th>2024-03-19 08:30:00</th>\n      <td>{'fast_ma': 30, 'slow_ma': 50, 'sigma_open': 2...</td>\n      <td>682.014789</td>\n      <td>-317.985211</td>\n      <td>-31.798521</td>\n      <td>14.0</td>\n      <td>-1.316925</td>\n      <td>-11.777230</td>\n      <td>-23.187643</td>\n    </tr>\n    <tr>\n      <th>2024-03-19 08:30:00</th>\n      <td>{'fast_ma': 30, 'slow_ma': 50, 'sigma_open': 2...</td>\n      <td>653.619763</td>\n      <td>-346.380237</td>\n      <td>-34.638024</td>\n      <td>11.0</td>\n      <td>-1.793757</td>\n      <td>-16.494297</td>\n      <td>-24.030101</td>\n    </tr>\n    <tr>\n      <th>2024-03-19 08:00:00</th>\n      <td>{'fast_ma': 30, 'slow_ma': 50, 'sigma_open': 2...</td>\n      <td>653.009135</td>\n      <td>-346.990865</td>\n      <td>-34.699086</td>\n      <td>8.0</td>\n      <td>-2.595019</td>\n      <td>-23.132724</td>\n      <td>-23.187643</td>\n    </tr>\n    <tr>\n      <th>2024-03-19 08:15:00</th>\n      <td>{'fast_ma': 30, 'slow_ma': 50, 'sigma_open': 2...</td>\n      <td>652.480717</td>\n      <td>-347.519283</td>\n      <td>-34.751928</td>\n      <td>11.0</td>\n      <td>-1.907677</td>\n      <td>-16.548537</td>\n      <td>-23.187643</td>\n    </tr>\n  </tbody>\n</table>\n<p>100 rows × 8 columns</p>\n</div>"
     },
     "execution_count": 815,
     "metadata": {},
     "output_type": "execute_result"
    }
   ],
   "source": [
    "result_dfs.sort_values(\"final_wallet_amount\", ascending=False)"
   ],
   "metadata": {
    "collapsed": false,
    "ExecuteTime": {
     "end_time": "2024-03-24T21:41:47.591405Z",
     "start_time": "2024-03-24T21:41:47.578467Z"
    }
   }
  },
  {
   "cell_type": "code",
   "execution_count": 782,
   "outputs": [
    {
     "data": {
      "text/plain": "\"{'fast_ma': 35, 'slow_ma': 50, 'sigma_open': 2.8, 'sigma_close': 2.9, 'mean_mrat_lenght': 50, 'leverage': 1}\""
     },
     "execution_count": 782,
     "metadata": {},
     "output_type": "execute_result"
    }
   ],
   "source": [
    "result_dfs.sort_index().iloc[0][\"params\"]"
   ],
   "metadata": {
    "collapsed": false,
    "ExecuteTime": {
     "end_time": "2024-03-24T21:29:55.876107Z",
     "start_time": "2024-03-24T21:29:55.845190Z"
    }
   }
  },
  {
   "cell_type": "code",
   "execution_count": null,
   "outputs": [],
   "source": [],
   "metadata": {
    "collapsed": false
   }
  }
 ],
 "metadata": {
  "kernelspec": {
   "display_name": "Python 3",
   "language": "python",
   "name": "python3"
  },
  "language_info": {
   "codemirror_mode": {
    "name": "ipython",
    "version": 2
   },
   "file_extension": ".py",
   "mimetype": "text/x-python",
   "name": "python",
   "nbconvert_exporter": "python",
   "pygments_lexer": "ipython2",
   "version": "2.7.6"
  }
 },
 "nbformat": 4,
 "nbformat_minor": 0
}
