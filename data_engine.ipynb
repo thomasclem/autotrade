{
 "cells": [
  {
   "cell_type": "code",
   "execution_count": 1,
   "metadata": {
    "ExecuteTime": {
     "end_time": "2024-03-19T20:31:54.914629Z",
     "start_time": "2024-03-19T20:31:54.179597Z"
    }
   },
   "outputs": [],
   "source": [
    "import sys\n",
    "sys.path.append('./')\n",
    "from utilities.data_manager import ExchangeDataManager\n",
    "import pandas as pd"
   ]
  },
  {
   "cell_type": "markdown",
   "metadata": {},
   "source": [
    "# Download Historical data into CSV in Database"
   ]
  },
  {
   "cell_type": "code",
   "execution_count": 4,
   "metadata": {
    "ExecuteTime": {
     "end_time": "2024-03-19T20:35:06.909562Z",
     "start_time": "2024-03-19T20:34:02.684136Z"
    }
   },
   "outputs": [
    {
     "name": "stdout",
     "output_type": "stream",
     "text": [
      "\tRécupération pour la paire API3/USDT:USDT en timeframe 15m sur l'exchange binance...\n"
     ]
    },
    {
     "data": {
      "text/plain": "  0%|          | 0/253 [00:00<?, ?it/s]",
      "application/vnd.jupyter.widget-view+json": {
       "version_major": 2,
       "version_minor": 0,
       "model_id": "f52e12f401e5458197a703ee090ac4eb"
      }
     },
     "metadata": {},
     "output_type": "display_data"
    },
    {
     "name": "stdout",
     "output_type": "stream",
     "text": [
      "\u001B[H\u001B[J"
     ]
    }
   ],
   "source": [
    "exchange_name = \"binance\"\n",
    "\n",
    "intervals = [\"15m\"]\n",
    "\n",
    "coin_to_dl = [\n",
    "    \"API3/USDT:USDT\"\n",
    "]\n",
    "\n",
    "exchange = ExchangeDataManager(\n",
    "    exchange_name=exchange_name, path_download=\"./database/exchanges\"\n",
    ")\n",
    "\n",
    "await exchange.download_data(\n",
    "    coins=coin_to_dl,\n",
    "    intervals=intervals,\n",
    "    start_date=\"2023-01-01 00:00:00\"\n",
    ")"
   ]
  },
  {
   "cell_type": "markdown",
   "metadata": {},
   "source": [
    "# Get Historical Data From Database"
   ]
  },
  {
   "cell_type": "code",
   "execution_count": 3,
   "metadata": {
    "ExecuteTime": {
     "end_time": "2024-03-19T20:33:56.784040Z",
     "start_time": "2024-03-19T20:33:56.147234Z"
    }
   },
   "outputs": [
    {
     "name": "stdout",
     "output_type": "stream",
     "text": [
      "\tRécupération pour la paire BNB/USDT:USDT en timeframe 15m sur l'exchange binance...\n",
      "\tDonnées déjà récupérées\n",
      "\u001B[H\u001B[J"
     ]
    },
    {
     "ename": "FileNotFoundError",
     "evalue": "Le fichier /Users/thomasclement/autotrade/utilities/database/exchanges/binance/15m/API3-USDT-USDT.csv n'existe pas",
     "output_type": "error",
     "traceback": [
      "\u001B[0;31m---------------------------------------------------------------------------\u001B[0m",
      "\u001B[0;31mFileNotFoundError\u001B[0m                         Traceback (most recent call last)",
      "Cell \u001B[0;32mIn[3], line 12\u001B[0m\n\u001B[1;32m      3\u001B[0m exchange \u001B[38;5;241m=\u001B[39m ExchangeDataManager(\n\u001B[1;32m      4\u001B[0m     exchange_name\u001B[38;5;241m=\u001B[39mexchange_name, path_download\u001B[38;5;241m=\u001B[39m\u001B[38;5;124m\"\u001B[39m\u001B[38;5;124m./database/exchanges\u001B[39m\u001B[38;5;124m\"\u001B[39m\n\u001B[1;32m      5\u001B[0m )\n\u001B[1;32m      7\u001B[0m \u001B[38;5;28;01mawait\u001B[39;00m exchange\u001B[38;5;241m.\u001B[39mdownload_data(\n\u001B[1;32m      8\u001B[0m     coins\u001B[38;5;241m=\u001B[39mcoin_to_dl,\n\u001B[1;32m      9\u001B[0m     intervals\u001B[38;5;241m=\u001B[39mintervals,\n\u001B[1;32m     10\u001B[0m )\n\u001B[0;32m---> 12\u001B[0m df \u001B[38;5;241m=\u001B[39m \u001B[43mexchange\u001B[49m\u001B[38;5;241;43m.\u001B[39;49m\u001B[43mload_data\u001B[49m\u001B[43m(\u001B[49m\n\u001B[1;32m     13\u001B[0m \u001B[43m    \u001B[49m\u001B[43mcoin\u001B[49m\u001B[38;5;241;43m=\u001B[39;49m\u001B[38;5;124;43m\"\u001B[39;49m\u001B[38;5;124;43mAPI3/USDT:USDT\u001B[39;49m\u001B[38;5;124;43m\"\u001B[39;49m\u001B[43m,\u001B[49m\n\u001B[1;32m     14\u001B[0m \u001B[43m    \u001B[49m\u001B[43minterval\u001B[49m\u001B[38;5;241;43m=\u001B[39;49m\u001B[38;5;124;43m\"\u001B[39;49m\u001B[38;5;124;43m15m\u001B[39;49m\u001B[38;5;124;43m\"\u001B[39;49m\n\u001B[1;32m     15\u001B[0m \u001B[43m)\u001B[49m\n\u001B[1;32m     17\u001B[0m df\n",
      "File \u001B[0;32m~/autotrade/utilities/data_manager.py:142\u001B[0m, in \u001B[0;36mExchangeDataManager.load_data\u001B[0;34m(self, coin, interval, start_date, end_date)\u001B[0m\n\u001B[1;32m    140\u001B[0m file_name \u001B[38;5;241m=\u001B[39m \u001B[38;5;124mf\u001B[39m\u001B[38;5;124m\"\u001B[39m\u001B[38;5;132;01m{\u001B[39;00mfile_path\u001B[38;5;132;01m}\u001B[39;00m\u001B[38;5;132;01m{\u001B[39;00mcoin\u001B[38;5;241m.\u001B[39mreplace(\u001B[38;5;124m'\u001B[39m\u001B[38;5;124m/\u001B[39m\u001B[38;5;124m'\u001B[39m,\u001B[38;5;250m \u001B[39m\u001B[38;5;124m'\u001B[39m\u001B[38;5;124m-\u001B[39m\u001B[38;5;124m'\u001B[39m)\u001B[38;5;241m.\u001B[39mreplace(\u001B[38;5;124m'\u001B[39m\u001B[38;5;124m:\u001B[39m\u001B[38;5;124m'\u001B[39m,\u001B[38;5;250m \u001B[39m\u001B[38;5;124m'\u001B[39m\u001B[38;5;124m-\u001B[39m\u001B[38;5;124m'\u001B[39m)\u001B[38;5;132;01m}\u001B[39;00m\u001B[38;5;124m.csv\u001B[39m\u001B[38;5;124m\"\u001B[39m\n\u001B[1;32m    141\u001B[0m \u001B[38;5;28;01mif\u001B[39;00m \u001B[38;5;129;01mnot\u001B[39;00m os\u001B[38;5;241m.\u001B[39mpath\u001B[38;5;241m.\u001B[39mexists(file_name):\n\u001B[0;32m--> 142\u001B[0m     \u001B[38;5;28;01mraise\u001B[39;00m \u001B[38;5;167;01mFileNotFoundError\u001B[39;00m(\u001B[38;5;124mf\u001B[39m\u001B[38;5;124m\"\u001B[39m\u001B[38;5;124mLe fichier \u001B[39m\u001B[38;5;132;01m{\u001B[39;00mfile_name\u001B[38;5;132;01m}\u001B[39;00m\u001B[38;5;124m n\u001B[39m\u001B[38;5;124m'\u001B[39m\u001B[38;5;124mexiste pas\u001B[39m\u001B[38;5;124m\"\u001B[39m)\n\u001B[1;32m    144\u001B[0m df \u001B[38;5;241m=\u001B[39m pd\u001B[38;5;241m.\u001B[39mread_csv(file_name, index_col\u001B[38;5;241m=\u001B[39m\u001B[38;5;241m0\u001B[39m)\n\u001B[1;32m    145\u001B[0m df\u001B[38;5;241m.\u001B[39mindex \u001B[38;5;241m=\u001B[39m pd\u001B[38;5;241m.\u001B[39mto_datetime(df\u001B[38;5;241m.\u001B[39mindex, unit\u001B[38;5;241m=\u001B[39m\u001B[38;5;124m'\u001B[39m\u001B[38;5;124mms\u001B[39m\u001B[38;5;124m'\u001B[39m)\n",
      "\u001B[0;31mFileNotFoundError\u001B[0m: Le fichier /Users/thomasclement/autotrade/utilities/database/exchanges/binance/15m/API3-USDT-USDT.csv n'existe pas"
     ]
    }
   ],
   "source": [
    "exchange_name = \"binance\"\n",
    "\n",
    "exchange = ExchangeDataManager(\n",
    "    exchange_name=exchange_name, path_download=\"./database/exchanges\"\n",
    ")\n",
    "\n",
    "await exchange.download_data(\n",
    "    coins=coin_to_dl,\n",
    "    intervals=intervals,\n",
    ")\n",
    "\n",
    "df = exchange.load_data(\n",
    "    coin=\"API3/USDT:USDT\",\n",
    "    interval=\"15m\"\n",
    ")\n",
    "\n",
    "df"
   ]
  },
  {
   "cell_type": "code",
   "execution_count": null,
   "metadata": {},
   "outputs": [],
   "source": [
    "exchange.explore_data()"
   ]
  }
 ],
 "metadata": {
  "kernelspec": {
   "display_name": "Python 3.10.2 ('.venv': venv)",
   "language": "python",
   "name": "python3"
  },
  "language_info": {
   "codemirror_mode": {
    "name": "ipython",
    "version": 3
   },
   "file_extension": ".py",
   "mimetype": "text/x-python",
   "name": "python",
   "nbconvert_exporter": "python",
   "pygments_lexer": "ipython3",
   "version": "3.12.0"
  },
  "vscode": {
   "interpreter": {
    "hash": "d5100c10c6b669a578e86ed43dbb636d25e3c9fb9ee424ec9e5e4bad34e2e434"
   }
  }
 },
 "nbformat": 4,
 "nbformat_minor": 2
}
