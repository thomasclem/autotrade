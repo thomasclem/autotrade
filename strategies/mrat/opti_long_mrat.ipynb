{
 "cells": [
  {
   "cell_type": "code",
   "execution_count": 186,
   "metadata": {
    "collapsed": true,
    "ExecuteTime": {
     "end_time": "2024-03-19T23:44:46.205625Z",
     "start_time": "2024-03-19T23:44:46.189784Z"
    }
   },
   "outputs": [],
   "source": [
    "import sys\n",
    "sys.path.append('../..')\n",
    "import pandas as pd\n",
    "import ta\n",
    "from utilities.data_manager import ExchangeDataManager\n",
    "from numpy_ext import rolling_apply as rolling_apply_ext"
   ]
  },
  {
   "cell_type": "code",
   "execution_count": 11,
   "outputs": [],
   "source": [
    "class Strategy():\n",
    "    def __init__(\n",
    "        self,\n",
    "        pair,\n",
    "        type=[\"long\"],\n",
    "        params={},\n",
    "    ):\n",
    "        self.df_pair = None\n",
    "        self.df = None\n",
    "        self.pair = pair\n",
    "        self.initial_wallet = 1000\n",
    "        self.use_long = \"long\" in type\n",
    "        self.use_short = \"short\" in type\n",
    "        self.params = params\n",
    "        self.result_df = None\n",
    "\n",
    "    def get_pair_data(self, timeframe, start = 2050, end = 2050):\n",
    "        exchange = ExchangeDataManager(\n",
    "            exchange_name=exchange_name,\n",
    "            path_download=\"./database/exchanges\"\n",
    "        )\n",
    "\n",
    "        self.df_pair = exchange.load_data(self.pair, timeframe, start)\n",
    "\n",
    "    def populate_indicators(self):\n",
    "        params = self.params\n",
    "        df = self.df_pair.copy()\n",
    "        df.drop(\n",
    "            columns=df.columns.difference(['open','high','low','close','volume']),\n",
    "            inplace=True\n",
    "        )\n",
    "\n",
    "        # -- Populate indicators --\n",
    "        df['fast_ma'] = ta.trend.sma_indicator(close=df[\"close\"], window=params[\"fast_ma\"])\n",
    "        df['slow_ma'] = ta.trend.sma_indicator(close=df[\"close\"], window=params[\"slow_ma\"])\n",
    "        df['mrat'] = df['fast_ma'] / df['slow_ma']\n",
    "        df['mean_mrat'] = ta.trend.sma_indicator(close=df['mrat'], window=params[\"mean_mrat_lenght\"])\n",
    "        df['stdev_mrat'] = df['mrat'].rolling(params[\"mean_mrat_lenght\"]).std(ddof=0)\n",
    "        df['open_long_signal'] = df['mean_mrat'].shift(1) - df['mrat'].shift(1) >= params['sigma_open'] * df['stdev_mrat'].shift(1)\n",
    "        df['close_long_signal'] = df['mrat'].shift(1) - df['mean_mrat'].shift(1) >= params['sigma_close'] * df['stdev_mrat'].shift(1)\n",
    "\n",
    "        df[\"is_liquidated\"] = False\n",
    "        df[\"order_open\"] = False\n",
    "        # Trading logic\n",
    "        order_open = False\n",
    "        current_order_number = 0\n",
    "        open_price = 0\n",
    "        quantity = 0\n",
    "        trade_result = 0\n",
    "        # Constants and Initialization\n",
    "        initial_wallet = self.initial_wallet\n",
    "        leverage = params[\"leverage\"]  # Fixed leverage\n",
    "        maintenance_margin_percent = 0.004\n",
    "        wallet = initial_wallet\n",
    "        max_equity = initial_wallet  # To track the max equity before a new trade\n",
    "        max_drawdown = 0\n",
    "\n",
    "        for i in df.index:\n",
    "            if df.loc[i, 'open_long_signal'] and not order_open:\n",
    "                # Open a new order\n",
    "                current_order_number += 1\n",
    "                order_open = True\n",
    "                open_price = df.loc[i, 'open']\n",
    "                open_wallet = df.loc[i, 'wallet']\n",
    "                quantity = (wallet / open_price) * leverage\n",
    "                df.loc[i, 'order_number'] = current_order_number\n",
    "                df.loc[i, 'order_open'] = order_open\n",
    "\n",
    "            # Assign order_number to all rows of the current order\n",
    "            if order_open:\n",
    "                df.loc[i, 'order_number'] = current_order_number\n",
    "                df.loc[i, 'order_open'] = order_open\n",
    "                # Calculate hypothetical_wallet\n",
    "                hypothetical_wallet = wallet + quantity * (df.loc[i, 'open'] - open_price)\n",
    "                df.loc[i, 'hypothetical_wallet'] = hypothetical_wallet\n",
    "                df.loc[i, 'quantity'] = quantity\n",
    "\n",
    "                # Check for liquidation\n",
    "                maintenance_margin = (wallet / leverage) * maintenance_margin_percent\n",
    "                if hypothetical_wallet < maintenance_margin:\n",
    "                    df.loc[i, 'is_liquidated'] = True\n",
    "                    df.loc[i, 'trade_result'] = hypothetical_wallet - wallet\n",
    "                    wallet = 0  # Update wallet with the loss\n",
    "                    order_open = False  # Close the order\n",
    "\n",
    "            # Close the order\n",
    "            if df.loc[i, 'close_long_signal'] and order_open:\n",
    "                trade_result = quantity * (df.loc[i, 'open'] - open_price)\n",
    "                trade_result_perc = trade_result / wallet * 100\n",
    "                wallet += trade_result  # Update wallet with the profit or loss\n",
    "                order_open = False  # Close the order\n",
    "                df.loc[i, 'trade_result'] = trade_result\n",
    "                df.loc[i, 'trade_result_perc'] = trade_result_perc\n",
    "\n",
    "            # Set wallet to current wallet value\n",
    "            df.loc[i, 'wallet'] = wallet\n",
    "\n",
    "        df[\"drawdown\"] = (df[\"hypothetical_wallet\"] - df[\"wallet\"]) / df[\"wallet\"] * 100\n",
    "\n",
    "        return df\n",
    "\n",
    "\n",
    "    def get_result_df(self):\n",
    "        df = self.df\n",
    "        final_wallet_amount = df.loc[df[\"order_open\"] & df[\"close_long_signal\"], \"wallet\"].tail(1)\n",
    "        total_profit = final_wallet_amount  - self.initial_wallet\n",
    "        total_profit_perc = total_profit / self.initial_wallet * 100\n",
    "        total_trades = df[\"order_number\"].max()\n",
    "        avg_trade_profit_perc = df[\"trade_result_perc\"].dropna().mean()\n",
    "        avg_trade_profit = df[\"trade_result\"].dropna().mean()\n",
    "        max_drawdown = df[\"drawdown\"].max()\n",
    "\n",
    "        result_df = pd.DataFrame(\n",
    "            {\n",
    "                \"params\": str(self.params),\n",
    "                \"final_wallet_amount\": final_wallet_amount,\n",
    "                \"total_profit\": total_profit,\n",
    "                \"total_profit_perc\": total_profit_perc,\n",
    "                \"total_trades\": total_trades,\n",
    "                \"avg_trade_profit_perc\": avg_trade_profit_perc,\n",
    "                \"avg_trade_profit\": avg_trade_profit,\n",
    "                \"max_drawdown\": max_drawdown,\n",
    "            }\n",
    "        )\n",
    "\n",
    "        self.result_df = result_df"
   ],
   "metadata": {
    "collapsed": false,
    "ExecuteTime": {
     "end_time": "2024-03-19T20:36:55.265632Z",
     "start_time": "2024-03-19T20:36:55.240307Z"
    }
   }
  },
  {
   "cell_type": "code",
   "execution_count": 28,
   "outputs": [],
   "source": [
    "params = {\n",
    "    \"fast_ma\": 5,\n",
    "    \"slow_ma\": 60,\n",
    "    \"sigma_open\": 2.5,\n",
    "    \"sigma_close\": 2.7,\n",
    "    \"mean_mrat_lenght\": 60,\n",
    "    \"leverage\": 2\n",
    "}\n",
    "\n",
    "pair = \"API3/USDT:USDT\"\n",
    "exchange_name = \"binance\"\n",
    "tf = '15m'\n",
    "oldest_pair = \"API3/USDT:USDT\"\n",
    "start_date = \"2024-02-01 00:00:00\""
   ],
   "metadata": {
    "collapsed": false,
    "ExecuteTime": {
     "end_time": "2024-03-19T21:28:04.003269Z",
     "start_time": "2024-03-19T21:28:03.999800Z"
    }
   }
  },
  {
   "cell_type": "code",
   "execution_count": 29,
   "outputs": [],
   "source": [
    "strat = Strategy(pair=pair, params=params)\n",
    "strat.get_pair_data(timeframe=tf, start=start_date)\n",
    "df1 = strat.populate_indicators()"
   ],
   "metadata": {
    "collapsed": false,
    "ExecuteTime": {
     "end_time": "2024-03-19T21:28:05.694816Z",
     "start_time": "2024-03-19T21:28:04.628692Z"
    }
   }
  },
  {
   "cell_type": "code",
   "execution_count": 98,
   "outputs": [
    {
     "data": {
      "text/plain": "                       open    high     low   close    volume  fast_ma  \\\ndate                                                                     \n2024-03-18 01:15:00  3.3042  3.3230  3.2976  3.3019   94446.6  3.31402   \n2024-03-19 20:15:00  3.1625  3.1695  3.1349  3.1494  114853.5  3.17856   \n\n                      slow_ma      mrat  mean_mrat  stdev_mrat  ...  \\\ndate                                                            ...   \n2024-03-18 01:15:00  3.344252  0.990960   1.023098    0.012284  ...   \n2024-03-19 20:15:00  3.010803  1.055718   0.996041    0.046717  ...   \n\n                     close_long_signal  is_liquidated  order_open  \\\ndate                                                                \n2024-03-18 01:15:00              False          False        True   \n2024-03-19 20:15:00              False          False        True   \n\n                          wallet  order_number  hypothetical_wallet  \\\ndate                                                                  \n2024-03-18 01:15:00  1322.822932           8.0          1322.822932   \n2024-03-19 20:15:00  1322.822932           8.0          1209.364903   \n\n                       quantity  trade_result  trade_result_perc  drawdown  \ndate                                                                        \n2024-03-18 01:15:00  800.691806           NaN                NaN  0.000000  \n2024-03-19 20:15:00  800.691806           NaN                NaN -8.576963  \n\n[2 rows x 21 columns]",
      "text/html": "<div>\n<style scoped>\n    .dataframe tbody tr th:only-of-type {\n        vertical-align: middle;\n    }\n\n    .dataframe tbody tr th {\n        vertical-align: top;\n    }\n\n    .dataframe thead th {\n        text-align: right;\n    }\n</style>\n<table border=\"1\" class=\"dataframe\">\n  <thead>\n    <tr style=\"text-align: right;\">\n      <th></th>\n      <th>open</th>\n      <th>high</th>\n      <th>low</th>\n      <th>close</th>\n      <th>volume</th>\n      <th>fast_ma</th>\n      <th>slow_ma</th>\n      <th>mrat</th>\n      <th>mean_mrat</th>\n      <th>stdev_mrat</th>\n      <th>...</th>\n      <th>close_long_signal</th>\n      <th>is_liquidated</th>\n      <th>order_open</th>\n      <th>wallet</th>\n      <th>order_number</th>\n      <th>hypothetical_wallet</th>\n      <th>quantity</th>\n      <th>trade_result</th>\n      <th>trade_result_perc</th>\n      <th>drawdown</th>\n    </tr>\n    <tr>\n      <th>date</th>\n      <th></th>\n      <th></th>\n      <th></th>\n      <th></th>\n      <th></th>\n      <th></th>\n      <th></th>\n      <th></th>\n      <th></th>\n      <th></th>\n      <th></th>\n      <th></th>\n      <th></th>\n      <th></th>\n      <th></th>\n      <th></th>\n      <th></th>\n      <th></th>\n      <th></th>\n      <th></th>\n      <th></th>\n    </tr>\n  </thead>\n  <tbody>\n    <tr>\n      <th>2024-03-18 01:15:00</th>\n      <td>3.3042</td>\n      <td>3.3230</td>\n      <td>3.2976</td>\n      <td>3.3019</td>\n      <td>94446.6</td>\n      <td>3.31402</td>\n      <td>3.344252</td>\n      <td>0.990960</td>\n      <td>1.023098</td>\n      <td>0.012284</td>\n      <td>...</td>\n      <td>False</td>\n      <td>False</td>\n      <td>True</td>\n      <td>1322.822932</td>\n      <td>8.0</td>\n      <td>1322.822932</td>\n      <td>800.691806</td>\n      <td>NaN</td>\n      <td>NaN</td>\n      <td>0.000000</td>\n    </tr>\n    <tr>\n      <th>2024-03-19 20:15:00</th>\n      <td>3.1625</td>\n      <td>3.1695</td>\n      <td>3.1349</td>\n      <td>3.1494</td>\n      <td>114853.5</td>\n      <td>3.17856</td>\n      <td>3.010803</td>\n      <td>1.055718</td>\n      <td>0.996041</td>\n      <td>0.046717</td>\n      <td>...</td>\n      <td>False</td>\n      <td>False</td>\n      <td>True</td>\n      <td>1322.822932</td>\n      <td>8.0</td>\n      <td>1209.364903</td>\n      <td>800.691806</td>\n      <td>NaN</td>\n      <td>NaN</td>\n      <td>-8.576963</td>\n    </tr>\n  </tbody>\n</table>\n<p>2 rows × 21 columns</p>\n</div>"
     },
     "execution_count": 98,
     "metadata": {},
     "output_type": "execute_result"
    }
   ],
   "source": [
    "df1.loc[df1[\"order_number\"] == 8].iloc[[0,-1], :]"
   ],
   "metadata": {
    "collapsed": false,
    "ExecuteTime": {
     "end_time": "2024-03-19T22:17:20.657186Z",
     "start_time": "2024-03-19T22:17:20.633380Z"
    }
   }
  },
  {
   "cell_type": "code",
   "execution_count": 223,
   "outputs": [],
   "source": [],
   "metadata": {
    "collapsed": false,
    "ExecuteTime": {
     "end_time": "2024-03-19T00:05:09.006345Z",
     "start_time": "2024-03-19T00:05:08.988382Z"
    }
   }
  },
  {
   "cell_type": "code",
   "execution_count": 27,
   "outputs": [
    {
     "data": {
      "text/plain": "date\n2024-02-22 19:00:00    38212.813239\n2024-02-24 05:15:00    40941.782265\n2024-03-02 00:30:00    41963.677759\n2024-03-09 04:45:00    51116.104379\n2024-03-17 03:30:00    36104.186651\nName: wallet, dtype: float64"
     },
     "execution_count": 27,
     "metadata": {},
     "output_type": "execute_result"
    }
   ],
   "source": [
    "df1.loc[df1[\"order_open\"] & df1[\"close_long_signal\"], \"wallet\"].tail(5)"
   ],
   "metadata": {
    "collapsed": false,
    "ExecuteTime": {
     "end_time": "2024-03-19T20:54:35.366007Z",
     "start_time": "2024-03-19T20:54:35.363159Z"
    }
   }
  },
  {
   "cell_type": "code",
   "execution_count": 97,
   "outputs": [
    {
     "data": {
      "text/plain": "                       open    high     low   close    volume  fast_ma  \\\ndate                                                                     \n2024-03-19 18:00:00  3.1281  3.1284  3.0882  3.1010   98765.7  3.12416   \n2024-03-19 18:15:00  3.1011  3.1269  3.1011  3.1181   64403.0  3.12208   \n2024-03-19 18:30:00  3.1181  3.2680  3.1149  3.2479  926916.3  3.14416   \n2024-03-19 18:45:00  3.2472  3.2530  3.1908  3.1913  262397.7  3.15740   \n2024-03-19 19:00:00  3.1913  3.2011  3.1646  3.1901  237723.8  3.16968   \n2024-03-19 19:15:00  3.1901  3.2300  3.1860  3.2163  137732.0  3.19274   \n2024-03-19 19:30:00  3.2161  3.2161  3.1758  3.1791   98247.2  3.20494   \n2024-03-19 19:45:00  3.1790  3.1988  3.1711  3.1862   76367.3  3.19260   \n2024-03-19 20:00:00  3.1859  3.1956  3.1459  3.1618  155783.4  3.18670   \n2024-03-19 20:15:00  3.1625  3.1695  3.1349  3.1494  114853.5  3.17856   \n\n                      slow_ma      mrat  mean_mrat  stdev_mrat  ...  \\\ndate                                                            ...   \n2024-03-19 18:00:00  2.980375  1.048244   0.980669    0.039962  ...   \n2024-03-19 18:15:00  2.982613  1.046760   0.982114    0.040751  ...   \n2024-03-19 18:30:00  2.987477  1.052447   0.983741    0.041569  ...   \n2024-03-19 18:45:00  2.990463  1.055823   0.985445    0.042385  ...   \n2024-03-19 19:00:00  2.993368  1.058901   0.987191    0.043210  ...   \n2024-03-19 19:15:00  2.996615  1.065449   0.989018    0.044153  ...   \n2024-03-19 19:30:00  2.999633  1.068444   0.990861    0.045111  ...   \n2024-03-19 19:45:00  3.003358  1.063010   0.992587    0.045851  ...   \n2024-03-19 20:00:00  3.007012  1.059756   0.994309    0.046398  ...   \n2024-03-19 20:15:00  3.010803  1.055718   0.996041    0.046717  ...   \n\n                     close_long_signal  is_liquidated  order_open  \\\ndate                                                                \n2024-03-19 18:00:00              False          False        True   \n2024-03-19 18:15:00              False          False        True   \n2024-03-19 18:30:00              False          False        True   \n2024-03-19 18:45:00              False          False        True   \n2024-03-19 19:00:00              False          False        True   \n2024-03-19 19:15:00              False          False        True   \n2024-03-19 19:30:00              False          False        True   \n2024-03-19 19:45:00              False          False        True   \n2024-03-19 20:00:00              False          False        True   \n2024-03-19 20:15:00              False          False        True   \n\n                          wallet  order_number  hypothetical_wallet  \\\ndate                                                                  \n2024-03-19 18:00:00  1322.822932           8.0          1181.821105   \n2024-03-19 18:15:00  1322.822932           8.0          1160.202426   \n2024-03-19 18:30:00  1322.822932           8.0          1173.814187   \n2024-03-19 18:45:00  1322.822932           8.0          1277.183499   \n2024-03-19 19:00:00  1322.822932           8.0          1232.424827   \n2024-03-19 19:15:00  1322.822932           8.0          1231.463997   \n2024-03-19 19:30:00  1322.822932           8.0          1252.281984   \n2024-03-19 19:45:00  1322.822932           8.0          1222.576318   \n2024-03-19 20:00:00  1322.822932           8.0          1228.101091   \n2024-03-19 20:15:00  1322.822932           8.0          1209.364903   \n\n                       quantity  trade_result  trade_result_perc   drawdown  \ndate                                                                         \n2024-03-19 18:00:00  800.691806           NaN                NaN -10.659161  \n2024-03-19 18:15:00  800.691806           NaN                NaN -12.293445  \n2024-03-19 18:30:00  800.691806           NaN                NaN -11.264451  \n2024-03-19 18:45:00  800.691806           NaN                NaN  -3.450154  \n2024-03-19 19:00:00  800.691806           NaN                NaN  -6.833727  \n2024-03-19 19:15:00  800.691806           NaN                NaN  -6.906362  \n2024-03-19 19:30:00  800.691806           NaN                NaN  -5.332607  \n2024-03-19 19:45:00  800.691806           NaN                NaN  -7.578234  \n2024-03-19 20:00:00  800.691806           NaN                NaN  -7.160583  \n2024-03-19 20:15:00  800.691806           NaN                NaN  -8.576963  \n\n[10 rows x 21 columns]",
      "text/html": "<div>\n<style scoped>\n    .dataframe tbody tr th:only-of-type {\n        vertical-align: middle;\n    }\n\n    .dataframe tbody tr th {\n        vertical-align: top;\n    }\n\n    .dataframe thead th {\n        text-align: right;\n    }\n</style>\n<table border=\"1\" class=\"dataframe\">\n  <thead>\n    <tr style=\"text-align: right;\">\n      <th></th>\n      <th>open</th>\n      <th>high</th>\n      <th>low</th>\n      <th>close</th>\n      <th>volume</th>\n      <th>fast_ma</th>\n      <th>slow_ma</th>\n      <th>mrat</th>\n      <th>mean_mrat</th>\n      <th>stdev_mrat</th>\n      <th>...</th>\n      <th>close_long_signal</th>\n      <th>is_liquidated</th>\n      <th>order_open</th>\n      <th>wallet</th>\n      <th>order_number</th>\n      <th>hypothetical_wallet</th>\n      <th>quantity</th>\n      <th>trade_result</th>\n      <th>trade_result_perc</th>\n      <th>drawdown</th>\n    </tr>\n    <tr>\n      <th>date</th>\n      <th></th>\n      <th></th>\n      <th></th>\n      <th></th>\n      <th></th>\n      <th></th>\n      <th></th>\n      <th></th>\n      <th></th>\n      <th></th>\n      <th></th>\n      <th></th>\n      <th></th>\n      <th></th>\n      <th></th>\n      <th></th>\n      <th></th>\n      <th></th>\n      <th></th>\n      <th></th>\n      <th></th>\n    </tr>\n  </thead>\n  <tbody>\n    <tr>\n      <th>2024-03-19 18:00:00</th>\n      <td>3.1281</td>\n      <td>3.1284</td>\n      <td>3.0882</td>\n      <td>3.1010</td>\n      <td>98765.7</td>\n      <td>3.12416</td>\n      <td>2.980375</td>\n      <td>1.048244</td>\n      <td>0.980669</td>\n      <td>0.039962</td>\n      <td>...</td>\n      <td>False</td>\n      <td>False</td>\n      <td>True</td>\n      <td>1322.822932</td>\n      <td>8.0</td>\n      <td>1181.821105</td>\n      <td>800.691806</td>\n      <td>NaN</td>\n      <td>NaN</td>\n      <td>-10.659161</td>\n    </tr>\n    <tr>\n      <th>2024-03-19 18:15:00</th>\n      <td>3.1011</td>\n      <td>3.1269</td>\n      <td>3.1011</td>\n      <td>3.1181</td>\n      <td>64403.0</td>\n      <td>3.12208</td>\n      <td>2.982613</td>\n      <td>1.046760</td>\n      <td>0.982114</td>\n      <td>0.040751</td>\n      <td>...</td>\n      <td>False</td>\n      <td>False</td>\n      <td>True</td>\n      <td>1322.822932</td>\n      <td>8.0</td>\n      <td>1160.202426</td>\n      <td>800.691806</td>\n      <td>NaN</td>\n      <td>NaN</td>\n      <td>-12.293445</td>\n    </tr>\n    <tr>\n      <th>2024-03-19 18:30:00</th>\n      <td>3.1181</td>\n      <td>3.2680</td>\n      <td>3.1149</td>\n      <td>3.2479</td>\n      <td>926916.3</td>\n      <td>3.14416</td>\n      <td>2.987477</td>\n      <td>1.052447</td>\n      <td>0.983741</td>\n      <td>0.041569</td>\n      <td>...</td>\n      <td>False</td>\n      <td>False</td>\n      <td>True</td>\n      <td>1322.822932</td>\n      <td>8.0</td>\n      <td>1173.814187</td>\n      <td>800.691806</td>\n      <td>NaN</td>\n      <td>NaN</td>\n      <td>-11.264451</td>\n    </tr>\n    <tr>\n      <th>2024-03-19 18:45:00</th>\n      <td>3.2472</td>\n      <td>3.2530</td>\n      <td>3.1908</td>\n      <td>3.1913</td>\n      <td>262397.7</td>\n      <td>3.15740</td>\n      <td>2.990463</td>\n      <td>1.055823</td>\n      <td>0.985445</td>\n      <td>0.042385</td>\n      <td>...</td>\n      <td>False</td>\n      <td>False</td>\n      <td>True</td>\n      <td>1322.822932</td>\n      <td>8.0</td>\n      <td>1277.183499</td>\n      <td>800.691806</td>\n      <td>NaN</td>\n      <td>NaN</td>\n      <td>-3.450154</td>\n    </tr>\n    <tr>\n      <th>2024-03-19 19:00:00</th>\n      <td>3.1913</td>\n      <td>3.2011</td>\n      <td>3.1646</td>\n      <td>3.1901</td>\n      <td>237723.8</td>\n      <td>3.16968</td>\n      <td>2.993368</td>\n      <td>1.058901</td>\n      <td>0.987191</td>\n      <td>0.043210</td>\n      <td>...</td>\n      <td>False</td>\n      <td>False</td>\n      <td>True</td>\n      <td>1322.822932</td>\n      <td>8.0</td>\n      <td>1232.424827</td>\n      <td>800.691806</td>\n      <td>NaN</td>\n      <td>NaN</td>\n      <td>-6.833727</td>\n    </tr>\n    <tr>\n      <th>2024-03-19 19:15:00</th>\n      <td>3.1901</td>\n      <td>3.2300</td>\n      <td>3.1860</td>\n      <td>3.2163</td>\n      <td>137732.0</td>\n      <td>3.19274</td>\n      <td>2.996615</td>\n      <td>1.065449</td>\n      <td>0.989018</td>\n      <td>0.044153</td>\n      <td>...</td>\n      <td>False</td>\n      <td>False</td>\n      <td>True</td>\n      <td>1322.822932</td>\n      <td>8.0</td>\n      <td>1231.463997</td>\n      <td>800.691806</td>\n      <td>NaN</td>\n      <td>NaN</td>\n      <td>-6.906362</td>\n    </tr>\n    <tr>\n      <th>2024-03-19 19:30:00</th>\n      <td>3.2161</td>\n      <td>3.2161</td>\n      <td>3.1758</td>\n      <td>3.1791</td>\n      <td>98247.2</td>\n      <td>3.20494</td>\n      <td>2.999633</td>\n      <td>1.068444</td>\n      <td>0.990861</td>\n      <td>0.045111</td>\n      <td>...</td>\n      <td>False</td>\n      <td>False</td>\n      <td>True</td>\n      <td>1322.822932</td>\n      <td>8.0</td>\n      <td>1252.281984</td>\n      <td>800.691806</td>\n      <td>NaN</td>\n      <td>NaN</td>\n      <td>-5.332607</td>\n    </tr>\n    <tr>\n      <th>2024-03-19 19:45:00</th>\n      <td>3.1790</td>\n      <td>3.1988</td>\n      <td>3.1711</td>\n      <td>3.1862</td>\n      <td>76367.3</td>\n      <td>3.19260</td>\n      <td>3.003358</td>\n      <td>1.063010</td>\n      <td>0.992587</td>\n      <td>0.045851</td>\n      <td>...</td>\n      <td>False</td>\n      <td>False</td>\n      <td>True</td>\n      <td>1322.822932</td>\n      <td>8.0</td>\n      <td>1222.576318</td>\n      <td>800.691806</td>\n      <td>NaN</td>\n      <td>NaN</td>\n      <td>-7.578234</td>\n    </tr>\n    <tr>\n      <th>2024-03-19 20:00:00</th>\n      <td>3.1859</td>\n      <td>3.1956</td>\n      <td>3.1459</td>\n      <td>3.1618</td>\n      <td>155783.4</td>\n      <td>3.18670</td>\n      <td>3.007012</td>\n      <td>1.059756</td>\n      <td>0.994309</td>\n      <td>0.046398</td>\n      <td>...</td>\n      <td>False</td>\n      <td>False</td>\n      <td>True</td>\n      <td>1322.822932</td>\n      <td>8.0</td>\n      <td>1228.101091</td>\n      <td>800.691806</td>\n      <td>NaN</td>\n      <td>NaN</td>\n      <td>-7.160583</td>\n    </tr>\n    <tr>\n      <th>2024-03-19 20:15:00</th>\n      <td>3.1625</td>\n      <td>3.1695</td>\n      <td>3.1349</td>\n      <td>3.1494</td>\n      <td>114853.5</td>\n      <td>3.17856</td>\n      <td>3.010803</td>\n      <td>1.055718</td>\n      <td>0.996041</td>\n      <td>0.046717</td>\n      <td>...</td>\n      <td>False</td>\n      <td>False</td>\n      <td>True</td>\n      <td>1322.822932</td>\n      <td>8.0</td>\n      <td>1209.364903</td>\n      <td>800.691806</td>\n      <td>NaN</td>\n      <td>NaN</td>\n      <td>-8.576963</td>\n    </tr>\n  </tbody>\n</table>\n<p>10 rows × 21 columns</p>\n</div>"
     },
     "execution_count": 97,
     "metadata": {},
     "output_type": "execute_result"
    }
   ],
   "source": [
    "df1.tail(10)"
   ],
   "metadata": {
    "collapsed": false,
    "ExecuteTime": {
     "end_time": "2024-03-19T22:17:06.546905Z",
     "start_time": "2024-03-19T22:17:06.523595Z"
    }
   }
  },
  {
   "cell_type": "code",
   "execution_count": 102,
   "outputs": [],
   "source": [
    "df_test = df1.loc[df1[\"open_long_signal\"] | df1[\"close_long_signal\"], [\"open_long_signal\", \"close_long_signal\",\"open\", \"close\"]]"
   ],
   "metadata": {
    "collapsed": false,
    "ExecuteTime": {
     "end_time": "2024-03-19T22:42:45.628626Z",
     "start_time": "2024-03-19T22:42:45.608066Z"
    }
   }
  },
  {
   "cell_type": "code",
   "execution_count": 103,
   "outputs": [],
   "source": [
    "df_test[\"open_signal_lag\"] = df1[\"open_long_signal\"].shift()\n",
    "df_test[\"close_signal_lag\"] = df1[\"close_long_signal\"].shift()"
   ],
   "metadata": {
    "collapsed": false,
    "ExecuteTime": {
     "end_time": "2024-03-19T22:42:45.993671Z",
     "start_time": "2024-03-19T22:42:45.983662Z"
    }
   }
  },
  {
   "cell_type": "code",
   "execution_count": 104,
   "outputs": [
    {
     "data": {
      "text/plain": "                     open_long_signal  close_long_signal    open   close  \\\ndate                                                                       \n2024-02-02 09:45:00             False               True  2.7921  2.8198   \n2024-02-02 10:00:00             False               True  2.8204  2.8372   \n2024-02-02 10:15:00             False               True  2.8377  2.8857   \n2024-02-02 10:30:00             False               True  2.8857  2.9980   \n2024-02-02 10:45:00             False               True  2.9978  3.0219   \n...                               ...                ...     ...     ...   \n2024-03-17 03:45:00             False               True  3.2634  3.2674   \n2024-03-18 01:15:00              True              False  3.3042  3.3019   \n2024-03-18 01:30:00              True              False  3.3024  3.3033   \n2024-03-18 01:45:00              True              False  3.3032  3.3140   \n2024-03-18 02:00:00              True              False  3.3141  3.3232   \n\n                    open_signal_lag close_signal_lag  \ndate                                                  \n2024-02-02 09:45:00           False            False  \n2024-02-02 10:00:00           False             True  \n2024-02-02 10:15:00           False             True  \n2024-02-02 10:30:00           False             True  \n2024-02-02 10:45:00           False             True  \n...                             ...              ...  \n2024-03-17 03:45:00           False             True  \n2024-03-18 01:15:00           False            False  \n2024-03-18 01:30:00            True            False  \n2024-03-18 01:45:00            True            False  \n2024-03-18 02:00:00            True            False  \n\n[223 rows x 6 columns]",
      "text/html": "<div>\n<style scoped>\n    .dataframe tbody tr th:only-of-type {\n        vertical-align: middle;\n    }\n\n    .dataframe tbody tr th {\n        vertical-align: top;\n    }\n\n    .dataframe thead th {\n        text-align: right;\n    }\n</style>\n<table border=\"1\" class=\"dataframe\">\n  <thead>\n    <tr style=\"text-align: right;\">\n      <th></th>\n      <th>open_long_signal</th>\n      <th>close_long_signal</th>\n      <th>open</th>\n      <th>close</th>\n      <th>open_signal_lag</th>\n      <th>close_signal_lag</th>\n    </tr>\n    <tr>\n      <th>date</th>\n      <th></th>\n      <th></th>\n      <th></th>\n      <th></th>\n      <th></th>\n      <th></th>\n    </tr>\n  </thead>\n  <tbody>\n    <tr>\n      <th>2024-02-02 09:45:00</th>\n      <td>False</td>\n      <td>True</td>\n      <td>2.7921</td>\n      <td>2.8198</td>\n      <td>False</td>\n      <td>False</td>\n    </tr>\n    <tr>\n      <th>2024-02-02 10:00:00</th>\n      <td>False</td>\n      <td>True</td>\n      <td>2.8204</td>\n      <td>2.8372</td>\n      <td>False</td>\n      <td>True</td>\n    </tr>\n    <tr>\n      <th>2024-02-02 10:15:00</th>\n      <td>False</td>\n      <td>True</td>\n      <td>2.8377</td>\n      <td>2.8857</td>\n      <td>False</td>\n      <td>True</td>\n    </tr>\n    <tr>\n      <th>2024-02-02 10:30:00</th>\n      <td>False</td>\n      <td>True</td>\n      <td>2.8857</td>\n      <td>2.9980</td>\n      <td>False</td>\n      <td>True</td>\n    </tr>\n    <tr>\n      <th>2024-02-02 10:45:00</th>\n      <td>False</td>\n      <td>True</td>\n      <td>2.9978</td>\n      <td>3.0219</td>\n      <td>False</td>\n      <td>True</td>\n    </tr>\n    <tr>\n      <th>...</th>\n      <td>...</td>\n      <td>...</td>\n      <td>...</td>\n      <td>...</td>\n      <td>...</td>\n      <td>...</td>\n    </tr>\n    <tr>\n      <th>2024-03-17 03:45:00</th>\n      <td>False</td>\n      <td>True</td>\n      <td>3.2634</td>\n      <td>3.2674</td>\n      <td>False</td>\n      <td>True</td>\n    </tr>\n    <tr>\n      <th>2024-03-18 01:15:00</th>\n      <td>True</td>\n      <td>False</td>\n      <td>3.3042</td>\n      <td>3.3019</td>\n      <td>False</td>\n      <td>False</td>\n    </tr>\n    <tr>\n      <th>2024-03-18 01:30:00</th>\n      <td>True</td>\n      <td>False</td>\n      <td>3.3024</td>\n      <td>3.3033</td>\n      <td>True</td>\n      <td>False</td>\n    </tr>\n    <tr>\n      <th>2024-03-18 01:45:00</th>\n      <td>True</td>\n      <td>False</td>\n      <td>3.3032</td>\n      <td>3.3140</td>\n      <td>True</td>\n      <td>False</td>\n    </tr>\n    <tr>\n      <th>2024-03-18 02:00:00</th>\n      <td>True</td>\n      <td>False</td>\n      <td>3.3141</td>\n      <td>3.3232</td>\n      <td>True</td>\n      <td>False</td>\n    </tr>\n  </tbody>\n</table>\n<p>223 rows × 6 columns</p>\n</div>"
     },
     "execution_count": 104,
     "metadata": {},
     "output_type": "execute_result"
    }
   ],
   "source": [
    "df_test"
   ],
   "metadata": {
    "collapsed": false,
    "ExecuteTime": {
     "end_time": "2024-03-19T22:42:46.429704Z",
     "start_time": "2024-03-19T22:42:46.421111Z"
    }
   }
  },
  {
   "cell_type": "code",
   "execution_count": 105,
   "outputs": [],
   "source": [
    "df_filtered  = df_test[\n",
    "    (~ df_test[\"open_signal_lag\"] & (df_test[\"open_long_signal\"] | df_test[\"open_long_signal\"].isnull())) |\n",
    "    (~ df_test[\"close_signal_lag\"] & df_test[\"close_long_signal\"])\n",
    "     ]"
   ],
   "metadata": {
    "collapsed": false,
    "ExecuteTime": {
     "end_time": "2024-03-19T22:42:46.859686Z",
     "start_time": "2024-03-19T22:42:46.849235Z"
    }
   }
  },
  {
   "cell_type": "code",
   "execution_count": 106,
   "outputs": [
    {
     "data": {
      "text/plain": "                     open_long_signal  close_long_signal    open   close  \\\ndate                                                                       \n2024-02-02 09:45:00             False               True  2.7921  2.8198   \n2024-02-04 03:45:00             False               True  3.3686  3.3548   \n2024-02-04 16:15:00              True              False  3.1655  3.1642   \n2024-02-05 09:45:00             False               True  3.2457  3.2566   \n2024-02-06 16:15:00             False               True  2.9936  3.0108   \n2024-02-07 07:15:00             False               True  3.1199  3.2122   \n2024-02-11 16:00:00              True              False  3.1049  3.1144   \n2024-02-12 04:30:00             False               True  3.3268  3.4421   \n2024-02-12 07:15:00             False               True  3.7436  3.6922   \n2024-02-14 14:45:00             False               True  3.5532  3.5702   \n2024-02-14 16:45:00             False               True  3.6519  3.6945   \n2024-02-16 11:15:00             False               True  4.4533  4.4796   \n2024-02-20 03:30:00             False               True  4.3608  4.5313   \n2024-02-20 15:45:00              True              False  3.8491  3.8323   \n2024-02-21 18:30:00              True              False  3.8582  3.8526   \n2024-02-22 19:00:00             False               True  4.1684  4.1259   \n2024-02-23 16:15:00              True              False  3.6911  3.7205   \n2024-02-24 05:15:00             False               True  3.8229  3.8245   \n2024-02-25 02:15:00             False               True  4.0737  4.0650   \n2024-02-25 05:15:00              True              False  3.9103  3.9333   \n2024-02-26 08:30:00              True              False  3.8657  3.8480   \n2024-02-26 09:45:00              True              False  3.7788  3.7858   \n2024-02-28 18:00:00              True              False  3.8399  3.7992   \n2024-02-29 22:45:00              True              False  3.7447  3.7858   \n2024-03-02 00:30:00             False               True  3.9591  3.9363   \n2024-03-02 11:30:00              True              False  3.8092  3.8029   \n2024-03-03 08:00:00              True              False  3.6969  3.6665   \n2024-03-04 02:45:00              True              False  3.7470  3.7461   \n2024-03-04 18:00:00              True              False  3.5393  3.5772   \n2024-03-05 20:00:00              True              False  3.1040  3.2051   \n2024-03-08 16:15:00              True              False  3.5052  3.5606   \n2024-03-09 04:45:00             False               True  4.2246  4.1230   \n2024-03-11 00:15:00             False               True  4.0703  3.9796   \n2024-03-12 06:30:00              True              False  3.8007  3.7861   \n2024-03-13 14:00:00              True              False  3.8575  3.9030   \n2024-03-13 14:30:00              True              False  3.8721  3.8713   \n2024-03-13 15:30:00              True              False  3.8430  3.8366   \n2024-03-14 13:45:00              True              False  3.7828  3.7409   \n2024-03-16 13:00:00              True              False  3.3643  3.3560   \n2024-03-17 03:30:00             False               True  3.2426  3.2630   \n2024-03-18 01:15:00              True              False  3.3042  3.3019   \n\n                    open_signal_lag close_signal_lag  \ndate                                                  \n2024-02-02 09:45:00           False            False  \n2024-02-04 03:45:00           False            False  \n2024-02-04 16:15:00           False            False  \n2024-02-05 09:45:00           False            False  \n2024-02-06 16:15:00           False            False  \n2024-02-07 07:15:00           False            False  \n2024-02-11 16:00:00           False            False  \n2024-02-12 04:30:00           False            False  \n2024-02-12 07:15:00           False            False  \n2024-02-14 14:45:00           False            False  \n2024-02-14 16:45:00           False            False  \n2024-02-16 11:15:00           False            False  \n2024-02-20 03:30:00           False            False  \n2024-02-20 15:45:00           False            False  \n2024-02-21 18:30:00           False            False  \n2024-02-22 19:00:00           False            False  \n2024-02-23 16:15:00           False            False  \n2024-02-24 05:15:00           False            False  \n2024-02-25 02:15:00           False            False  \n2024-02-25 05:15:00           False            False  \n2024-02-26 08:30:00           False            False  \n2024-02-26 09:45:00           False            False  \n2024-02-28 18:00:00           False            False  \n2024-02-29 22:45:00           False            False  \n2024-03-02 00:30:00           False            False  \n2024-03-02 11:30:00           False            False  \n2024-03-03 08:00:00           False            False  \n2024-03-04 02:45:00           False            False  \n2024-03-04 18:00:00           False            False  \n2024-03-05 20:00:00           False            False  \n2024-03-08 16:15:00           False            False  \n2024-03-09 04:45:00           False            False  \n2024-03-11 00:15:00           False            False  \n2024-03-12 06:30:00           False            False  \n2024-03-13 14:00:00           False            False  \n2024-03-13 14:30:00           False            False  \n2024-03-13 15:30:00           False            False  \n2024-03-14 13:45:00           False            False  \n2024-03-16 13:00:00           False            False  \n2024-03-17 03:30:00           False            False  \n2024-03-18 01:15:00           False            False  ",
      "text/html": "<div>\n<style scoped>\n    .dataframe tbody tr th:only-of-type {\n        vertical-align: middle;\n    }\n\n    .dataframe tbody tr th {\n        vertical-align: top;\n    }\n\n    .dataframe thead th {\n        text-align: right;\n    }\n</style>\n<table border=\"1\" class=\"dataframe\">\n  <thead>\n    <tr style=\"text-align: right;\">\n      <th></th>\n      <th>open_long_signal</th>\n      <th>close_long_signal</th>\n      <th>open</th>\n      <th>close</th>\n      <th>open_signal_lag</th>\n      <th>close_signal_lag</th>\n    </tr>\n    <tr>\n      <th>date</th>\n      <th></th>\n      <th></th>\n      <th></th>\n      <th></th>\n      <th></th>\n      <th></th>\n    </tr>\n  </thead>\n  <tbody>\n    <tr>\n      <th>2024-02-02 09:45:00</th>\n      <td>False</td>\n      <td>True</td>\n      <td>2.7921</td>\n      <td>2.8198</td>\n      <td>False</td>\n      <td>False</td>\n    </tr>\n    <tr>\n      <th>2024-02-04 03:45:00</th>\n      <td>False</td>\n      <td>True</td>\n      <td>3.3686</td>\n      <td>3.3548</td>\n      <td>False</td>\n      <td>False</td>\n    </tr>\n    <tr>\n      <th>2024-02-04 16:15:00</th>\n      <td>True</td>\n      <td>False</td>\n      <td>3.1655</td>\n      <td>3.1642</td>\n      <td>False</td>\n      <td>False</td>\n    </tr>\n    <tr>\n      <th>2024-02-05 09:45:00</th>\n      <td>False</td>\n      <td>True</td>\n      <td>3.2457</td>\n      <td>3.2566</td>\n      <td>False</td>\n      <td>False</td>\n    </tr>\n    <tr>\n      <th>2024-02-06 16:15:00</th>\n      <td>False</td>\n      <td>True</td>\n      <td>2.9936</td>\n      <td>3.0108</td>\n      <td>False</td>\n      <td>False</td>\n    </tr>\n    <tr>\n      <th>2024-02-07 07:15:00</th>\n      <td>False</td>\n      <td>True</td>\n      <td>3.1199</td>\n      <td>3.2122</td>\n      <td>False</td>\n      <td>False</td>\n    </tr>\n    <tr>\n      <th>2024-02-11 16:00:00</th>\n      <td>True</td>\n      <td>False</td>\n      <td>3.1049</td>\n      <td>3.1144</td>\n      <td>False</td>\n      <td>False</td>\n    </tr>\n    <tr>\n      <th>2024-02-12 04:30:00</th>\n      <td>False</td>\n      <td>True</td>\n      <td>3.3268</td>\n      <td>3.4421</td>\n      <td>False</td>\n      <td>False</td>\n    </tr>\n    <tr>\n      <th>2024-02-12 07:15:00</th>\n      <td>False</td>\n      <td>True</td>\n      <td>3.7436</td>\n      <td>3.6922</td>\n      <td>False</td>\n      <td>False</td>\n    </tr>\n    <tr>\n      <th>2024-02-14 14:45:00</th>\n      <td>False</td>\n      <td>True</td>\n      <td>3.5532</td>\n      <td>3.5702</td>\n      <td>False</td>\n      <td>False</td>\n    </tr>\n    <tr>\n      <th>2024-02-14 16:45:00</th>\n      <td>False</td>\n      <td>True</td>\n      <td>3.6519</td>\n      <td>3.6945</td>\n      <td>False</td>\n      <td>False</td>\n    </tr>\n    <tr>\n      <th>2024-02-16 11:15:00</th>\n      <td>False</td>\n      <td>True</td>\n      <td>4.4533</td>\n      <td>4.4796</td>\n      <td>False</td>\n      <td>False</td>\n    </tr>\n    <tr>\n      <th>2024-02-20 03:30:00</th>\n      <td>False</td>\n      <td>True</td>\n      <td>4.3608</td>\n      <td>4.5313</td>\n      <td>False</td>\n      <td>False</td>\n    </tr>\n    <tr>\n      <th>2024-02-20 15:45:00</th>\n      <td>True</td>\n      <td>False</td>\n      <td>3.8491</td>\n      <td>3.8323</td>\n      <td>False</td>\n      <td>False</td>\n    </tr>\n    <tr>\n      <th>2024-02-21 18:30:00</th>\n      <td>True</td>\n      <td>False</td>\n      <td>3.8582</td>\n      <td>3.8526</td>\n      <td>False</td>\n      <td>False</td>\n    </tr>\n    <tr>\n      <th>2024-02-22 19:00:00</th>\n      <td>False</td>\n      <td>True</td>\n      <td>4.1684</td>\n      <td>4.1259</td>\n      <td>False</td>\n      <td>False</td>\n    </tr>\n    <tr>\n      <th>2024-02-23 16:15:00</th>\n      <td>True</td>\n      <td>False</td>\n      <td>3.6911</td>\n      <td>3.7205</td>\n      <td>False</td>\n      <td>False</td>\n    </tr>\n    <tr>\n      <th>2024-02-24 05:15:00</th>\n      <td>False</td>\n      <td>True</td>\n      <td>3.8229</td>\n      <td>3.8245</td>\n      <td>False</td>\n      <td>False</td>\n    </tr>\n    <tr>\n      <th>2024-02-25 02:15:00</th>\n      <td>False</td>\n      <td>True</td>\n      <td>4.0737</td>\n      <td>4.0650</td>\n      <td>False</td>\n      <td>False</td>\n    </tr>\n    <tr>\n      <th>2024-02-25 05:15:00</th>\n      <td>True</td>\n      <td>False</td>\n      <td>3.9103</td>\n      <td>3.9333</td>\n      <td>False</td>\n      <td>False</td>\n    </tr>\n    <tr>\n      <th>2024-02-26 08:30:00</th>\n      <td>True</td>\n      <td>False</td>\n      <td>3.8657</td>\n      <td>3.8480</td>\n      <td>False</td>\n      <td>False</td>\n    </tr>\n    <tr>\n      <th>2024-02-26 09:45:00</th>\n      <td>True</td>\n      <td>False</td>\n      <td>3.7788</td>\n      <td>3.7858</td>\n      <td>False</td>\n      <td>False</td>\n    </tr>\n    <tr>\n      <th>2024-02-28 18:00:00</th>\n      <td>True</td>\n      <td>False</td>\n      <td>3.8399</td>\n      <td>3.7992</td>\n      <td>False</td>\n      <td>False</td>\n    </tr>\n    <tr>\n      <th>2024-02-29 22:45:00</th>\n      <td>True</td>\n      <td>False</td>\n      <td>3.7447</td>\n      <td>3.7858</td>\n      <td>False</td>\n      <td>False</td>\n    </tr>\n    <tr>\n      <th>2024-03-02 00:30:00</th>\n      <td>False</td>\n      <td>True</td>\n      <td>3.9591</td>\n      <td>3.9363</td>\n      <td>False</td>\n      <td>False</td>\n    </tr>\n    <tr>\n      <th>2024-03-02 11:30:00</th>\n      <td>True</td>\n      <td>False</td>\n      <td>3.8092</td>\n      <td>3.8029</td>\n      <td>False</td>\n      <td>False</td>\n    </tr>\n    <tr>\n      <th>2024-03-03 08:00:00</th>\n      <td>True</td>\n      <td>False</td>\n      <td>3.6969</td>\n      <td>3.6665</td>\n      <td>False</td>\n      <td>False</td>\n    </tr>\n    <tr>\n      <th>2024-03-04 02:45:00</th>\n      <td>True</td>\n      <td>False</td>\n      <td>3.7470</td>\n      <td>3.7461</td>\n      <td>False</td>\n      <td>False</td>\n    </tr>\n    <tr>\n      <th>2024-03-04 18:00:00</th>\n      <td>True</td>\n      <td>False</td>\n      <td>3.5393</td>\n      <td>3.5772</td>\n      <td>False</td>\n      <td>False</td>\n    </tr>\n    <tr>\n      <th>2024-03-05 20:00:00</th>\n      <td>True</td>\n      <td>False</td>\n      <td>3.1040</td>\n      <td>3.2051</td>\n      <td>False</td>\n      <td>False</td>\n    </tr>\n    <tr>\n      <th>2024-03-08 16:15:00</th>\n      <td>True</td>\n      <td>False</td>\n      <td>3.5052</td>\n      <td>3.5606</td>\n      <td>False</td>\n      <td>False</td>\n    </tr>\n    <tr>\n      <th>2024-03-09 04:45:00</th>\n      <td>False</td>\n      <td>True</td>\n      <td>4.2246</td>\n      <td>4.1230</td>\n      <td>False</td>\n      <td>False</td>\n    </tr>\n    <tr>\n      <th>2024-03-11 00:15:00</th>\n      <td>False</td>\n      <td>True</td>\n      <td>4.0703</td>\n      <td>3.9796</td>\n      <td>False</td>\n      <td>False</td>\n    </tr>\n    <tr>\n      <th>2024-03-12 06:30:00</th>\n      <td>True</td>\n      <td>False</td>\n      <td>3.8007</td>\n      <td>3.7861</td>\n      <td>False</td>\n      <td>False</td>\n    </tr>\n    <tr>\n      <th>2024-03-13 14:00:00</th>\n      <td>True</td>\n      <td>False</td>\n      <td>3.8575</td>\n      <td>3.9030</td>\n      <td>False</td>\n      <td>False</td>\n    </tr>\n    <tr>\n      <th>2024-03-13 14:30:00</th>\n      <td>True</td>\n      <td>False</td>\n      <td>3.8721</td>\n      <td>3.8713</td>\n      <td>False</td>\n      <td>False</td>\n    </tr>\n    <tr>\n      <th>2024-03-13 15:30:00</th>\n      <td>True</td>\n      <td>False</td>\n      <td>3.8430</td>\n      <td>3.8366</td>\n      <td>False</td>\n      <td>False</td>\n    </tr>\n    <tr>\n      <th>2024-03-14 13:45:00</th>\n      <td>True</td>\n      <td>False</td>\n      <td>3.7828</td>\n      <td>3.7409</td>\n      <td>False</td>\n      <td>False</td>\n    </tr>\n    <tr>\n      <th>2024-03-16 13:00:00</th>\n      <td>True</td>\n      <td>False</td>\n      <td>3.3643</td>\n      <td>3.3560</td>\n      <td>False</td>\n      <td>False</td>\n    </tr>\n    <tr>\n      <th>2024-03-17 03:30:00</th>\n      <td>False</td>\n      <td>True</td>\n      <td>3.2426</td>\n      <td>3.2630</td>\n      <td>False</td>\n      <td>False</td>\n    </tr>\n    <tr>\n      <th>2024-03-18 01:15:00</th>\n      <td>True</td>\n      <td>False</td>\n      <td>3.3042</td>\n      <td>3.3019</td>\n      <td>False</td>\n      <td>False</td>\n    </tr>\n  </tbody>\n</table>\n</div>"
     },
     "execution_count": 106,
     "metadata": {},
     "output_type": "execute_result"
    }
   ],
   "source": [
    "df_filtered"
   ],
   "metadata": {
    "collapsed": false,
    "ExecuteTime": {
     "end_time": "2024-03-19T22:42:47.246891Z",
     "start_time": "2024-03-19T22:42:47.240407Z"
    }
   }
  },
  {
   "cell_type": "code",
   "execution_count": 107,
   "outputs": [
    {
     "name": "stderr",
     "output_type": "stream",
     "text": [
      "/var/folders/_9/mg2v8fwd04n3k0y4zztq8z7h0000gn/T/ipykernel_55277/518765445.py:1: SettingWithCopyWarning: \n",
      "A value is trying to be set on a copy of a slice from a DataFrame.\n",
      "Try using .loc[row_indexer,col_indexer] = value instead\n",
      "\n",
      "See the caveats in the documentation: https://pandas.pydata.org/pandas-docs/stable/user_guide/indexing.html#returning-a-view-versus-a-copy\n",
      "  df_filtered[\"open_signal_lag\"] = df_filtered[\"open_long_signal\"].shift(fill_value=False)\n",
      "/var/folders/_9/mg2v8fwd04n3k0y4zztq8z7h0000gn/T/ipykernel_55277/518765445.py:2: SettingWithCopyWarning: \n",
      "A value is trying to be set on a copy of a slice from a DataFrame.\n",
      "Try using .loc[row_indexer,col_indexer] = value instead\n",
      "\n",
      "See the caveats in the documentation: https://pandas.pydata.org/pandas-docs/stable/user_guide/indexing.html#returning-a-view-versus-a-copy\n",
      "  df_filtered[\"close_signal_lag\"] = df_filtered[\"close_long_signal\"].shift(fill_value=False)\n"
     ]
    }
   ],
   "source": [
    "df_filtered[\"open_signal_lag\"] = df_filtered[\"open_long_signal\"].shift(fill_value=False)\n",
    "df_filtered[\"close_signal_lag\"] = df_filtered[\"close_long_signal\"].shift(fill_value=False)"
   ],
   "metadata": {
    "collapsed": false,
    "ExecuteTime": {
     "end_time": "2024-03-19T22:42:47.582392Z",
     "start_time": "2024-03-19T22:42:47.578457Z"
    }
   }
  },
  {
   "cell_type": "code",
   "execution_count": 108,
   "outputs": [
    {
     "data": {
      "text/plain": "                     open_long_signal  close_long_signal    open   close  \\\ndate                                                                       \n2024-02-02 09:45:00             False               True  2.7921  2.8198   \n2024-02-04 03:45:00             False               True  3.3686  3.3548   \n2024-02-04 16:15:00              True              False  3.1655  3.1642   \n2024-02-05 09:45:00             False               True  3.2457  3.2566   \n2024-02-06 16:15:00             False               True  2.9936  3.0108   \n2024-02-07 07:15:00             False               True  3.1199  3.2122   \n2024-02-11 16:00:00              True              False  3.1049  3.1144   \n2024-02-12 04:30:00             False               True  3.3268  3.4421   \n2024-02-12 07:15:00             False               True  3.7436  3.6922   \n2024-02-14 14:45:00             False               True  3.5532  3.5702   \n2024-02-14 16:45:00             False               True  3.6519  3.6945   \n2024-02-16 11:15:00             False               True  4.4533  4.4796   \n2024-02-20 03:30:00             False               True  4.3608  4.5313   \n2024-02-20 15:45:00              True              False  3.8491  3.8323   \n2024-02-21 18:30:00              True              False  3.8582  3.8526   \n2024-02-22 19:00:00             False               True  4.1684  4.1259   \n2024-02-23 16:15:00              True              False  3.6911  3.7205   \n2024-02-24 05:15:00             False               True  3.8229  3.8245   \n2024-02-25 02:15:00             False               True  4.0737  4.0650   \n2024-02-25 05:15:00              True              False  3.9103  3.9333   \n2024-02-26 08:30:00              True              False  3.8657  3.8480   \n2024-02-26 09:45:00              True              False  3.7788  3.7858   \n2024-02-28 18:00:00              True              False  3.8399  3.7992   \n2024-02-29 22:45:00              True              False  3.7447  3.7858   \n2024-03-02 00:30:00             False               True  3.9591  3.9363   \n2024-03-02 11:30:00              True              False  3.8092  3.8029   \n2024-03-03 08:00:00              True              False  3.6969  3.6665   \n2024-03-04 02:45:00              True              False  3.7470  3.7461   \n2024-03-04 18:00:00              True              False  3.5393  3.5772   \n2024-03-05 20:00:00              True              False  3.1040  3.2051   \n2024-03-08 16:15:00              True              False  3.5052  3.5606   \n2024-03-09 04:45:00             False               True  4.2246  4.1230   \n2024-03-11 00:15:00             False               True  4.0703  3.9796   \n2024-03-12 06:30:00              True              False  3.8007  3.7861   \n2024-03-13 14:00:00              True              False  3.8575  3.9030   \n2024-03-13 14:30:00              True              False  3.8721  3.8713   \n2024-03-13 15:30:00              True              False  3.8430  3.8366   \n2024-03-14 13:45:00              True              False  3.7828  3.7409   \n2024-03-16 13:00:00              True              False  3.3643  3.3560   \n2024-03-17 03:30:00             False               True  3.2426  3.2630   \n2024-03-18 01:15:00              True              False  3.3042  3.3019   \n\n                     open_signal_lag  close_signal_lag  \ndate                                                    \n2024-02-02 09:45:00            False             False  \n2024-02-04 03:45:00            False              True  \n2024-02-04 16:15:00            False              True  \n2024-02-05 09:45:00             True             False  \n2024-02-06 16:15:00            False              True  \n2024-02-07 07:15:00            False              True  \n2024-02-11 16:00:00            False              True  \n2024-02-12 04:30:00             True             False  \n2024-02-12 07:15:00            False              True  \n2024-02-14 14:45:00            False              True  \n2024-02-14 16:45:00            False              True  \n2024-02-16 11:15:00            False              True  \n2024-02-20 03:30:00            False              True  \n2024-02-20 15:45:00            False              True  \n2024-02-21 18:30:00             True             False  \n2024-02-22 19:00:00             True             False  \n2024-02-23 16:15:00            False              True  \n2024-02-24 05:15:00             True             False  \n2024-02-25 02:15:00            False              True  \n2024-02-25 05:15:00            False              True  \n2024-02-26 08:30:00             True             False  \n2024-02-26 09:45:00             True             False  \n2024-02-28 18:00:00             True             False  \n2024-02-29 22:45:00             True             False  \n2024-03-02 00:30:00             True             False  \n2024-03-02 11:30:00            False              True  \n2024-03-03 08:00:00             True             False  \n2024-03-04 02:45:00             True             False  \n2024-03-04 18:00:00             True             False  \n2024-03-05 20:00:00             True             False  \n2024-03-08 16:15:00             True             False  \n2024-03-09 04:45:00             True             False  \n2024-03-11 00:15:00            False              True  \n2024-03-12 06:30:00            False              True  \n2024-03-13 14:00:00             True             False  \n2024-03-13 14:30:00             True             False  \n2024-03-13 15:30:00             True             False  \n2024-03-14 13:45:00             True             False  \n2024-03-16 13:00:00             True             False  \n2024-03-17 03:30:00             True             False  \n2024-03-18 01:15:00            False              True  ",
      "text/html": "<div>\n<style scoped>\n    .dataframe tbody tr th:only-of-type {\n        vertical-align: middle;\n    }\n\n    .dataframe tbody tr th {\n        vertical-align: top;\n    }\n\n    .dataframe thead th {\n        text-align: right;\n    }\n</style>\n<table border=\"1\" class=\"dataframe\">\n  <thead>\n    <tr style=\"text-align: right;\">\n      <th></th>\n      <th>open_long_signal</th>\n      <th>close_long_signal</th>\n      <th>open</th>\n      <th>close</th>\n      <th>open_signal_lag</th>\n      <th>close_signal_lag</th>\n    </tr>\n    <tr>\n      <th>date</th>\n      <th></th>\n      <th></th>\n      <th></th>\n      <th></th>\n      <th></th>\n      <th></th>\n    </tr>\n  </thead>\n  <tbody>\n    <tr>\n      <th>2024-02-02 09:45:00</th>\n      <td>False</td>\n      <td>True</td>\n      <td>2.7921</td>\n      <td>2.8198</td>\n      <td>False</td>\n      <td>False</td>\n    </tr>\n    <tr>\n      <th>2024-02-04 03:45:00</th>\n      <td>False</td>\n      <td>True</td>\n      <td>3.3686</td>\n      <td>3.3548</td>\n      <td>False</td>\n      <td>True</td>\n    </tr>\n    <tr>\n      <th>2024-02-04 16:15:00</th>\n      <td>True</td>\n      <td>False</td>\n      <td>3.1655</td>\n      <td>3.1642</td>\n      <td>False</td>\n      <td>True</td>\n    </tr>\n    <tr>\n      <th>2024-02-05 09:45:00</th>\n      <td>False</td>\n      <td>True</td>\n      <td>3.2457</td>\n      <td>3.2566</td>\n      <td>True</td>\n      <td>False</td>\n    </tr>\n    <tr>\n      <th>2024-02-06 16:15:00</th>\n      <td>False</td>\n      <td>True</td>\n      <td>2.9936</td>\n      <td>3.0108</td>\n      <td>False</td>\n      <td>True</td>\n    </tr>\n    <tr>\n      <th>2024-02-07 07:15:00</th>\n      <td>False</td>\n      <td>True</td>\n      <td>3.1199</td>\n      <td>3.2122</td>\n      <td>False</td>\n      <td>True</td>\n    </tr>\n    <tr>\n      <th>2024-02-11 16:00:00</th>\n      <td>True</td>\n      <td>False</td>\n      <td>3.1049</td>\n      <td>3.1144</td>\n      <td>False</td>\n      <td>True</td>\n    </tr>\n    <tr>\n      <th>2024-02-12 04:30:00</th>\n      <td>False</td>\n      <td>True</td>\n      <td>3.3268</td>\n      <td>3.4421</td>\n      <td>True</td>\n      <td>False</td>\n    </tr>\n    <tr>\n      <th>2024-02-12 07:15:00</th>\n      <td>False</td>\n      <td>True</td>\n      <td>3.7436</td>\n      <td>3.6922</td>\n      <td>False</td>\n      <td>True</td>\n    </tr>\n    <tr>\n      <th>2024-02-14 14:45:00</th>\n      <td>False</td>\n      <td>True</td>\n      <td>3.5532</td>\n      <td>3.5702</td>\n      <td>False</td>\n      <td>True</td>\n    </tr>\n    <tr>\n      <th>2024-02-14 16:45:00</th>\n      <td>False</td>\n      <td>True</td>\n      <td>3.6519</td>\n      <td>3.6945</td>\n      <td>False</td>\n      <td>True</td>\n    </tr>\n    <tr>\n      <th>2024-02-16 11:15:00</th>\n      <td>False</td>\n      <td>True</td>\n      <td>4.4533</td>\n      <td>4.4796</td>\n      <td>False</td>\n      <td>True</td>\n    </tr>\n    <tr>\n      <th>2024-02-20 03:30:00</th>\n      <td>False</td>\n      <td>True</td>\n      <td>4.3608</td>\n      <td>4.5313</td>\n      <td>False</td>\n      <td>True</td>\n    </tr>\n    <tr>\n      <th>2024-02-20 15:45:00</th>\n      <td>True</td>\n      <td>False</td>\n      <td>3.8491</td>\n      <td>3.8323</td>\n      <td>False</td>\n      <td>True</td>\n    </tr>\n    <tr>\n      <th>2024-02-21 18:30:00</th>\n      <td>True</td>\n      <td>False</td>\n      <td>3.8582</td>\n      <td>3.8526</td>\n      <td>True</td>\n      <td>False</td>\n    </tr>\n    <tr>\n      <th>2024-02-22 19:00:00</th>\n      <td>False</td>\n      <td>True</td>\n      <td>4.1684</td>\n      <td>4.1259</td>\n      <td>True</td>\n      <td>False</td>\n    </tr>\n    <tr>\n      <th>2024-02-23 16:15:00</th>\n      <td>True</td>\n      <td>False</td>\n      <td>3.6911</td>\n      <td>3.7205</td>\n      <td>False</td>\n      <td>True</td>\n    </tr>\n    <tr>\n      <th>2024-02-24 05:15:00</th>\n      <td>False</td>\n      <td>True</td>\n      <td>3.8229</td>\n      <td>3.8245</td>\n      <td>True</td>\n      <td>False</td>\n    </tr>\n    <tr>\n      <th>2024-02-25 02:15:00</th>\n      <td>False</td>\n      <td>True</td>\n      <td>4.0737</td>\n      <td>4.0650</td>\n      <td>False</td>\n      <td>True</td>\n    </tr>\n    <tr>\n      <th>2024-02-25 05:15:00</th>\n      <td>True</td>\n      <td>False</td>\n      <td>3.9103</td>\n      <td>3.9333</td>\n      <td>False</td>\n      <td>True</td>\n    </tr>\n    <tr>\n      <th>2024-02-26 08:30:00</th>\n      <td>True</td>\n      <td>False</td>\n      <td>3.8657</td>\n      <td>3.8480</td>\n      <td>True</td>\n      <td>False</td>\n    </tr>\n    <tr>\n      <th>2024-02-26 09:45:00</th>\n      <td>True</td>\n      <td>False</td>\n      <td>3.7788</td>\n      <td>3.7858</td>\n      <td>True</td>\n      <td>False</td>\n    </tr>\n    <tr>\n      <th>2024-02-28 18:00:00</th>\n      <td>True</td>\n      <td>False</td>\n      <td>3.8399</td>\n      <td>3.7992</td>\n      <td>True</td>\n      <td>False</td>\n    </tr>\n    <tr>\n      <th>2024-02-29 22:45:00</th>\n      <td>True</td>\n      <td>False</td>\n      <td>3.7447</td>\n      <td>3.7858</td>\n      <td>True</td>\n      <td>False</td>\n    </tr>\n    <tr>\n      <th>2024-03-02 00:30:00</th>\n      <td>False</td>\n      <td>True</td>\n      <td>3.9591</td>\n      <td>3.9363</td>\n      <td>True</td>\n      <td>False</td>\n    </tr>\n    <tr>\n      <th>2024-03-02 11:30:00</th>\n      <td>True</td>\n      <td>False</td>\n      <td>3.8092</td>\n      <td>3.8029</td>\n      <td>False</td>\n      <td>True</td>\n    </tr>\n    <tr>\n      <th>2024-03-03 08:00:00</th>\n      <td>True</td>\n      <td>False</td>\n      <td>3.6969</td>\n      <td>3.6665</td>\n      <td>True</td>\n      <td>False</td>\n    </tr>\n    <tr>\n      <th>2024-03-04 02:45:00</th>\n      <td>True</td>\n      <td>False</td>\n      <td>3.7470</td>\n      <td>3.7461</td>\n      <td>True</td>\n      <td>False</td>\n    </tr>\n    <tr>\n      <th>2024-03-04 18:00:00</th>\n      <td>True</td>\n      <td>False</td>\n      <td>3.5393</td>\n      <td>3.5772</td>\n      <td>True</td>\n      <td>False</td>\n    </tr>\n    <tr>\n      <th>2024-03-05 20:00:00</th>\n      <td>True</td>\n      <td>False</td>\n      <td>3.1040</td>\n      <td>3.2051</td>\n      <td>True</td>\n      <td>False</td>\n    </tr>\n    <tr>\n      <th>2024-03-08 16:15:00</th>\n      <td>True</td>\n      <td>False</td>\n      <td>3.5052</td>\n      <td>3.5606</td>\n      <td>True</td>\n      <td>False</td>\n    </tr>\n    <tr>\n      <th>2024-03-09 04:45:00</th>\n      <td>False</td>\n      <td>True</td>\n      <td>4.2246</td>\n      <td>4.1230</td>\n      <td>True</td>\n      <td>False</td>\n    </tr>\n    <tr>\n      <th>2024-03-11 00:15:00</th>\n      <td>False</td>\n      <td>True</td>\n      <td>4.0703</td>\n      <td>3.9796</td>\n      <td>False</td>\n      <td>True</td>\n    </tr>\n    <tr>\n      <th>2024-03-12 06:30:00</th>\n      <td>True</td>\n      <td>False</td>\n      <td>3.8007</td>\n      <td>3.7861</td>\n      <td>False</td>\n      <td>True</td>\n    </tr>\n    <tr>\n      <th>2024-03-13 14:00:00</th>\n      <td>True</td>\n      <td>False</td>\n      <td>3.8575</td>\n      <td>3.9030</td>\n      <td>True</td>\n      <td>False</td>\n    </tr>\n    <tr>\n      <th>2024-03-13 14:30:00</th>\n      <td>True</td>\n      <td>False</td>\n      <td>3.8721</td>\n      <td>3.8713</td>\n      <td>True</td>\n      <td>False</td>\n    </tr>\n    <tr>\n      <th>2024-03-13 15:30:00</th>\n      <td>True</td>\n      <td>False</td>\n      <td>3.8430</td>\n      <td>3.8366</td>\n      <td>True</td>\n      <td>False</td>\n    </tr>\n    <tr>\n      <th>2024-03-14 13:45:00</th>\n      <td>True</td>\n      <td>False</td>\n      <td>3.7828</td>\n      <td>3.7409</td>\n      <td>True</td>\n      <td>False</td>\n    </tr>\n    <tr>\n      <th>2024-03-16 13:00:00</th>\n      <td>True</td>\n      <td>False</td>\n      <td>3.3643</td>\n      <td>3.3560</td>\n      <td>True</td>\n      <td>False</td>\n    </tr>\n    <tr>\n      <th>2024-03-17 03:30:00</th>\n      <td>False</td>\n      <td>True</td>\n      <td>3.2426</td>\n      <td>3.2630</td>\n      <td>True</td>\n      <td>False</td>\n    </tr>\n    <tr>\n      <th>2024-03-18 01:15:00</th>\n      <td>True</td>\n      <td>False</td>\n      <td>3.3042</td>\n      <td>3.3019</td>\n      <td>False</td>\n      <td>True</td>\n    </tr>\n  </tbody>\n</table>\n</div>"
     },
     "execution_count": 108,
     "metadata": {},
     "output_type": "execute_result"
    }
   ],
   "source": [
    "df_filtered"
   ],
   "metadata": {
    "collapsed": false,
    "ExecuteTime": {
     "end_time": "2024-03-19T22:42:48.121901Z",
     "start_time": "2024-03-19T22:42:48.102193Z"
    }
   }
  },
  {
   "cell_type": "code",
   "execution_count": 109,
   "outputs": [],
   "source": [
    "df_order = df_filtered[\n",
    "    (df_filtered[\"open_long_signal\"] & (~df_filtered[\"open_signal_lag\"] | df_filtered[\"open_long_signal\"].isnull())) |\n",
    "    (df_filtered[\"close_long_signal\"] & ~ df_filtered[\"close_signal_lag\"])\n",
    "     ]"
   ],
   "metadata": {
    "collapsed": false,
    "ExecuteTime": {
     "end_time": "2024-03-19T22:42:48.861943Z",
     "start_time": "2024-03-19T22:42:48.852378Z"
    }
   }
  },
  {
   "cell_type": "code",
   "execution_count": 110,
   "outputs": [
    {
     "data": {
      "text/plain": "                     open_long_signal  close_long_signal    open   close  \\\ndate                                                                       \n2024-02-02 09:45:00             False               True  2.7921  2.8198   \n2024-02-04 16:15:00              True              False  3.1655  3.1642   \n2024-02-05 09:45:00             False               True  3.2457  3.2566   \n2024-02-11 16:00:00              True              False  3.1049  3.1144   \n2024-02-12 04:30:00             False               True  3.3268  3.4421   \n2024-02-20 15:45:00              True              False  3.8491  3.8323   \n2024-02-22 19:00:00             False               True  4.1684  4.1259   \n2024-02-23 16:15:00              True              False  3.6911  3.7205   \n2024-02-24 05:15:00             False               True  3.8229  3.8245   \n2024-02-25 05:15:00              True              False  3.9103  3.9333   \n2024-03-02 00:30:00             False               True  3.9591  3.9363   \n2024-03-02 11:30:00              True              False  3.8092  3.8029   \n2024-03-09 04:45:00             False               True  4.2246  4.1230   \n2024-03-12 06:30:00              True              False  3.8007  3.7861   \n2024-03-17 03:30:00             False               True  3.2426  3.2630   \n2024-03-18 01:15:00              True              False  3.3042  3.3019   \n\n                     open_signal_lag  close_signal_lag  \ndate                                                    \n2024-02-02 09:45:00            False             False  \n2024-02-04 16:15:00            False              True  \n2024-02-05 09:45:00             True             False  \n2024-02-11 16:00:00            False              True  \n2024-02-12 04:30:00             True             False  \n2024-02-20 15:45:00            False              True  \n2024-02-22 19:00:00             True             False  \n2024-02-23 16:15:00            False              True  \n2024-02-24 05:15:00             True             False  \n2024-02-25 05:15:00            False              True  \n2024-03-02 00:30:00             True             False  \n2024-03-02 11:30:00            False              True  \n2024-03-09 04:45:00             True             False  \n2024-03-12 06:30:00            False              True  \n2024-03-17 03:30:00             True             False  \n2024-03-18 01:15:00            False              True  ",
      "text/html": "<div>\n<style scoped>\n    .dataframe tbody tr th:only-of-type {\n        vertical-align: middle;\n    }\n\n    .dataframe tbody tr th {\n        vertical-align: top;\n    }\n\n    .dataframe thead th {\n        text-align: right;\n    }\n</style>\n<table border=\"1\" class=\"dataframe\">\n  <thead>\n    <tr style=\"text-align: right;\">\n      <th></th>\n      <th>open_long_signal</th>\n      <th>close_long_signal</th>\n      <th>open</th>\n      <th>close</th>\n      <th>open_signal_lag</th>\n      <th>close_signal_lag</th>\n    </tr>\n    <tr>\n      <th>date</th>\n      <th></th>\n      <th></th>\n      <th></th>\n      <th></th>\n      <th></th>\n      <th></th>\n    </tr>\n  </thead>\n  <tbody>\n    <tr>\n      <th>2024-02-02 09:45:00</th>\n      <td>False</td>\n      <td>True</td>\n      <td>2.7921</td>\n      <td>2.8198</td>\n      <td>False</td>\n      <td>False</td>\n    </tr>\n    <tr>\n      <th>2024-02-04 16:15:00</th>\n      <td>True</td>\n      <td>False</td>\n      <td>3.1655</td>\n      <td>3.1642</td>\n      <td>False</td>\n      <td>True</td>\n    </tr>\n    <tr>\n      <th>2024-02-05 09:45:00</th>\n      <td>False</td>\n      <td>True</td>\n      <td>3.2457</td>\n      <td>3.2566</td>\n      <td>True</td>\n      <td>False</td>\n    </tr>\n    <tr>\n      <th>2024-02-11 16:00:00</th>\n      <td>True</td>\n      <td>False</td>\n      <td>3.1049</td>\n      <td>3.1144</td>\n      <td>False</td>\n      <td>True</td>\n    </tr>\n    <tr>\n      <th>2024-02-12 04:30:00</th>\n      <td>False</td>\n      <td>True</td>\n      <td>3.3268</td>\n      <td>3.4421</td>\n      <td>True</td>\n      <td>False</td>\n    </tr>\n    <tr>\n      <th>2024-02-20 15:45:00</th>\n      <td>True</td>\n      <td>False</td>\n      <td>3.8491</td>\n      <td>3.8323</td>\n      <td>False</td>\n      <td>True</td>\n    </tr>\n    <tr>\n      <th>2024-02-22 19:00:00</th>\n      <td>False</td>\n      <td>True</td>\n      <td>4.1684</td>\n      <td>4.1259</td>\n      <td>True</td>\n      <td>False</td>\n    </tr>\n    <tr>\n      <th>2024-02-23 16:15:00</th>\n      <td>True</td>\n      <td>False</td>\n      <td>3.6911</td>\n      <td>3.7205</td>\n      <td>False</td>\n      <td>True</td>\n    </tr>\n    <tr>\n      <th>2024-02-24 05:15:00</th>\n      <td>False</td>\n      <td>True</td>\n      <td>3.8229</td>\n      <td>3.8245</td>\n      <td>True</td>\n      <td>False</td>\n    </tr>\n    <tr>\n      <th>2024-02-25 05:15:00</th>\n      <td>True</td>\n      <td>False</td>\n      <td>3.9103</td>\n      <td>3.9333</td>\n      <td>False</td>\n      <td>True</td>\n    </tr>\n    <tr>\n      <th>2024-03-02 00:30:00</th>\n      <td>False</td>\n      <td>True</td>\n      <td>3.9591</td>\n      <td>3.9363</td>\n      <td>True</td>\n      <td>False</td>\n    </tr>\n    <tr>\n      <th>2024-03-02 11:30:00</th>\n      <td>True</td>\n      <td>False</td>\n      <td>3.8092</td>\n      <td>3.8029</td>\n      <td>False</td>\n      <td>True</td>\n    </tr>\n    <tr>\n      <th>2024-03-09 04:45:00</th>\n      <td>False</td>\n      <td>True</td>\n      <td>4.2246</td>\n      <td>4.1230</td>\n      <td>True</td>\n      <td>False</td>\n    </tr>\n    <tr>\n      <th>2024-03-12 06:30:00</th>\n      <td>True</td>\n      <td>False</td>\n      <td>3.8007</td>\n      <td>3.7861</td>\n      <td>False</td>\n      <td>True</td>\n    </tr>\n    <tr>\n      <th>2024-03-17 03:30:00</th>\n      <td>False</td>\n      <td>True</td>\n      <td>3.2426</td>\n      <td>3.2630</td>\n      <td>True</td>\n      <td>False</td>\n    </tr>\n    <tr>\n      <th>2024-03-18 01:15:00</th>\n      <td>True</td>\n      <td>False</td>\n      <td>3.3042</td>\n      <td>3.3019</td>\n      <td>False</td>\n      <td>True</td>\n    </tr>\n  </tbody>\n</table>\n</div>"
     },
     "execution_count": 110,
     "metadata": {},
     "output_type": "execute_result"
    }
   ],
   "source": [
    "df_order"
   ],
   "metadata": {
    "collapsed": false,
    "ExecuteTime": {
     "end_time": "2024-03-19T22:42:49.623998Z",
     "start_time": "2024-03-19T22:42:49.616228Z"
    }
   }
  },
  {
   "cell_type": "code",
   "execution_count": 122,
   "outputs": [],
   "source": [
    "df_order_2 = df_order.loc[~ ( ~ df_order[\"close_signal_lag\"] & ~ df_order[\"open_signal_lag\"])]"
   ],
   "metadata": {
    "collapsed": false,
    "ExecuteTime": {
     "end_time": "2024-03-19T22:48:01.808654Z",
     "start_time": "2024-03-19T22:48:01.807637Z"
    }
   }
  },
  {
   "cell_type": "code",
   "execution_count": 123,
   "outputs": [
    {
     "data": {
      "text/plain": "                     open_long_signal  close_long_signal    open   close  \\\ndate                                                                       \n2024-02-04 16:15:00              True              False  3.1655  3.1642   \n2024-02-05 09:45:00             False               True  3.2457  3.2566   \n2024-02-11 16:00:00              True              False  3.1049  3.1144   \n2024-02-12 04:30:00             False               True  3.3268  3.4421   \n2024-02-20 15:45:00              True              False  3.8491  3.8323   \n2024-02-22 19:00:00             False               True  4.1684  4.1259   \n2024-02-23 16:15:00              True              False  3.6911  3.7205   \n2024-02-24 05:15:00             False               True  3.8229  3.8245   \n2024-02-25 05:15:00              True              False  3.9103  3.9333   \n2024-03-02 00:30:00             False               True  3.9591  3.9363   \n2024-03-02 11:30:00              True              False  3.8092  3.8029   \n2024-03-09 04:45:00             False               True  4.2246  4.1230   \n2024-03-12 06:30:00              True              False  3.8007  3.7861   \n2024-03-17 03:30:00             False               True  3.2426  3.2630   \n2024-03-18 01:15:00              True              False  3.3042  3.3019   \n\n                     open_signal_lag  close_signal_lag  \ndate                                                    \n2024-02-04 16:15:00            False              True  \n2024-02-05 09:45:00             True             False  \n2024-02-11 16:00:00            False              True  \n2024-02-12 04:30:00             True             False  \n2024-02-20 15:45:00            False              True  \n2024-02-22 19:00:00             True             False  \n2024-02-23 16:15:00            False              True  \n2024-02-24 05:15:00             True             False  \n2024-02-25 05:15:00            False              True  \n2024-03-02 00:30:00             True             False  \n2024-03-02 11:30:00            False              True  \n2024-03-09 04:45:00             True             False  \n2024-03-12 06:30:00            False              True  \n2024-03-17 03:30:00             True             False  \n2024-03-18 01:15:00            False              True  ",
      "text/html": "<div>\n<style scoped>\n    .dataframe tbody tr th:only-of-type {\n        vertical-align: middle;\n    }\n\n    .dataframe tbody tr th {\n        vertical-align: top;\n    }\n\n    .dataframe thead th {\n        text-align: right;\n    }\n</style>\n<table border=\"1\" class=\"dataframe\">\n  <thead>\n    <tr style=\"text-align: right;\">\n      <th></th>\n      <th>open_long_signal</th>\n      <th>close_long_signal</th>\n      <th>open</th>\n      <th>close</th>\n      <th>open_signal_lag</th>\n      <th>close_signal_lag</th>\n    </tr>\n    <tr>\n      <th>date</th>\n      <th></th>\n      <th></th>\n      <th></th>\n      <th></th>\n      <th></th>\n      <th></th>\n    </tr>\n  </thead>\n  <tbody>\n    <tr>\n      <th>2024-02-04 16:15:00</th>\n      <td>True</td>\n      <td>False</td>\n      <td>3.1655</td>\n      <td>3.1642</td>\n      <td>False</td>\n      <td>True</td>\n    </tr>\n    <tr>\n      <th>2024-02-05 09:45:00</th>\n      <td>False</td>\n      <td>True</td>\n      <td>3.2457</td>\n      <td>3.2566</td>\n      <td>True</td>\n      <td>False</td>\n    </tr>\n    <tr>\n      <th>2024-02-11 16:00:00</th>\n      <td>True</td>\n      <td>False</td>\n      <td>3.1049</td>\n      <td>3.1144</td>\n      <td>False</td>\n      <td>True</td>\n    </tr>\n    <tr>\n      <th>2024-02-12 04:30:00</th>\n      <td>False</td>\n      <td>True</td>\n      <td>3.3268</td>\n      <td>3.4421</td>\n      <td>True</td>\n      <td>False</td>\n    </tr>\n    <tr>\n      <th>2024-02-20 15:45:00</th>\n      <td>True</td>\n      <td>False</td>\n      <td>3.8491</td>\n      <td>3.8323</td>\n      <td>False</td>\n      <td>True</td>\n    </tr>\n    <tr>\n      <th>2024-02-22 19:00:00</th>\n      <td>False</td>\n      <td>True</td>\n      <td>4.1684</td>\n      <td>4.1259</td>\n      <td>True</td>\n      <td>False</td>\n    </tr>\n    <tr>\n      <th>2024-02-23 16:15:00</th>\n      <td>True</td>\n      <td>False</td>\n      <td>3.6911</td>\n      <td>3.7205</td>\n      <td>False</td>\n      <td>True</td>\n    </tr>\n    <tr>\n      <th>2024-02-24 05:15:00</th>\n      <td>False</td>\n      <td>True</td>\n      <td>3.8229</td>\n      <td>3.8245</td>\n      <td>True</td>\n      <td>False</td>\n    </tr>\n    <tr>\n      <th>2024-02-25 05:15:00</th>\n      <td>True</td>\n      <td>False</td>\n      <td>3.9103</td>\n      <td>3.9333</td>\n      <td>False</td>\n      <td>True</td>\n    </tr>\n    <tr>\n      <th>2024-03-02 00:30:00</th>\n      <td>False</td>\n      <td>True</td>\n      <td>3.9591</td>\n      <td>3.9363</td>\n      <td>True</td>\n      <td>False</td>\n    </tr>\n    <tr>\n      <th>2024-03-02 11:30:00</th>\n      <td>True</td>\n      <td>False</td>\n      <td>3.8092</td>\n      <td>3.8029</td>\n      <td>False</td>\n      <td>True</td>\n    </tr>\n    <tr>\n      <th>2024-03-09 04:45:00</th>\n      <td>False</td>\n      <td>True</td>\n      <td>4.2246</td>\n      <td>4.1230</td>\n      <td>True</td>\n      <td>False</td>\n    </tr>\n    <tr>\n      <th>2024-03-12 06:30:00</th>\n      <td>True</td>\n      <td>False</td>\n      <td>3.8007</td>\n      <td>3.7861</td>\n      <td>False</td>\n      <td>True</td>\n    </tr>\n    <tr>\n      <th>2024-03-17 03:30:00</th>\n      <td>False</td>\n      <td>True</td>\n      <td>3.2426</td>\n      <td>3.2630</td>\n      <td>True</td>\n      <td>False</td>\n    </tr>\n    <tr>\n      <th>2024-03-18 01:15:00</th>\n      <td>True</td>\n      <td>False</td>\n      <td>3.3042</td>\n      <td>3.3019</td>\n      <td>False</td>\n      <td>True</td>\n    </tr>\n  </tbody>\n</table>\n</div>"
     },
     "execution_count": 123,
     "metadata": {},
     "output_type": "execute_result"
    }
   ],
   "source": [
    "df_order_2"
   ],
   "metadata": {
    "collapsed": false,
    "ExecuteTime": {
     "end_time": "2024-03-19T22:48:02.102502Z",
     "start_time": "2024-03-19T22:48:02.093642Z"
    }
   }
  },
  {
   "cell_type": "code",
   "execution_count": 124,
   "outputs": [
    {
     "name": "stderr",
     "output_type": "stream",
     "text": [
      "/var/folders/_9/mg2v8fwd04n3k0y4zztq8z7h0000gn/T/ipykernel_55277/1207584165.py:1: SettingWithCopyWarning: \n",
      "A value is trying to be set on a copy of a slice from a DataFrame.\n",
      "Try using .loc[row_indexer,col_indexer] = value instead\n",
      "\n",
      "See the caveats in the documentation: https://pandas.pydata.org/pandas-docs/stable/user_guide/indexing.html#returning-a-view-versus-a-copy\n",
      "  df_order_2[\"order_number\"] = df_order_2[\"open_long_signal\"].cumsum()\n"
     ]
    }
   ],
   "source": [
    "df_order_2[\"order_number\"] = df_order_2[\"open_long_signal\"].cumsum()"
   ],
   "metadata": {
    "collapsed": false,
    "ExecuteTime": {
     "end_time": "2024-03-19T22:48:02.500139Z",
     "start_time": "2024-03-19T22:48:02.492697Z"
    }
   }
  },
  {
   "cell_type": "code",
   "execution_count": 133,
   "outputs": [
    {
     "name": "stderr",
     "output_type": "stream",
     "text": [
      "/var/folders/_9/mg2v8fwd04n3k0y4zztq8z7h0000gn/T/ipykernel_55277/3190006780.py:1: SettingWithCopyWarning: \n",
      "A value is trying to be set on a copy of a slice from a DataFrame.\n",
      "Try using .loc[row_indexer,col_indexer] = value instead\n",
      "\n",
      "See the caveats in the documentation: https://pandas.pydata.org/pandas-docs/stable/user_guide/indexing.html#returning-a-view-versus-a-copy\n",
      "  df_order_2[\"open_lag\"] = df_order_2[\"open\"].shift(-1)\n"
     ]
    }
   ],
   "source": [
    "df_order_2[\"open_lag\"] = df_order_2[\"open\"].shift(-1)"
   ],
   "metadata": {
    "collapsed": false,
    "ExecuteTime": {
     "end_time": "2024-03-19T22:58:49.912254Z",
     "start_time": "2024-03-19T22:58:49.909261Z"
    }
   }
  },
  {
   "cell_type": "code",
   "execution_count": 138,
   "outputs": [
    {
     "data": {
      "text/plain": "                     open_long_signal  close_long_signal    open   close  \\\ndate                                                                       \n2024-02-04 16:15:00              True              False  3.1655  3.1642   \n2024-02-05 09:45:00             False               True  3.2457  3.2566   \n2024-02-11 16:00:00              True              False  3.1049  3.1144   \n2024-02-12 04:30:00             False               True  3.3268  3.4421   \n2024-02-20 15:45:00              True              False  3.8491  3.8323   \n2024-02-22 19:00:00             False               True  4.1684  4.1259   \n2024-02-23 16:15:00              True              False  3.6911  3.7205   \n2024-02-24 05:15:00             False               True  3.8229  3.8245   \n2024-02-25 05:15:00              True              False  3.9103  3.9333   \n2024-03-02 00:30:00             False               True  3.9591  3.9363   \n2024-03-02 11:30:00              True              False  3.8092  3.8029   \n2024-03-09 04:45:00             False               True  4.2246  4.1230   \n2024-03-12 06:30:00              True              False  3.8007  3.7861   \n2024-03-17 03:30:00             False               True  3.2426  3.2630   \n2024-03-18 01:15:00              True              False  3.3042  3.3019   \n\n                     open_signal_lag  close_signal_lag  order_number  wallet  \\\ndate                                                                           \n2024-02-04 16:15:00            False              True             1    1000   \n2024-02-05 09:45:00             True             False             1    1000   \n2024-02-11 16:00:00            False              True             2    1000   \n2024-02-12 04:30:00             True             False             2    1000   \n2024-02-20 15:45:00            False              True             3    1000   \n2024-02-22 19:00:00             True             False             3    1000   \n2024-02-23 16:15:00            False              True             4    1000   \n2024-02-24 05:15:00             True             False             4    1000   \n2024-02-25 05:15:00            False              True             5    1000   \n2024-03-02 00:30:00             True             False             5    1000   \n2024-03-02 11:30:00            False              True             6    1000   \n2024-03-09 04:45:00             True             False             6    1000   \n2024-03-12 06:30:00            False              True             7    1000   \n2024-03-17 03:30:00             True             False             7    1000   \n2024-03-18 01:15:00            False              True             8    1000   \n\n                     open_lag  \ndate                           \n2024-02-04 16:15:00    3.2457  \n2024-02-05 09:45:00    3.1049  \n2024-02-11 16:00:00    3.3268  \n2024-02-12 04:30:00    3.8491  \n2024-02-20 15:45:00    4.1684  \n2024-02-22 19:00:00    3.6911  \n2024-02-23 16:15:00    3.8229  \n2024-02-24 05:15:00    3.9103  \n2024-02-25 05:15:00    3.9591  \n2024-03-02 00:30:00    3.8092  \n2024-03-02 11:30:00    4.2246  \n2024-03-09 04:45:00    3.8007  \n2024-03-12 06:30:00    3.2426  \n2024-03-17 03:30:00    3.3042  \n2024-03-18 01:15:00       NaN  ",
      "text/html": "<div>\n<style scoped>\n    .dataframe tbody tr th:only-of-type {\n        vertical-align: middle;\n    }\n\n    .dataframe tbody tr th {\n        vertical-align: top;\n    }\n\n    .dataframe thead th {\n        text-align: right;\n    }\n</style>\n<table border=\"1\" class=\"dataframe\">\n  <thead>\n    <tr style=\"text-align: right;\">\n      <th></th>\n      <th>open_long_signal</th>\n      <th>close_long_signal</th>\n      <th>open</th>\n      <th>close</th>\n      <th>open_signal_lag</th>\n      <th>close_signal_lag</th>\n      <th>order_number</th>\n      <th>wallet</th>\n      <th>open_lag</th>\n    </tr>\n    <tr>\n      <th>date</th>\n      <th></th>\n      <th></th>\n      <th></th>\n      <th></th>\n      <th></th>\n      <th></th>\n      <th></th>\n      <th></th>\n      <th></th>\n    </tr>\n  </thead>\n  <tbody>\n    <tr>\n      <th>2024-02-04 16:15:00</th>\n      <td>True</td>\n      <td>False</td>\n      <td>3.1655</td>\n      <td>3.1642</td>\n      <td>False</td>\n      <td>True</td>\n      <td>1</td>\n      <td>1000</td>\n      <td>3.2457</td>\n    </tr>\n    <tr>\n      <th>2024-02-05 09:45:00</th>\n      <td>False</td>\n      <td>True</td>\n      <td>3.2457</td>\n      <td>3.2566</td>\n      <td>True</td>\n      <td>False</td>\n      <td>1</td>\n      <td>1000</td>\n      <td>3.1049</td>\n    </tr>\n    <tr>\n      <th>2024-02-11 16:00:00</th>\n      <td>True</td>\n      <td>False</td>\n      <td>3.1049</td>\n      <td>3.1144</td>\n      <td>False</td>\n      <td>True</td>\n      <td>2</td>\n      <td>1000</td>\n      <td>3.3268</td>\n    </tr>\n    <tr>\n      <th>2024-02-12 04:30:00</th>\n      <td>False</td>\n      <td>True</td>\n      <td>3.3268</td>\n      <td>3.4421</td>\n      <td>True</td>\n      <td>False</td>\n      <td>2</td>\n      <td>1000</td>\n      <td>3.8491</td>\n    </tr>\n    <tr>\n      <th>2024-02-20 15:45:00</th>\n      <td>True</td>\n      <td>False</td>\n      <td>3.8491</td>\n      <td>3.8323</td>\n      <td>False</td>\n      <td>True</td>\n      <td>3</td>\n      <td>1000</td>\n      <td>4.1684</td>\n    </tr>\n    <tr>\n      <th>2024-02-22 19:00:00</th>\n      <td>False</td>\n      <td>True</td>\n      <td>4.1684</td>\n      <td>4.1259</td>\n      <td>True</td>\n      <td>False</td>\n      <td>3</td>\n      <td>1000</td>\n      <td>3.6911</td>\n    </tr>\n    <tr>\n      <th>2024-02-23 16:15:00</th>\n      <td>True</td>\n      <td>False</td>\n      <td>3.6911</td>\n      <td>3.7205</td>\n      <td>False</td>\n      <td>True</td>\n      <td>4</td>\n      <td>1000</td>\n      <td>3.8229</td>\n    </tr>\n    <tr>\n      <th>2024-02-24 05:15:00</th>\n      <td>False</td>\n      <td>True</td>\n      <td>3.8229</td>\n      <td>3.8245</td>\n      <td>True</td>\n      <td>False</td>\n      <td>4</td>\n      <td>1000</td>\n      <td>3.9103</td>\n    </tr>\n    <tr>\n      <th>2024-02-25 05:15:00</th>\n      <td>True</td>\n      <td>False</td>\n      <td>3.9103</td>\n      <td>3.9333</td>\n      <td>False</td>\n      <td>True</td>\n      <td>5</td>\n      <td>1000</td>\n      <td>3.9591</td>\n    </tr>\n    <tr>\n      <th>2024-03-02 00:30:00</th>\n      <td>False</td>\n      <td>True</td>\n      <td>3.9591</td>\n      <td>3.9363</td>\n      <td>True</td>\n      <td>False</td>\n      <td>5</td>\n      <td>1000</td>\n      <td>3.8092</td>\n    </tr>\n    <tr>\n      <th>2024-03-02 11:30:00</th>\n      <td>True</td>\n      <td>False</td>\n      <td>3.8092</td>\n      <td>3.8029</td>\n      <td>False</td>\n      <td>True</td>\n      <td>6</td>\n      <td>1000</td>\n      <td>4.2246</td>\n    </tr>\n    <tr>\n      <th>2024-03-09 04:45:00</th>\n      <td>False</td>\n      <td>True</td>\n      <td>4.2246</td>\n      <td>4.1230</td>\n      <td>True</td>\n      <td>False</td>\n      <td>6</td>\n      <td>1000</td>\n      <td>3.8007</td>\n    </tr>\n    <tr>\n      <th>2024-03-12 06:30:00</th>\n      <td>True</td>\n      <td>False</td>\n      <td>3.8007</td>\n      <td>3.7861</td>\n      <td>False</td>\n      <td>True</td>\n      <td>7</td>\n      <td>1000</td>\n      <td>3.2426</td>\n    </tr>\n    <tr>\n      <th>2024-03-17 03:30:00</th>\n      <td>False</td>\n      <td>True</td>\n      <td>3.2426</td>\n      <td>3.2630</td>\n      <td>True</td>\n      <td>False</td>\n      <td>7</td>\n      <td>1000</td>\n      <td>3.3042</td>\n    </tr>\n    <tr>\n      <th>2024-03-18 01:15:00</th>\n      <td>True</td>\n      <td>False</td>\n      <td>3.3042</td>\n      <td>3.3019</td>\n      <td>False</td>\n      <td>True</td>\n      <td>8</td>\n      <td>1000</td>\n      <td>NaN</td>\n    </tr>\n  </tbody>\n</table>\n</div>"
     },
     "execution_count": 138,
     "metadata": {},
     "output_type": "execute_result"
    }
   ],
   "source": [
    "leverage = 2\n",
    "df_order_2"
   ],
   "metadata": {
    "collapsed": false,
    "ExecuteTime": {
     "end_time": "2024-03-19T23:04:31.184612Z",
     "start_time": "2024-03-19T23:04:31.183233Z"
    }
   }
  },
  {
   "cell_type": "code",
   "execution_count": 259,
   "outputs": [
    {
     "name": "stderr",
     "output_type": "stream",
     "text": [
      "/var/folders/_9/mg2v8fwd04n3k0y4zztq8z7h0000gn/T/ipykernel_55277/934996041.py:6: SettingWithCopyWarning: \n",
      "A value is trying to be set on a copy of a slice from a DataFrame.\n",
      "Try using .loc[row_indexer,col_indexer] = value instead\n",
      "\n",
      "See the caveats in the documentation: https://pandas.pydata.org/pandas-docs/stable/user_guide/indexing.html#returning-a-view-versus-a-copy\n",
      "  df_order_2['quantity'] = 0.0\n",
      "/var/folders/_9/mg2v8fwd04n3k0y4zztq8z7h0000gn/T/ipykernel_55277/934996041.py:7: SettingWithCopyWarning: \n",
      "A value is trying to be set on a copy of a slice from a DataFrame.\n",
      "Try using .loc[row_indexer,col_indexer] = value instead\n",
      "\n",
      "See the caveats in the documentation: https://pandas.pydata.org/pandas-docs/stable/user_guide/indexing.html#returning-a-view-versus-a-copy\n",
      "  df_order_2['trade_result'] = 0.0\n"
     ]
    },
    {
     "data": {
      "text/plain": "                     open_long_signal  close_long_signal    open   close  \\\ndate                                                                       \n2024-02-04 16:15:00              True              False  3.1655  3.1642   \n2024-02-05 09:45:00             False               True  3.2457  3.2566   \n2024-02-11 16:00:00              True              False  3.1049  3.1144   \n2024-02-12 04:30:00             False               True  3.3268  3.4421   \n2024-02-20 15:45:00              True              False  3.8491  3.8323   \n2024-02-22 19:00:00             False               True  4.1684  4.1259   \n2024-02-23 16:15:00              True              False  3.6911  3.7205   \n2024-02-24 05:15:00             False               True  3.8229  3.8245   \n2024-02-25 05:15:00              True              False  3.9103  3.9333   \n2024-03-02 00:30:00             False               True  3.9591  3.9363   \n2024-03-02 11:30:00              True              False  3.8092  3.8029   \n2024-03-09 04:45:00             False               True  4.2246  4.1230   \n2024-03-12 06:30:00              True              False  3.8007  3.7861   \n2024-03-17 03:30:00             False               True  3.2426  3.2630   \n2024-03-18 01:15:00              True              False  3.3042  3.3019   \n\n                     open_signal_lag  close_signal_lag  order_number  \\\ndate                                                                   \n2024-02-04 16:15:00            False              True             1   \n2024-02-05 09:45:00             True             False             1   \n2024-02-11 16:00:00            False              True             2   \n2024-02-12 04:30:00             True             False             2   \n2024-02-20 15:45:00            False              True             3   \n2024-02-22 19:00:00             True             False             3   \n2024-02-23 16:15:00            False              True             4   \n2024-02-24 05:15:00             True             False             4   \n2024-02-25 05:15:00            False              True             5   \n2024-03-02 00:30:00             True             False             5   \n2024-03-02 11:30:00            False              True             6   \n2024-03-09 04:45:00             True             False             6   \n2024-03-12 06:30:00            False              True             7   \n2024-03-17 03:30:00             True             False             7   \n2024-03-18 01:15:00            False              True             8   \n\n                          wallet  open_lag    quantity  trade_result  \ndate                                                                  \n2024-02-04 16:15:00  1000.000000    3.2457  631.811720      0.000000  \n2024-02-05 09:45:00  1050.671300    3.1049    0.000000     50.671300  \n2024-02-11 16:00:00  1050.671300    3.3268  676.782698      0.000000  \n2024-02-12 04:30:00  1200.849381    3.8491    0.000000    150.178081  \n2024-02-20 15:45:00  1200.849381    4.1684  623.963722      0.000000  \n2024-02-22 19:00:00  1400.080997    3.6911    0.000000    199.231616  \n2024-02-23 16:15:00  1400.080997    3.8229  758.625340      0.000000  \n2024-02-24 05:15:00  1500.067817    3.9103    0.000000     99.986820  \n2024-02-25 05:15:00  1500.067817    3.9591  767.239249      0.000000  \n2024-03-02 00:30:00  1537.509092    3.8092    0.000000     37.441275  \n2024-03-02 11:30:00  1537.509092    4.2246  807.260891      0.000000  \n2024-03-09 04:45:00  1872.845266    3.8007    0.000000    335.336174  \n2024-03-12 06:30:00  1872.845266    3.2426  985.526491      0.000000  \n2024-03-17 03:30:00  1322.822932    3.3042    0.000000   -550.022334  \n2024-03-18 01:15:00  1322.822932       NaN  800.691806      0.000000  ",
      "text/html": "<div>\n<style scoped>\n    .dataframe tbody tr th:only-of-type {\n        vertical-align: middle;\n    }\n\n    .dataframe tbody tr th {\n        vertical-align: top;\n    }\n\n    .dataframe thead th {\n        text-align: right;\n    }\n</style>\n<table border=\"1\" class=\"dataframe\">\n  <thead>\n    <tr style=\"text-align: right;\">\n      <th></th>\n      <th>open_long_signal</th>\n      <th>close_long_signal</th>\n      <th>open</th>\n      <th>close</th>\n      <th>open_signal_lag</th>\n      <th>close_signal_lag</th>\n      <th>order_number</th>\n      <th>wallet</th>\n      <th>open_lag</th>\n      <th>quantity</th>\n      <th>trade_result</th>\n    </tr>\n    <tr>\n      <th>date</th>\n      <th></th>\n      <th></th>\n      <th></th>\n      <th></th>\n      <th></th>\n      <th></th>\n      <th></th>\n      <th></th>\n      <th></th>\n      <th></th>\n      <th></th>\n    </tr>\n  </thead>\n  <tbody>\n    <tr>\n      <th>2024-02-04 16:15:00</th>\n      <td>True</td>\n      <td>False</td>\n      <td>3.1655</td>\n      <td>3.1642</td>\n      <td>False</td>\n      <td>True</td>\n      <td>1</td>\n      <td>1000.000000</td>\n      <td>3.2457</td>\n      <td>631.811720</td>\n      <td>0.000000</td>\n    </tr>\n    <tr>\n      <th>2024-02-05 09:45:00</th>\n      <td>False</td>\n      <td>True</td>\n      <td>3.2457</td>\n      <td>3.2566</td>\n      <td>True</td>\n      <td>False</td>\n      <td>1</td>\n      <td>1050.671300</td>\n      <td>3.1049</td>\n      <td>0.000000</td>\n      <td>50.671300</td>\n    </tr>\n    <tr>\n      <th>2024-02-11 16:00:00</th>\n      <td>True</td>\n      <td>False</td>\n      <td>3.1049</td>\n      <td>3.1144</td>\n      <td>False</td>\n      <td>True</td>\n      <td>2</td>\n      <td>1050.671300</td>\n      <td>3.3268</td>\n      <td>676.782698</td>\n      <td>0.000000</td>\n    </tr>\n    <tr>\n      <th>2024-02-12 04:30:00</th>\n      <td>False</td>\n      <td>True</td>\n      <td>3.3268</td>\n      <td>3.4421</td>\n      <td>True</td>\n      <td>False</td>\n      <td>2</td>\n      <td>1200.849381</td>\n      <td>3.8491</td>\n      <td>0.000000</td>\n      <td>150.178081</td>\n    </tr>\n    <tr>\n      <th>2024-02-20 15:45:00</th>\n      <td>True</td>\n      <td>False</td>\n      <td>3.8491</td>\n      <td>3.8323</td>\n      <td>False</td>\n      <td>True</td>\n      <td>3</td>\n      <td>1200.849381</td>\n      <td>4.1684</td>\n      <td>623.963722</td>\n      <td>0.000000</td>\n    </tr>\n    <tr>\n      <th>2024-02-22 19:00:00</th>\n      <td>False</td>\n      <td>True</td>\n      <td>4.1684</td>\n      <td>4.1259</td>\n      <td>True</td>\n      <td>False</td>\n      <td>3</td>\n      <td>1400.080997</td>\n      <td>3.6911</td>\n      <td>0.000000</td>\n      <td>199.231616</td>\n    </tr>\n    <tr>\n      <th>2024-02-23 16:15:00</th>\n      <td>True</td>\n      <td>False</td>\n      <td>3.6911</td>\n      <td>3.7205</td>\n      <td>False</td>\n      <td>True</td>\n      <td>4</td>\n      <td>1400.080997</td>\n      <td>3.8229</td>\n      <td>758.625340</td>\n      <td>0.000000</td>\n    </tr>\n    <tr>\n      <th>2024-02-24 05:15:00</th>\n      <td>False</td>\n      <td>True</td>\n      <td>3.8229</td>\n      <td>3.8245</td>\n      <td>True</td>\n      <td>False</td>\n      <td>4</td>\n      <td>1500.067817</td>\n      <td>3.9103</td>\n      <td>0.000000</td>\n      <td>99.986820</td>\n    </tr>\n    <tr>\n      <th>2024-02-25 05:15:00</th>\n      <td>True</td>\n      <td>False</td>\n      <td>3.9103</td>\n      <td>3.9333</td>\n      <td>False</td>\n      <td>True</td>\n      <td>5</td>\n      <td>1500.067817</td>\n      <td>3.9591</td>\n      <td>767.239249</td>\n      <td>0.000000</td>\n    </tr>\n    <tr>\n      <th>2024-03-02 00:30:00</th>\n      <td>False</td>\n      <td>True</td>\n      <td>3.9591</td>\n      <td>3.9363</td>\n      <td>True</td>\n      <td>False</td>\n      <td>5</td>\n      <td>1537.509092</td>\n      <td>3.8092</td>\n      <td>0.000000</td>\n      <td>37.441275</td>\n    </tr>\n    <tr>\n      <th>2024-03-02 11:30:00</th>\n      <td>True</td>\n      <td>False</td>\n      <td>3.8092</td>\n      <td>3.8029</td>\n      <td>False</td>\n      <td>True</td>\n      <td>6</td>\n      <td>1537.509092</td>\n      <td>4.2246</td>\n      <td>807.260891</td>\n      <td>0.000000</td>\n    </tr>\n    <tr>\n      <th>2024-03-09 04:45:00</th>\n      <td>False</td>\n      <td>True</td>\n      <td>4.2246</td>\n      <td>4.1230</td>\n      <td>True</td>\n      <td>False</td>\n      <td>6</td>\n      <td>1872.845266</td>\n      <td>3.8007</td>\n      <td>0.000000</td>\n      <td>335.336174</td>\n    </tr>\n    <tr>\n      <th>2024-03-12 06:30:00</th>\n      <td>True</td>\n      <td>False</td>\n      <td>3.8007</td>\n      <td>3.7861</td>\n      <td>False</td>\n      <td>True</td>\n      <td>7</td>\n      <td>1872.845266</td>\n      <td>3.2426</td>\n      <td>985.526491</td>\n      <td>0.000000</td>\n    </tr>\n    <tr>\n      <th>2024-03-17 03:30:00</th>\n      <td>False</td>\n      <td>True</td>\n      <td>3.2426</td>\n      <td>3.2630</td>\n      <td>True</td>\n      <td>False</td>\n      <td>7</td>\n      <td>1322.822932</td>\n      <td>3.3042</td>\n      <td>0.000000</td>\n      <td>-550.022334</td>\n    </tr>\n    <tr>\n      <th>2024-03-18 01:15:00</th>\n      <td>True</td>\n      <td>False</td>\n      <td>3.3042</td>\n      <td>3.3019</td>\n      <td>False</td>\n      <td>True</td>\n      <td>8</td>\n      <td>1322.822932</td>\n      <td>NaN</td>\n      <td>800.691806</td>\n      <td>0.000000</td>\n    </tr>\n  </tbody>\n</table>\n</div>"
     },
     "execution_count": 259,
     "metadata": {},
     "output_type": "execute_result"
    }
   ],
   "source": [
    "leverage = 2  # Assuming leverage is defined\n",
    "wallet = 1000  # Initial wallet balance\n",
    "quantity = 0  # Initial quantity\n",
    "\n",
    "# Ensure the DataFrame has 'quantity' and 'trade_result' columns initialized\n",
    "df_order_2['quantity'] = 0.0\n",
    "df_order_2['trade_result'] = 0.0\n",
    "\n",
    "# Iterating over DataFrame rows to process trading signals\n",
    "for i, row in df_order_2.iterrows():\n",
    "    # Check if there is a signal to open a long position\n",
    "    if row['open_long_signal']:\n",
    "        # Calculate the new quantity based on the current wallet and leverage\n",
    "        quantity = wallet * leverage / row['open']\n",
    "        # Update the 'quantity' column with the new quantity\n",
    "        df_order_2.at[i, 'quantity'] = quantity\n",
    "        # No change in wallet yet as the position has just opened\n",
    "        df_order_2.at[i, 'wallet'] = wallet\n",
    "        # Track the price at which the position was opened\n",
    "        open = row['open']\n",
    "    elif row['close_long_signal']:\n",
    "        # Calculate the trade result based on the difference between current and open price\n",
    "        trade_result = (row['open'] - open) * quantity\n",
    "        # Update the 'trade_result' column with the result of the closed trade\n",
    "        df_order_2.at[i, 'trade_result'] = trade_result\n",
    "        # Update the wallet with the result of the trade\n",
    "        wallet += trade_result\n",
    "        # Reset quantity as the trade is closed\n",
    "        quantity = 0\n",
    "\n",
    "    # Update the wallet and quantity for the current row\n",
    "    df_order_2.at[i, 'wallet'] = wallet\n",
    "    df_order_2.at[i, 'quantity'] = quantity\n",
    "\n",
    "# Return the modified DataFrame\n",
    "df_order_2"
   ],
   "metadata": {
    "collapsed": false,
    "ExecuteTime": {
     "end_time": "2024-03-20T00:42:51.964375Z",
     "start_time": "2024-03-20T00:42:51.914768Z"
    }
   }
  },
  {
   "cell_type": "code",
   "execution_count": 260,
   "outputs": [
    {
     "data": {
      "text/plain": "                       open    high     low   close    volume  fast_ma  \\\ndate                                                                     \n2024-03-19 19:15:00  3.1901  3.2300  3.1860  3.2163  137732.0  3.19274   \n2024-03-19 19:30:00  3.2161  3.2161  3.1758  3.1791   98247.2  3.20494   \n2024-03-19 19:45:00  3.1790  3.1988  3.1711  3.1862   76367.3  3.19260   \n2024-03-19 20:00:00  3.1859  3.1956  3.1459  3.1618  155783.4  3.18670   \n2024-03-19 20:15:00  3.1625  3.1695  3.1349  3.1494  114853.5  3.17856   \n\n                      slow_ma      mrat  mean_mrat  stdev_mrat  ...  \\\ndate                                                            ...   \n2024-03-19 19:15:00  2.996615  1.065449   0.989018    0.044153  ...   \n2024-03-19 19:30:00  2.999633  1.068444   0.990861    0.045111  ...   \n2024-03-19 19:45:00  3.003358  1.063010   0.992587    0.045851  ...   \n2024-03-19 20:00:00  3.007012  1.059756   0.994309    0.046398  ...   \n2024-03-19 20:15:00  3.010803  1.055718   0.996041    0.046717  ...   \n\n                     close_long_signal  is_liquidated  order_open  \\\ndate                                                                \n2024-03-19 19:15:00              False          False        True   \n2024-03-19 19:30:00              False          False        True   \n2024-03-19 19:45:00              False          False        True   \n2024-03-19 20:00:00              False          False        True   \n2024-03-19 20:15:00              False          False        True   \n\n                          wallet  order_number  hypothetical_wallet  \\\ndate                                                                  \n2024-03-19 19:15:00  1322.822932           8.0          1231.463997   \n2024-03-19 19:30:00  1322.822932           8.0          1252.281984   \n2024-03-19 19:45:00  1322.822932           8.0          1222.576318   \n2024-03-19 20:00:00  1322.822932           8.0          1228.101091   \n2024-03-19 20:15:00  1322.822932           8.0          1209.364903   \n\n                       quantity  trade_result  trade_result_perc  drawdown  \ndate                                                                        \n2024-03-19 19:15:00  800.691806           NaN                NaN -6.906362  \n2024-03-19 19:30:00  800.691806           NaN                NaN -5.332607  \n2024-03-19 19:45:00  800.691806           NaN                NaN -7.578234  \n2024-03-19 20:00:00  800.691806           NaN                NaN -7.160583  \n2024-03-19 20:15:00  800.691806           NaN                NaN -8.576963  \n\n[5 rows x 21 columns]",
      "text/html": "<div>\n<style scoped>\n    .dataframe tbody tr th:only-of-type {\n        vertical-align: middle;\n    }\n\n    .dataframe tbody tr th {\n        vertical-align: top;\n    }\n\n    .dataframe thead th {\n        text-align: right;\n    }\n</style>\n<table border=\"1\" class=\"dataframe\">\n  <thead>\n    <tr style=\"text-align: right;\">\n      <th></th>\n      <th>open</th>\n      <th>high</th>\n      <th>low</th>\n      <th>close</th>\n      <th>volume</th>\n      <th>fast_ma</th>\n      <th>slow_ma</th>\n      <th>mrat</th>\n      <th>mean_mrat</th>\n      <th>stdev_mrat</th>\n      <th>...</th>\n      <th>close_long_signal</th>\n      <th>is_liquidated</th>\n      <th>order_open</th>\n      <th>wallet</th>\n      <th>order_number</th>\n      <th>hypothetical_wallet</th>\n      <th>quantity</th>\n      <th>trade_result</th>\n      <th>trade_result_perc</th>\n      <th>drawdown</th>\n    </tr>\n    <tr>\n      <th>date</th>\n      <th></th>\n      <th></th>\n      <th></th>\n      <th></th>\n      <th></th>\n      <th></th>\n      <th></th>\n      <th></th>\n      <th></th>\n      <th></th>\n      <th></th>\n      <th></th>\n      <th></th>\n      <th></th>\n      <th></th>\n      <th></th>\n      <th></th>\n      <th></th>\n      <th></th>\n      <th></th>\n      <th></th>\n    </tr>\n  </thead>\n  <tbody>\n    <tr>\n      <th>2024-03-19 19:15:00</th>\n      <td>3.1901</td>\n      <td>3.2300</td>\n      <td>3.1860</td>\n      <td>3.2163</td>\n      <td>137732.0</td>\n      <td>3.19274</td>\n      <td>2.996615</td>\n      <td>1.065449</td>\n      <td>0.989018</td>\n      <td>0.044153</td>\n      <td>...</td>\n      <td>False</td>\n      <td>False</td>\n      <td>True</td>\n      <td>1322.822932</td>\n      <td>8.0</td>\n      <td>1231.463997</td>\n      <td>800.691806</td>\n      <td>NaN</td>\n      <td>NaN</td>\n      <td>-6.906362</td>\n    </tr>\n    <tr>\n      <th>2024-03-19 19:30:00</th>\n      <td>3.2161</td>\n      <td>3.2161</td>\n      <td>3.1758</td>\n      <td>3.1791</td>\n      <td>98247.2</td>\n      <td>3.20494</td>\n      <td>2.999633</td>\n      <td>1.068444</td>\n      <td>0.990861</td>\n      <td>0.045111</td>\n      <td>...</td>\n      <td>False</td>\n      <td>False</td>\n      <td>True</td>\n      <td>1322.822932</td>\n      <td>8.0</td>\n      <td>1252.281984</td>\n      <td>800.691806</td>\n      <td>NaN</td>\n      <td>NaN</td>\n      <td>-5.332607</td>\n    </tr>\n    <tr>\n      <th>2024-03-19 19:45:00</th>\n      <td>3.1790</td>\n      <td>3.1988</td>\n      <td>3.1711</td>\n      <td>3.1862</td>\n      <td>76367.3</td>\n      <td>3.19260</td>\n      <td>3.003358</td>\n      <td>1.063010</td>\n      <td>0.992587</td>\n      <td>0.045851</td>\n      <td>...</td>\n      <td>False</td>\n      <td>False</td>\n      <td>True</td>\n      <td>1322.822932</td>\n      <td>8.0</td>\n      <td>1222.576318</td>\n      <td>800.691806</td>\n      <td>NaN</td>\n      <td>NaN</td>\n      <td>-7.578234</td>\n    </tr>\n    <tr>\n      <th>2024-03-19 20:00:00</th>\n      <td>3.1859</td>\n      <td>3.1956</td>\n      <td>3.1459</td>\n      <td>3.1618</td>\n      <td>155783.4</td>\n      <td>3.18670</td>\n      <td>3.007012</td>\n      <td>1.059756</td>\n      <td>0.994309</td>\n      <td>0.046398</td>\n      <td>...</td>\n      <td>False</td>\n      <td>False</td>\n      <td>True</td>\n      <td>1322.822932</td>\n      <td>8.0</td>\n      <td>1228.101091</td>\n      <td>800.691806</td>\n      <td>NaN</td>\n      <td>NaN</td>\n      <td>-7.160583</td>\n    </tr>\n    <tr>\n      <th>2024-03-19 20:15:00</th>\n      <td>3.1625</td>\n      <td>3.1695</td>\n      <td>3.1349</td>\n      <td>3.1494</td>\n      <td>114853.5</td>\n      <td>3.17856</td>\n      <td>3.010803</td>\n      <td>1.055718</td>\n      <td>0.996041</td>\n      <td>0.046717</td>\n      <td>...</td>\n      <td>False</td>\n      <td>False</td>\n      <td>True</td>\n      <td>1322.822932</td>\n      <td>8.0</td>\n      <td>1209.364903</td>\n      <td>800.691806</td>\n      <td>NaN</td>\n      <td>NaN</td>\n      <td>-8.576963</td>\n    </tr>\n  </tbody>\n</table>\n<p>5 rows × 21 columns</p>\n</div>"
     },
     "execution_count": 260,
     "metadata": {},
     "output_type": "execute_result"
    }
   ],
   "source": [
    "df1.tail()"
   ],
   "metadata": {
    "collapsed": false,
    "ExecuteTime": {
     "end_time": "2024-03-20T00:43:14.263599Z",
     "start_time": "2024-03-20T00:43:14.251863Z"
    }
   }
  },
  {
   "cell_type": "code",
   "execution_count": null,
   "outputs": [],
   "source": [],
   "metadata": {
    "collapsed": false
   }
  }
 ],
 "metadata": {
  "kernelspec": {
   "display_name": "Python 3",
   "language": "python",
   "name": "python3"
  },
  "language_info": {
   "codemirror_mode": {
    "name": "ipython",
    "version": 2
   },
   "file_extension": ".py",
   "mimetype": "text/x-python",
   "name": "python",
   "nbconvert_exporter": "python",
   "pygments_lexer": "ipython2",
   "version": "2.7.6"
  }
 },
 "nbformat": 4,
 "nbformat_minor": 0
}
