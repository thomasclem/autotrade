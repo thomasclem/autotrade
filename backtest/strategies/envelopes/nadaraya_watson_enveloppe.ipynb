{
 "cells": [
  {
   "cell_type": "code",
   "execution_count": 5,
   "metadata": {
    "collapsed": true,
    "ExecuteTime": {
     "end_time": "2024-06-11T20:25:26.458808Z",
     "start_time": "2024-06-11T20:25:19.950304Z"
    }
   },
   "outputs": [],
   "source": [
    "import sys\n",
    "sys.path.append('../..')\n",
    "import pandas as pd\n",
    "pd.options.mode.chained_assignment = None  # default='warn'\n",
    "import matplotlib.pyplot as plt\n",
    "import ta\n",
    "import numpy as np\n",
    "from utilities.data_manager import ExchangeDataManager"
   ]
  },
  {
   "cell_type": "code",
   "execution_count": 129,
   "outputs": [],
   "source": [
    "class Strategy():\n",
    "    def __init__(\n",
    "        self,\n",
    "        pair,\n",
    "        type=[\"long\"],\n",
    "        params={\"leverage\": 1},\n",
    "    ):\n",
    "        self.df_pair = None\n",
    "        self.df = None\n",
    "        self.exchange_name = \"mexc\"\n",
    "        self.pair = pair\n",
    "        self.initial_wallet = 1000\n",
    "        self.use_long = \"long\" in type\n",
    "        self.use_short = \"short\" in type\n",
    "        self.params = params\n",
    "        self.result_df = None\n",
    "\n",
    "    def get_pair_data(self, timeframe, start = 2050, end = 2050):\n",
    "        exchange = ExchangeDataManager(\n",
    "            exchange_name=self.exchange_name,\n",
    "            path_download=\"./database/exchanges\"\n",
    "        )\n",
    "\n",
    "        self.df_pair = exchange.load_data(self.pair, timeframe, start, end)\n",
    "\n",
    "    def custom_kernel(x, h, alpha, x_0):\n",
    "    # x is expected to be a pandas Series here\n",
    "        if len(x) < h + 1:\n",
    "            return np.nan  # Handle not enough data gracefully\n",
    "        indices = np.arange(x_0, x_0 - h - 1, -1)\n",
    "        weights = np.power(1 + (np.power((indices - x_0), 2) / (2 * alpha * h * h)), -alpha)\n",
    "        weighted_sum = np.dot(weights, x.tail(h+1).values)  # Use .tail(h+1) to ensure we're getting the last h+1 elements\n",
    "        return weighted_sum / np.sum(weights)\n",
    "\n",
    "    def custom_atr(df):\n",
    "        tr = np.log(df['high']) - np.log(df['low'])\n",
    "        tr = np.maximum.reduce([\n",
    "            tr,\n",
    "            np.abs(np.log(df['high']) - np.log(df['close'].shift())),\n",
    "            np.abs(np.log(df['low']) - np.log(df['close'].shift()))\n",
    "        ])\n",
    "\n",
    "        return tr\n",
    "\n",
    "    def populate_indicators2(self):\n",
    "        params = self.params\n",
    "        df = self.df_pair.copy()\n",
    "        df.drop(\n",
    "            columns=df.columns.difference(['open','high','low','close','volume']),\n",
    "            inplace=True\n",
    "        )\n",
    "        lookback_window = 8\n",
    "        relative_weighting = 5.0\n",
    "        start_regression_bar = 20\n",
    "\n",
    "        # Calculate log columns\n",
    "        df['log_high'] = np.log(df['high'])\n",
    "        df['log_low'] = np.log(df['low'])\n",
    "        df['log_close'] = np.log(df['close'])\n",
    "\n",
    "        # Apply the custom kernel using rolling window\n",
    "        df['customEnvelopeHigh'] = np.exp(df['log_high'].rolling(window=lookback_window + start_regression_bar, min_periods=lookback_window).apply(\n",
    "            lambda x: custom_kernel(x[::-1], lookback_window, relative_weighting, start_regression_bar), raw=False\n",
    "        ))\n",
    "        df['customEnvelopeLow'] = np.exp(df['log_low'].rolling(window=lookback_window + start_regression_bar, min_periods=lookback_window).apply(\n",
    "            lambda x: custom_kernel(x[::-1], lookback_window, relative_weighting, start_regression_bar), raw=False\n",
    "        ))\n",
    "\n",
    "        df['open_long_signal'] = (df['close'].shift(1) > df['customEnvelopeLow'].shift(1)) & (df['close'].shift(2) <= df['customEnvelopeLow'].shift(2))\n",
    "        df['close_long_signal'] = (df['close'].shift(1) < df['customEnvelopeHigh'].shift(1)) & (df['close'].shift(2) >= df['customEnvelopeHigh'].shift(2))\n",
    "        #df['open_long_signal'] = (df['close'] > df['customEnvelopeLow']) & (df['close'].shift(1) <= df['customEnvelopeLow'].shift(1))\n",
    "        #df['close_long_signal'] = (df['close'] < df['customEnvelopeHigh']) & (df['close'].shift(1) >= df['customEnvelopeHigh'].shift(1))\n",
    "\n",
    "        df_signal = df.loc[\n",
    "            df[\"open_long_signal\"] | df[\"close_long_signal\"],\n",
    "            [\"open_long_signal\", \"close_long_signal\",\"open\", \"close\"]\n",
    "        ]\n",
    "        df_signal[\"open_signal_lag\"] = df_signal[\"open_long_signal\"].shift(fill_value=False)\n",
    "        df_signal[\"close_signal_lag\"] = df_signal[\"close_long_signal\"].shift(fill_value=False)\n",
    "        df_first_signal  = df_signal[\n",
    "            (~ df_signal[\"open_signal_lag\"] & (df_signal[\"open_long_signal\"] | df_signal[\"open_long_signal\"].isnull())) |\n",
    "            (~ df_signal[\"close_signal_lag\"] & df_signal[\"close_long_signal\"])\n",
    "         ]\n",
    "        df_first_signal[\"open_signal_lag\"] = df_first_signal[\"open_long_signal\"].shift(fill_value=False)\n",
    "        df_first_signal[\"close_signal_lag\"] = df_first_signal[\"close_long_signal\"].shift(fill_value=False)\n",
    "\n",
    "        df_order_tmp = df_first_signal[\n",
    "            (df_first_signal[\"open_long_signal\"] & (~df_first_signal[\"open_signal_lag\"] | df_first_signal[\"open_long_signal\"].isnull())) |\n",
    "            (df_first_signal[\"close_long_signal\"] & ~ df_first_signal[\"close_signal_lag\"])\n",
    "        ]\n",
    "        df_order = df_order_tmp.loc[\n",
    "            ~ ( ~ df_order_tmp[\"close_signal_lag\"] & ~ df_order_tmp[\"open_signal_lag\"] & df_order_tmp[\"close_long_signal\"])\n",
    "        ]\n",
    "        df_order[\"order_number\"] = df_order[\"open_long_signal\"].cumsum()\n",
    "        df_order[\"open_lag\"] = df_order[\"open\"].shift(-1)\n",
    "        df_order[\"open_order\"] = df_order[\"open\"].shift()\n",
    "        df_order.loc[df_order[\"open_long_signal\"], \"open_order\"] = df_order.loc[df_order[\"open_long_signal\"], \"open\"]\n",
    "        df_pair = df[[\"open\", \"close\", \"low\", \"high\", \"open_long_signal\", \"close_long_signal\"]]\n",
    "\n",
    "        leverage = params[\"leverage\"]  # Fixed leverage\n",
    "        maintenance_margin_percent = 0.004\n",
    "        wallet = 1000  # Initial wallet balance\n",
    "        quantity = 0  # Initial quantity\n",
    "\n",
    "        # Ensure the DataFrame has 'quantity' and 'trade_result' columns initialized\n",
    "        df_order['quantity'] = 0.0\n",
    "        df_order['trade_result'] = 0.0\n",
    "        df_order['trade_result_pct'] = 0.0\n",
    "\n",
    "        # Iterating over DataFrame rows to process trading signals\n",
    "        for i, row in df_order.iterrows():\n",
    "            # Check if there is a signal to open a long position\n",
    "            if row['open_long_signal']:\n",
    "                # Calculate the new quantity based on the current wallet and leverage\n",
    "                quantity = wallet * leverage / row['open']\n",
    "                # Update the 'quantity' column with the new quantity\n",
    "                df_order.at[i, 'quantity'] = quantity\n",
    "                # No change in wallet yet as the position has just opened\n",
    "                df_order.at[i, 'wallet'] = wallet\n",
    "                # Track the price at which the position was opened\n",
    "                open = row['open']\n",
    "            elif row['close_long_signal']:\n",
    "                # Calculate the trade result based on the difference between current and open price\n",
    "                trade_result = (row['open'] - open) * quantity\n",
    "                # Update the 'trade_result' column with the result of the closed trade\n",
    "                df_order.at[i, 'trade_result'] = trade_result\n",
    "                df_order.at[i, 'trade_result_pct'] = trade_result / wallet * 100\n",
    "                # Update the wallet with the result of the trade\n",
    "                wallet += trade_result\n",
    "                # Reset quantity as the trade is closed\n",
    "                df_order.at[i, 'quantity'] = quantity\n",
    "                quantity = 0\n",
    "\n",
    "            # Update the wallet and quantity for the current row\n",
    "            df_order.at[i, 'wallet'] = wallet\n",
    "\n",
    "        df_order_tmp = df_order[\n",
    "            [\"order_number\", \"quantity\", \"trade_result\", \"trade_result_pct\", \"wallet\", \"open_order\"]\n",
    "        ]\n",
    "        df_order_final = df_pair.join(df_order_tmp)\n",
    "\n",
    "        f = df_order_final['order_number'].ffill()\n",
    "        b = df_order_final['order_number'].bfill()\n",
    "\n",
    "        df_order_final['order_number'] = df_order_final['order_number'].mask(f == b, f)\n",
    "\n",
    "        f = df_order_final['open_order'].ffill()\n",
    "        b = df_order_final['open_order'].bfill()\n",
    "\n",
    "        df_order_final['open_order'] = df_order_final['open_order'].mask(f == b, f)\n",
    "        df_order_final['wallet'] = df_order_final['wallet'].ffill()\n",
    "        #df_order_final[\"hypothetical_wallet\"] = df_order_final[\"wallet\"] + df_order_final[\"quantity\"] * (df_order_final['open'] - df_order_final[\"open_order\"])\n",
    "        df_order_final[\"hypothetical_wallet\"] = df_order_final[\"wallet\"].shift() + df_order_final[\"quantity\"] * (df_order_final['open'] - df_order_final[\"open_order\"])\n",
    "        df_order_final[\"hypothetical_low_result\"] =  ((df_order_final[\"quantity\"] * df_order_final[\"low\"]) - df_order_final[\"wallet\"]) / df_order_final[\"wallet\"]\n",
    "        df_order_final[\"drawdown\"] = (df_order_final[\"low\"] - df_order_final[\"open_order\"]) / df_order_final[\"open_order\"] * 100 * leverage\n",
    "        df_order_final[\"is_liquidated\"] = df_order_final['hypothetical_wallet'] < (df_order_final[\"wallet\"] / leverage) * maintenance_margin_percent\n",
    "\n",
    "        self.df = df_order_final\n",
    "\n",
    "\n",
    "    def get_result_df(self):\n",
    "        try:\n",
    "            df = self.df\n",
    "            if df is not None:\n",
    "                total_trades = df.order_number.max()\n",
    "                final_wallet_amount = df.loc[df[\"open_long_signal\"], \"wallet\"].tail(1)\n",
    "                total_profit = final_wallet_amount - self.initial_wallet\n",
    "                total_profit_perc = total_profit / self.initial_wallet * 100\n",
    "                avg_trade_profit_perc = df[\"trade_result_pct\"].dropna().mean()\n",
    "                avg_trade_profit = df[\"trade_result\"].dropna().mean()\n",
    "                max_drawdown = df[\"drawdown\"].min()\n",
    "\n",
    "                result_df = pd.DataFrame(\n",
    "                    {\n",
    "                        \"params\": str(self.params),\n",
    "                        \"final_wallet_amount\": final_wallet_amount,\n",
    "                        \"total_profit\": total_profit,\n",
    "                        \"total_profit_perc\": total_profit_perc,\n",
    "                        \"total_trades\": total_trades,\n",
    "                        \"avg_trade_profit_perc\": avg_trade_profit_perc,\n",
    "                        \"avg_trade_profit\": avg_trade_profit,\n",
    "                        \"max_drawdown\": max_drawdown,\n",
    "                    }\n",
    "                )\n",
    "\n",
    "                return result_df\n",
    "            else:\n",
    "                return None\n",
    "        except Exception as e:\n",
    "            print(e)\n",
    "            print(self.params)\n",
    "            return None"
   ],
   "metadata": {
    "collapsed": false,
    "ExecuteTime": {
     "end_time": "2024-06-11T21:50:24.656295Z",
     "start_time": "2024-06-11T21:50:24.649156Z"
    }
   }
  },
  {
   "cell_type": "code",
   "execution_count": 130,
   "outputs": [],
   "source": [
    "pair = \"API3/USDT:USDT\"\n",
    "exchange_name = \"mexc\"\n",
    "tf = '1h'\n",
    "start_date = \"2023-01-01 00:00:00\"\n",
    "end_date = \"2024-05-14 01:00:00\""
   ],
   "metadata": {
    "collapsed": false,
    "ExecuteTime": {
     "end_time": "2024-06-11T21:50:24.866122Z",
     "start_time": "2024-06-11T21:50:24.862373Z"
    }
   }
  },
  {
   "cell_type": "code",
   "execution_count": 136,
   "outputs": [],
   "source": [
    "def get_pair_data(timeframe, pair, start = 2050, end = 2050):\n",
    "        exchange = ExchangeDataManager(\n",
    "            exchange_name=exchange_name,\n",
    "            path_download=\"./database/exchanges\"\n",
    "        )\n",
    "\n",
    "        return exchange.load_data(pair, timeframe, start, end)"
   ],
   "metadata": {
    "collapsed": false,
    "ExecuteTime": {
     "end_time": "2024-06-17T17:00:32.932451Z",
     "start_time": "2024-06-17T17:00:32.932012Z"
    }
   }
  },
  {
   "cell_type": "code",
   "execution_count": 189,
   "outputs": [],
   "source": [
    "df = get_pair_data(timeframe=tf, pair=pair, start=start_date, end=end_date)"
   ],
   "metadata": {
    "collapsed": false,
    "ExecuteTime": {
     "end_time": "2024-06-17T17:35:57.073843Z",
     "start_time": "2024-06-17T17:35:57.034741Z"
    }
   }
  },
  {
   "cell_type": "code",
   "execution_count": 190,
   "outputs": [],
   "source": [
    "def custom_kernel(x, h, alpha, x_0):\n",
    "    \"\"\"\n",
    "    Calculate the kernel weighted average using a window of data points from pandas Series.\n",
    "\n",
    "    Args:\n",
    "    x (pandas Series): Rolling window of data points.\n",
    "    h (int): Number of data points to consider (window size).\n",
    "    alpha (float): Decay factor controlling weight curvature.\n",
    "    x_0 (int): Position index to calculate relative weights, usually the last index of the window.\n",
    "\n",
    "    Returns:\n",
    "    float: Kernel weighted average of the window.\n",
    "    \"\"\"\n",
    "    if len(x) < h + 1:\n",
    "        return np.nan  # Not enough data to compute the kernel\n",
    "\n",
    "    x = np.log(x)\n",
    "\n",
    "    indices = np.arange(x_0 - h, x_0 + 1)\n",
    "    weights = np.power(1 + (np.power((x_0 - indices), 2) / (2 * alpha * h * h)), -alpha)\n",
    "    sum_weights = np.sum(weights)\n",
    "    sum_x_weights = np.dot(weights, x)\n",
    "\n",
    "    return np.exp(sum_x_weights / sum_weights) if sum_weights != 0 else np.nan"
   ],
   "metadata": {
    "collapsed": false,
    "ExecuteTime": {
     "end_time": "2024-06-17T17:35:58.680726Z",
     "start_time": "2024-06-17T17:35:58.675150Z"
    }
   }
  },
  {
   "cell_type": "code",
   "execution_count": 191,
   "outputs": [],
   "source": [
    "# Settings\n",
    "custom_lookback_window = 8\n",
    "custom_relative_weighting = 5.0\n",
    "custom_start_regression_bar = 20"
   ],
   "metadata": {
    "collapsed": false,
    "ExecuteTime": {
     "end_time": "2024-06-17T17:35:59.236068Z",
     "start_time": "2024-06-17T17:35:59.234021Z"
    }
   }
  },
  {
   "cell_type": "code",
   "execution_count": 192,
   "outputs": [],
   "source": [
    "df[\"envelope_low\"] = (\n",
    "    df[\"low\"]\n",
    "    .rolling(window=custom_lookback_window+1)\n",
    "    .apply(\n",
    "        lambda x: custom_kernel(\n",
    "            x, custom_lookback_window, custom_relative_weighting, custom_start_regression_bar\n",
    "        ),\n",
    "        raw=True\n",
    "    )\n",
    ")\n",
    "\n",
    "df[\"envelope_high\"] = (\n",
    "    df[\"high\"]\n",
    "    .rolling(window=custom_lookback_window+1)\n",
    "    .apply(\n",
    "        lambda x: custom_kernel(\n",
    "            x, custom_lookback_window, custom_relative_weighting, custom_start_regression_bar\n",
    "        ),\n",
    "        raw=True\n",
    "    )\n",
    ")"
   ],
   "metadata": {
    "collapsed": false,
    "ExecuteTime": {
     "end_time": "2024-06-17T17:36:00.195783Z",
     "start_time": "2024-06-17T17:35:59.598393Z"
    }
   }
  },
  {
   "cell_type": "code",
   "execution_count": 193,
   "outputs": [],
   "source": [
    "df[\"open_long_signal\"] = df[\"envelope_low\"].shift(1) < df[\"close\"].shift(1)"
   ],
   "metadata": {
    "collapsed": false,
    "ExecuteTime": {
     "end_time": "2024-06-17T17:36:00.204369Z",
     "start_time": "2024-06-17T17:36:00.197426Z"
    }
   }
  },
  {
   "cell_type": "code",
   "execution_count": 206,
   "outputs": [
    {
     "data": {
      "text/plain": "pandas.core.series.Series"
     },
     "execution_count": 206,
     "metadata": {},
     "output_type": "execute_result"
    }
   ],
   "source": [
    "type(df[\"open\"])"
   ],
   "metadata": {
    "collapsed": false,
    "ExecuteTime": {
     "end_time": "2024-06-17T19:11:52.045625Z",
     "start_time": "2024-06-17T19:11:52.039953Z"
    }
   }
  },
  {
   "cell_type": "code",
   "execution_count": 203,
   "outputs": [],
   "source": [
    "df.index[0].tz"
   ],
   "metadata": {
    "collapsed": false,
    "ExecuteTime": {
     "end_time": "2024-06-17T17:40:16.988781Z",
     "start_time": "2024-06-17T17:40:16.985454Z"
    }
   }
  },
  {
   "cell_type": "code",
   "execution_count": 143,
   "outputs": [],
   "source": [
    "envelope_close = custom_kernel(df[\"close\"], custom_lookback_window, custom_relative_weighting, custom_start_regression_bar)\n",
    "envelope_high = custom_kernel(df[\"high\"], custom_lookback_window, custom_relative_weighting, custom_start_regression_bar)\n",
    "envelope_low = custom_kernel(df[\"low\"], custom_lookback_window, custom_relative_weighting, custom_start_regression_bar)"
   ],
   "metadata": {
    "collapsed": false,
    "ExecuteTime": {
     "end_time": "2024-06-17T17:01:20.665631Z",
     "start_time": "2024-06-17T17:01:20.656080Z"
    }
   }
  },
  {
   "cell_type": "code",
   "execution_count": null,
   "outputs": [],
   "source": [],
   "metadata": {
    "collapsed": false
   }
  },
  {
   "cell_type": "code",
   "execution_count": null,
   "outputs": [],
   "source": [],
   "metadata": {
    "collapsed": false
   }
  },
  {
   "cell_type": "code",
   "execution_count": null,
   "outputs": [],
   "source": [],
   "metadata": {
    "collapsed": false
   }
  },
  {
   "cell_type": "code",
   "execution_count": 134,
   "outputs": [],
   "source": [
    "strat = Strategy(pair=pair)\n",
    "strat.get_pair_data(timeframe=tf, start=start_date, end=end_date)\n",
    "strat.populate_indicators2()\n",
    "df_result_tmp = strat.get_result_df()\n",
    "df = strat.df"
   ],
   "metadata": {
    "collapsed": false,
    "ExecuteTime": {
     "end_time": "2024-06-11T21:50:31.181828Z",
     "start_time": "2024-06-11T21:50:28.519898Z"
    }
   }
  },
  {
   "cell_type": "code",
   "execution_count": null,
   "outputs": [],
   "source": [],
   "metadata": {
    "collapsed": false
   }
  }
 ],
 "metadata": {
  "kernelspec": {
   "display_name": "Python 3",
   "language": "python",
   "name": "python3"
  },
  "language_info": {
   "codemirror_mode": {
    "name": "ipython",
    "version": 2
   },
   "file_extension": ".py",
   "mimetype": "text/x-python",
   "name": "python",
   "nbconvert_exporter": "python",
   "pygments_lexer": "ipython2",
   "version": "2.7.6"
  }
 },
 "nbformat": 4,
 "nbformat_minor": 0
}
