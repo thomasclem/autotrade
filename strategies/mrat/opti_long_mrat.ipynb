{
 "cells": [
  {
   "cell_type": "code",
   "execution_count": 4,
   "metadata": {
    "collapsed": true,
    "ExecuteTime": {
     "end_time": "2024-03-18T21:45:49.717835Z",
     "start_time": "2024-03-18T21:45:46.369378Z"
    }
   },
   "outputs": [],
   "source": [
    "import sys\n",
    "sys.path.append('../..')\n",
    "import pandas as pd\n",
    "pd.options.mode.chained_assignment = None  # default='warn'\n",
    "import ta\n",
    "import numpy as np\n",
    "from utilities.data_manager import ExchangeDataManager\n",
    "from utilities.bt_analysis import get_metrics, backtest_analysis\n",
    "import nest_asyncio\n",
    "nest_asyncio.apply()\n",
    "from functools import reduce"
   ]
  },
  {
   "cell_type": "code",
   "execution_count": 228,
   "outputs": [],
   "source": [
    "class Strategy():\n",
    "    def __init__(\n",
    "        self,\n",
    "        pair,\n",
    "        type=[\"long\"],\n",
    "        params={},\n",
    "    ):\n",
    "        self.df_pair = None\n",
    "        self.df = None\n",
    "        self.pair = pair\n",
    "        self.initial_wallet = 1000\n",
    "        self.use_long = \"long\" in type\n",
    "        self.use_short = \"short\" in type\n",
    "        self.params = params\n",
    "        self.result_df = None\n",
    "\n",
    "    def get_pair_data(self, timeframe, start = 2050, end = 2050):\n",
    "        exchange = ExchangeDataManager(\n",
    "            exchange_name=exchange_name,\n",
    "            path_download=\"./database/exchanges\"\n",
    "        )\n",
    "\n",
    "        self.df_pair = exchange.load_data(self.pair, timeframe, start)\n",
    "\n",
    "    def populate_indicators(self):\n",
    "        params = self.params\n",
    "        df = self.df_pair.copy()\n",
    "        df.drop(\n",
    "            columns=df.columns.difference(['open','high','low','close','volume']),\n",
    "            inplace=True\n",
    "        )\n",
    "\n",
    "        # -- Populate indicators --\n",
    "        df['fast_ma'] = ta.trend.sma_indicator(close=df[\"close\"], window=params[\"fast_ma\"])\n",
    "        df['slow_ma'] = ta.trend.sma_indicator(close=df[\"close\"], window=params[\"slow_ma\"])\n",
    "        df['mrat'] = df['fast_ma'] / df['slow_ma']\n",
    "        df['mean_mrat'] = ta.trend.sma_indicator(close=df['mrat'], window=params[\"mean_mrat_lenght\"])\n",
    "        df['stdev_mrat'] = df['mrat'].rolling(params[\"mean_mrat_lenght\"]).std(ddof=0)\n",
    "        df['open_long_signal'] = df['mean_mrat'].shift(1) - df['mrat'].shift(1) >= params['sigma_open'] * df['stdev_mrat'].shift(1)\n",
    "        df['close_long_signal'] = df['mrat'].shift(1) - df['mean_mrat'].shift(1) >= params['sigma_close'] * df['stdev_mrat'].shift(1)\n",
    "\n",
    "        df[\"is_liquidated\"] = False\n",
    "        df[\"order_open\"] = False\n",
    "        # Trading logic\n",
    "        order_open = False\n",
    "        current_order_number = 0\n",
    "        open_price = 0\n",
    "        quantity = 0\n",
    "        trade_result = 0\n",
    "        # Constants and Initialization\n",
    "        initial_wallet = self.initial_wallet\n",
    "        leverage = 2  # Fixed leverage\n",
    "        maintenance_margin_percent = 0.004\n",
    "        wallet = initial_wallet\n",
    "        max_equity = initial_wallet  # To track the max equity before a new trade\n",
    "        max_drawdown = 0\n",
    "\n",
    "        for i in df.index:\n",
    "            if df.loc[i, 'open_long_signal'] and not order_open:\n",
    "                # Open a new order\n",
    "                current_order_number += 1\n",
    "                order_open = True\n",
    "                open_price = df.loc[i, 'open']\n",
    "                open_wallet = df.loc[i, 'wallet']\n",
    "                quantity = (wallet / open_price) * leverage\n",
    "                df.loc[i, 'order_number'] = current_order_number\n",
    "                df.loc[i, 'order_open'] = order_open\n",
    "\n",
    "            # Assign order_number to all rows of the current order\n",
    "            if order_open:\n",
    "                df.loc[i, 'order_number'] = current_order_number\n",
    "                df.loc[i, 'order_open'] = order_open\n",
    "                # Calculate hypothetical_wallet\n",
    "                hypothetical_wallet = wallet + quantity * (df.loc[i, 'open'] - open_price)\n",
    "                df.loc[i, 'hypothetical_wallet'] = hypothetical_wallet\n",
    "                df.loc[i, 'quantity'] = quantity\n",
    "\n",
    "                # Check for liquidation\n",
    "                maintenance_margin = (wallet / leverage) * maintenance_margin_percent\n",
    "                if hypothetical_wallet < maintenance_margin:\n",
    "                    df.loc[i, 'is_liquidated'] = True\n",
    "                    df.loc[i, 'trade_result'] = hypothetical_wallet - wallet\n",
    "                    wallet = 0  # Update wallet with the loss\n",
    "                    order_open = False  # Close the order\n",
    "\n",
    "            # Close the order\n",
    "            if df.loc[i, 'close_long_signal'] and order_open:\n",
    "                trade_result = quantity * (df.loc[i, 'open'] - open_price)\n",
    "                trade_result_perc = trade_result / wallet * 100\n",
    "                wallet += trade_result  # Update wallet with the profit or loss\n",
    "                order_open = False  # Close the order\n",
    "                df.loc[i, 'trade_result'] = trade_result\n",
    "                df.loc[i, 'trade_result_perc'] = trade_result_perc\n",
    "\n",
    "            # Set wallet to current wallet value\n",
    "            df.loc[i, 'wallet'] = wallet\n",
    "\n",
    "        df[\"drawdown\"] = (df[\"hypothetical_wallet\"] - df[\"wallet\"]) / df[\"wallet\"] * 100\n",
    "\n",
    "        return df\n",
    "\n",
    "\n",
    "    def get_result_df(self):\n",
    "        df = self.df\n",
    "        final_wallet_amount = df.loc[df[\"order_open\"] & df[\"close_long_signal\"], \"wallet\"].tail(1)\n",
    "        total_profit = final_wallet_amount  - self.initial_wallet\n",
    "        total_profit_perc = total_profit / self.initial_wallet * 100\n",
    "        total_trades = df[\"order_number\"].max()\n",
    "        avg_trade_profit_perc = df[\"trade_result_perc\"].dropna().mean()\n",
    "        avg_trade_profit = df[\"trade_result\"].dropna().mean()\n",
    "        max_drawdown = df[\"drawdown\"].max()\n",
    "\n",
    "        result_df = pd.DataFrame(\n",
    "            {\n",
    "                \"params\": str(self.params),\n",
    "                \"final_wallet_amount\": final_wallet_amount,\n",
    "                \"total_profit\": total_profit,\n",
    "                \"total_profit_perc\": total_profit_perc,\n",
    "                \"total_trades\": total_trades,\n",
    "                \"avg_trade_profit_perc\": avg_trade_profit_perc,\n",
    "                \"avg_trade_profit\": avg_trade_profit,\n",
    "                \"max_drawdown\": max_drawdown,\n",
    "            }\n",
    "        )\n",
    "\n",
    "        self.result_df = result_df"
   ],
   "metadata": {
    "collapsed": false,
    "ExecuteTime": {
     "end_time": "2024-03-19T00:12:15.114532Z",
     "start_time": "2024-03-19T00:12:15.110604Z"
    }
   }
  },
  {
   "cell_type": "code",
   "execution_count": 229,
   "outputs": [],
   "source": [
    "params = {\n",
    "    \"fast_ma\": 6,\n",
    "    \"slow_ma\": 60,\n",
    "    \"sigma_open\": 2.3,\n",
    "    \"sigma_close\": 2.3,\n",
    "    \"mean_mrat_lenght\": 60\n",
    "}\n",
    "\n",
    "pair = \"API3/USDT:USDT\"\n",
    "exchange_name = \"binance\"\n",
    "tf = '15m'\n",
    "oldest_pair = \"API3/USDT:USDT\"\n",
    "start_date = \"2023-01-01 00:00:00\""
   ],
   "metadata": {
    "collapsed": false,
    "ExecuteTime": {
     "end_time": "2024-03-19T00:12:16.370294Z",
     "start_time": "2024-03-19T00:12:16.333424Z"
    }
   }
  },
  {
   "cell_type": "code",
   "execution_count": 230,
   "outputs": [],
   "source": [
    "strat = Strategy(pair=pair, params=params)\n",
    "strat.get_pair_data(timeframe=tf, start=start_date)\n",
    "df1 = strat.populate_indicators()"
   ],
   "metadata": {
    "collapsed": false,
    "ExecuteTime": {
     "end_time": "2024-03-19T00:12:25.810489Z",
     "start_time": "2024-03-19T00:12:17.227143Z"
    }
   }
  },
  {
   "cell_type": "code",
   "execution_count": 223,
   "outputs": [
    {
     "data": {
      "text/plain": "                       open    high     low   close    volume   fast_ma  \\\ndate                                                                      \n2024-02-16 07:40:00  4.3327  4.3381  4.3237  4.3312   93351.8  4.332117   \n2024-02-16 09:50:00  4.4083  4.4091  4.3910  4.3970  117704.7  4.388267   \n\n                      slow_ma      mrat  mean_mrat  stdev_mrat  ...  \\\ndate                                                            ...   \n2024-02-16 07:40:00  4.423763  0.979283   0.989205    0.004213  ...   \n2024-02-16 09:50:00  4.378617  1.002204   0.988079    0.005572  ...   \n\n                     close_long_signal  is_liquidated  order_open  \\\ndate                                                                \n2024-02-16 07:40:00              False          False        True   \n2024-02-16 09:50:00               True          False        True   \n\n                          wallet  order_number  hypothetical_wallet  \\\ndate                                                                  \n2024-02-16 07:40:00  1085.910036           4.0          1085.910036   \n2024-02-16 09:50:00  1104.857759           4.0          1104.857759   \n\n                       quantity  trade_result  trade_result_perc  drawdown  \ndate                                                                        \n2024-02-16 07:40:00  250.631254           NaN                NaN       0.0  \n2024-02-16 09:50:00  250.631254     18.947723            1.74487       0.0  \n\n[2 rows x 21 columns]",
      "text/html": "<div>\n<style scoped>\n    .dataframe tbody tr th:only-of-type {\n        vertical-align: middle;\n    }\n\n    .dataframe tbody tr th {\n        vertical-align: top;\n    }\n\n    .dataframe thead th {\n        text-align: right;\n    }\n</style>\n<table border=\"1\" class=\"dataframe\">\n  <thead>\n    <tr style=\"text-align: right;\">\n      <th></th>\n      <th>open</th>\n      <th>high</th>\n      <th>low</th>\n      <th>close</th>\n      <th>volume</th>\n      <th>fast_ma</th>\n      <th>slow_ma</th>\n      <th>mrat</th>\n      <th>mean_mrat</th>\n      <th>stdev_mrat</th>\n      <th>...</th>\n      <th>close_long_signal</th>\n      <th>is_liquidated</th>\n      <th>order_open</th>\n      <th>wallet</th>\n      <th>order_number</th>\n      <th>hypothetical_wallet</th>\n      <th>quantity</th>\n      <th>trade_result</th>\n      <th>trade_result_perc</th>\n      <th>drawdown</th>\n    </tr>\n    <tr>\n      <th>date</th>\n      <th></th>\n      <th></th>\n      <th></th>\n      <th></th>\n      <th></th>\n      <th></th>\n      <th></th>\n      <th></th>\n      <th></th>\n      <th></th>\n      <th></th>\n      <th></th>\n      <th></th>\n      <th></th>\n      <th></th>\n      <th></th>\n      <th></th>\n      <th></th>\n      <th></th>\n      <th></th>\n      <th></th>\n    </tr>\n  </thead>\n  <tbody>\n    <tr>\n      <th>2024-02-16 07:40:00</th>\n      <td>4.3327</td>\n      <td>4.3381</td>\n      <td>4.3237</td>\n      <td>4.3312</td>\n      <td>93351.8</td>\n      <td>4.332117</td>\n      <td>4.423763</td>\n      <td>0.979283</td>\n      <td>0.989205</td>\n      <td>0.004213</td>\n      <td>...</td>\n      <td>False</td>\n      <td>False</td>\n      <td>True</td>\n      <td>1085.910036</td>\n      <td>4.0</td>\n      <td>1085.910036</td>\n      <td>250.631254</td>\n      <td>NaN</td>\n      <td>NaN</td>\n      <td>0.0</td>\n    </tr>\n    <tr>\n      <th>2024-02-16 09:50:00</th>\n      <td>4.4083</td>\n      <td>4.4091</td>\n      <td>4.3910</td>\n      <td>4.3970</td>\n      <td>117704.7</td>\n      <td>4.388267</td>\n      <td>4.378617</td>\n      <td>1.002204</td>\n      <td>0.988079</td>\n      <td>0.005572</td>\n      <td>...</td>\n      <td>True</td>\n      <td>False</td>\n      <td>True</td>\n      <td>1104.857759</td>\n      <td>4.0</td>\n      <td>1104.857759</td>\n      <td>250.631254</td>\n      <td>18.947723</td>\n      <td>1.74487</td>\n      <td>0.0</td>\n    </tr>\n  </tbody>\n</table>\n<p>2 rows × 21 columns</p>\n</div>"
     },
     "execution_count": 223,
     "metadata": {},
     "output_type": "execute_result"
    }
   ],
   "source": [
    "df1.loc[df1[\"order_number\"] == 4].iloc[[0,-1], :]"
   ],
   "metadata": {
    "collapsed": false,
    "ExecuteTime": {
     "end_time": "2024-03-19T00:05:08.993556Z",
     "start_time": "2024-03-19T00:05:08.983630Z"
    }
   }
  },
  {
   "cell_type": "code",
   "execution_count": 223,
   "outputs": [],
   "source": [],
   "metadata": {
    "collapsed": false,
    "ExecuteTime": {
     "end_time": "2024-03-19T00:05:09.006345Z",
     "start_time": "2024-03-19T00:05:08.988382Z"
    }
   }
  },
  {
   "cell_type": "code",
   "execution_count": 231,
   "outputs": [
    {
     "data": {
      "text/plain": "                       open    high     low   close    volume   fast_ma  \\\ndate                                                                      \n2023-01-01 00:00:00  1.0120  1.0130  1.0020  1.0040  467066.5       NaN   \n2023-01-01 00:15:00  1.0040  1.0080  1.0040  1.0070  203460.2       NaN   \n2023-01-01 00:30:00  1.0070  1.0090  1.0030  1.0050  235463.6       NaN   \n2023-01-01 00:45:00  1.0050  1.0100  1.0040  1.0080  185797.9       NaN   \n2023-01-01 01:00:00  1.0090  1.0100  1.0070  1.0080  103208.8       NaN   \n...                     ...     ...     ...     ...       ...       ...   \n2024-03-18 22:45:00  3.1631  3.1828  3.1616  3.1828   30537.2  3.189267   \n2024-03-18 23:00:00  3.1831  3.2122  3.1720  3.2016   60735.7  3.187200   \n2024-03-18 23:15:00  3.2011  3.2191  3.1948  3.2133   42154.5  3.189050   \n2024-03-18 23:30:00  3.2138  3.2141  3.1891  3.1911   33688.5  3.187967   \n2024-03-18 23:45:00  3.1909  3.1924  3.1776  3.1841   47514.3  3.189400   \n\n                      slow_ma      mrat  mean_mrat  stdev_mrat  ...  \\\ndate                                                            ...   \n2023-01-01 00:00:00       NaN       NaN        NaN         NaN  ...   \n2023-01-01 00:15:00       NaN       NaN        NaN         NaN  ...   \n2023-01-01 00:30:00       NaN       NaN        NaN         NaN  ...   \n2023-01-01 00:45:00       NaN       NaN        NaN         NaN  ...   \n2023-01-01 01:00:00       NaN       NaN        NaN         NaN  ...   \n...                       ...       ...        ...         ...  ...   \n2024-03-18 22:45:00  3.198277  0.997183   0.978451    0.009994  ...   \n2024-03-18 23:00:00  3.197543  0.996765   0.978655    0.010238  ...   \n2024-03-18 23:15:00  3.197370  0.997398   0.978942    0.010515  ...   \n2024-03-18 23:30:00  3.196582  0.997305   0.979292    0.010768  ...   \n2024-03-18 23:45:00  3.195520  0.998085   0.979682    0.011014  ...   \n\n                     close_long_signal  is_liquidated  order_open  \\\ndate                                                                \n2023-01-01 00:00:00              False          False       False   \n2023-01-01 00:15:00              False          False       False   \n2023-01-01 00:30:00              False          False       False   \n2023-01-01 00:45:00              False          False       False   \n2023-01-01 01:00:00              False          False       False   \n...                                ...            ...         ...   \n2024-03-18 22:45:00              False          False        True   \n2024-03-18 23:00:00              False          False        True   \n2024-03-18 23:15:00              False          False        True   \n2024-03-18 23:30:00              False          False        True   \n2024-03-18 23:45:00              False          False        True   \n\n                           wallet  order_number  hypothetical_wallet  \\\ndate                                                                   \n2023-01-01 00:00:00   1000.000000           NaN                  NaN   \n2023-01-01 00:15:00   1000.000000           NaN                  NaN   \n2023-01-01 00:30:00   1000.000000           NaN                  NaN   \n2023-01-01 00:45:00   1000.000000           NaN                  NaN   \n2023-01-01 01:00:00   1000.000000           NaN                  NaN   \n...                           ...           ...                  ...   \n2024-03-18 22:45:00  16598.423692         147.0         15308.275779   \n2024-03-18 23:00:00  16598.423692         147.0         15510.019003   \n2024-03-18 23:15:00  16598.423692         147.0         15691.587904   \n2024-03-18 23:30:00  16598.423692         147.0         15819.694850   \n2024-03-18 23:45:00  16598.423692         147.0         15588.698860   \n\n                         quantity  trade_result  trade_result_perc  drawdown  \ndate                                                                          \n2023-01-01 00:00:00           NaN           NaN                NaN       NaN  \n2023-01-01 00:15:00           NaN           NaN                NaN       NaN  \n2023-01-01 00:30:00           NaN           NaN                NaN       NaN  \n2023-01-01 00:45:00           NaN           NaN                NaN       NaN  \n2023-01-01 01:00:00           NaN           NaN                NaN       NaN  \n...                           ...           ...                ...       ...  \n2024-03-18 22:45:00  10087.161162           NaN                NaN -7.772713  \n2024-03-18 23:00:00  10087.161162           NaN                NaN -6.557277  \n2024-03-18 23:15:00  10087.161162           NaN                NaN -5.463385  \n2024-03-18 23:30:00  10087.161162           NaN                NaN -4.691583  \n2024-03-18 23:45:00  10087.161162           NaN                NaN -6.083257  \n\n[42528 rows x 21 columns]",
      "text/html": "<div>\n<style scoped>\n    .dataframe tbody tr th:only-of-type {\n        vertical-align: middle;\n    }\n\n    .dataframe tbody tr th {\n        vertical-align: top;\n    }\n\n    .dataframe thead th {\n        text-align: right;\n    }\n</style>\n<table border=\"1\" class=\"dataframe\">\n  <thead>\n    <tr style=\"text-align: right;\">\n      <th></th>\n      <th>open</th>\n      <th>high</th>\n      <th>low</th>\n      <th>close</th>\n      <th>volume</th>\n      <th>fast_ma</th>\n      <th>slow_ma</th>\n      <th>mrat</th>\n      <th>mean_mrat</th>\n      <th>stdev_mrat</th>\n      <th>...</th>\n      <th>close_long_signal</th>\n      <th>is_liquidated</th>\n      <th>order_open</th>\n      <th>wallet</th>\n      <th>order_number</th>\n      <th>hypothetical_wallet</th>\n      <th>quantity</th>\n      <th>trade_result</th>\n      <th>trade_result_perc</th>\n      <th>drawdown</th>\n    </tr>\n    <tr>\n      <th>date</th>\n      <th></th>\n      <th></th>\n      <th></th>\n      <th></th>\n      <th></th>\n      <th></th>\n      <th></th>\n      <th></th>\n      <th></th>\n      <th></th>\n      <th></th>\n      <th></th>\n      <th></th>\n      <th></th>\n      <th></th>\n      <th></th>\n      <th></th>\n      <th></th>\n      <th></th>\n      <th></th>\n      <th></th>\n    </tr>\n  </thead>\n  <tbody>\n    <tr>\n      <th>2023-01-01 00:00:00</th>\n      <td>1.0120</td>\n      <td>1.0130</td>\n      <td>1.0020</td>\n      <td>1.0040</td>\n      <td>467066.5</td>\n      <td>NaN</td>\n      <td>NaN</td>\n      <td>NaN</td>\n      <td>NaN</td>\n      <td>NaN</td>\n      <td>...</td>\n      <td>False</td>\n      <td>False</td>\n      <td>False</td>\n      <td>1000.000000</td>\n      <td>NaN</td>\n      <td>NaN</td>\n      <td>NaN</td>\n      <td>NaN</td>\n      <td>NaN</td>\n      <td>NaN</td>\n    </tr>\n    <tr>\n      <th>2023-01-01 00:15:00</th>\n      <td>1.0040</td>\n      <td>1.0080</td>\n      <td>1.0040</td>\n      <td>1.0070</td>\n      <td>203460.2</td>\n      <td>NaN</td>\n      <td>NaN</td>\n      <td>NaN</td>\n      <td>NaN</td>\n      <td>NaN</td>\n      <td>...</td>\n      <td>False</td>\n      <td>False</td>\n      <td>False</td>\n      <td>1000.000000</td>\n      <td>NaN</td>\n      <td>NaN</td>\n      <td>NaN</td>\n      <td>NaN</td>\n      <td>NaN</td>\n      <td>NaN</td>\n    </tr>\n    <tr>\n      <th>2023-01-01 00:30:00</th>\n      <td>1.0070</td>\n      <td>1.0090</td>\n      <td>1.0030</td>\n      <td>1.0050</td>\n      <td>235463.6</td>\n      <td>NaN</td>\n      <td>NaN</td>\n      <td>NaN</td>\n      <td>NaN</td>\n      <td>NaN</td>\n      <td>...</td>\n      <td>False</td>\n      <td>False</td>\n      <td>False</td>\n      <td>1000.000000</td>\n      <td>NaN</td>\n      <td>NaN</td>\n      <td>NaN</td>\n      <td>NaN</td>\n      <td>NaN</td>\n      <td>NaN</td>\n    </tr>\n    <tr>\n      <th>2023-01-01 00:45:00</th>\n      <td>1.0050</td>\n      <td>1.0100</td>\n      <td>1.0040</td>\n      <td>1.0080</td>\n      <td>185797.9</td>\n      <td>NaN</td>\n      <td>NaN</td>\n      <td>NaN</td>\n      <td>NaN</td>\n      <td>NaN</td>\n      <td>...</td>\n      <td>False</td>\n      <td>False</td>\n      <td>False</td>\n      <td>1000.000000</td>\n      <td>NaN</td>\n      <td>NaN</td>\n      <td>NaN</td>\n      <td>NaN</td>\n      <td>NaN</td>\n      <td>NaN</td>\n    </tr>\n    <tr>\n      <th>2023-01-01 01:00:00</th>\n      <td>1.0090</td>\n      <td>1.0100</td>\n      <td>1.0070</td>\n      <td>1.0080</td>\n      <td>103208.8</td>\n      <td>NaN</td>\n      <td>NaN</td>\n      <td>NaN</td>\n      <td>NaN</td>\n      <td>NaN</td>\n      <td>...</td>\n      <td>False</td>\n      <td>False</td>\n      <td>False</td>\n      <td>1000.000000</td>\n      <td>NaN</td>\n      <td>NaN</td>\n      <td>NaN</td>\n      <td>NaN</td>\n      <td>NaN</td>\n      <td>NaN</td>\n    </tr>\n    <tr>\n      <th>...</th>\n      <td>...</td>\n      <td>...</td>\n      <td>...</td>\n      <td>...</td>\n      <td>...</td>\n      <td>...</td>\n      <td>...</td>\n      <td>...</td>\n      <td>...</td>\n      <td>...</td>\n      <td>...</td>\n      <td>...</td>\n      <td>...</td>\n      <td>...</td>\n      <td>...</td>\n      <td>...</td>\n      <td>...</td>\n      <td>...</td>\n      <td>...</td>\n      <td>...</td>\n      <td>...</td>\n    </tr>\n    <tr>\n      <th>2024-03-18 22:45:00</th>\n      <td>3.1631</td>\n      <td>3.1828</td>\n      <td>3.1616</td>\n      <td>3.1828</td>\n      <td>30537.2</td>\n      <td>3.189267</td>\n      <td>3.198277</td>\n      <td>0.997183</td>\n      <td>0.978451</td>\n      <td>0.009994</td>\n      <td>...</td>\n      <td>False</td>\n      <td>False</td>\n      <td>True</td>\n      <td>16598.423692</td>\n      <td>147.0</td>\n      <td>15308.275779</td>\n      <td>10087.161162</td>\n      <td>NaN</td>\n      <td>NaN</td>\n      <td>-7.772713</td>\n    </tr>\n    <tr>\n      <th>2024-03-18 23:00:00</th>\n      <td>3.1831</td>\n      <td>3.2122</td>\n      <td>3.1720</td>\n      <td>3.2016</td>\n      <td>60735.7</td>\n      <td>3.187200</td>\n      <td>3.197543</td>\n      <td>0.996765</td>\n      <td>0.978655</td>\n      <td>0.010238</td>\n      <td>...</td>\n      <td>False</td>\n      <td>False</td>\n      <td>True</td>\n      <td>16598.423692</td>\n      <td>147.0</td>\n      <td>15510.019003</td>\n      <td>10087.161162</td>\n      <td>NaN</td>\n      <td>NaN</td>\n      <td>-6.557277</td>\n    </tr>\n    <tr>\n      <th>2024-03-18 23:15:00</th>\n      <td>3.2011</td>\n      <td>3.2191</td>\n      <td>3.1948</td>\n      <td>3.2133</td>\n      <td>42154.5</td>\n      <td>3.189050</td>\n      <td>3.197370</td>\n      <td>0.997398</td>\n      <td>0.978942</td>\n      <td>0.010515</td>\n      <td>...</td>\n      <td>False</td>\n      <td>False</td>\n      <td>True</td>\n      <td>16598.423692</td>\n      <td>147.0</td>\n      <td>15691.587904</td>\n      <td>10087.161162</td>\n      <td>NaN</td>\n      <td>NaN</td>\n      <td>-5.463385</td>\n    </tr>\n    <tr>\n      <th>2024-03-18 23:30:00</th>\n      <td>3.2138</td>\n      <td>3.2141</td>\n      <td>3.1891</td>\n      <td>3.1911</td>\n      <td>33688.5</td>\n      <td>3.187967</td>\n      <td>3.196582</td>\n      <td>0.997305</td>\n      <td>0.979292</td>\n      <td>0.010768</td>\n      <td>...</td>\n      <td>False</td>\n      <td>False</td>\n      <td>True</td>\n      <td>16598.423692</td>\n      <td>147.0</td>\n      <td>15819.694850</td>\n      <td>10087.161162</td>\n      <td>NaN</td>\n      <td>NaN</td>\n      <td>-4.691583</td>\n    </tr>\n    <tr>\n      <th>2024-03-18 23:45:00</th>\n      <td>3.1909</td>\n      <td>3.1924</td>\n      <td>3.1776</td>\n      <td>3.1841</td>\n      <td>47514.3</td>\n      <td>3.189400</td>\n      <td>3.195520</td>\n      <td>0.998085</td>\n      <td>0.979682</td>\n      <td>0.011014</td>\n      <td>...</td>\n      <td>False</td>\n      <td>False</td>\n      <td>True</td>\n      <td>16598.423692</td>\n      <td>147.0</td>\n      <td>15588.698860</td>\n      <td>10087.161162</td>\n      <td>NaN</td>\n      <td>NaN</td>\n      <td>-6.083257</td>\n    </tr>\n  </tbody>\n</table>\n<p>42528 rows × 21 columns</p>\n</div>"
     },
     "execution_count": 231,
     "metadata": {},
     "output_type": "execute_result"
    }
   ],
   "source": [
    "df1"
   ],
   "metadata": {
    "collapsed": false,
    "ExecuteTime": {
     "end_time": "2024-03-19T00:12:28.276935Z",
     "start_time": "2024-03-19T00:12:28.249648Z"
    }
   }
  },
  {
   "cell_type": "code",
   "execution_count": null,
   "outputs": [],
   "source": [],
   "metadata": {
    "collapsed": false
   }
  }
 ],
 "metadata": {
  "kernelspec": {
   "display_name": "Python 3",
   "language": "python",
   "name": "python3"
  },
  "language_info": {
   "codemirror_mode": {
    "name": "ipython",
    "version": 2
   },
   "file_extension": ".py",
   "mimetype": "text/x-python",
   "name": "python",
   "nbconvert_exporter": "python",
   "pygments_lexer": "ipython2",
   "version": "2.7.6"
  }
 },
 "nbformat": 4,
 "nbformat_minor": 0
}
