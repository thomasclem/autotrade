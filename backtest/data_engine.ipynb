{
 "cells": [
  {
   "cell_type": "code",
   "execution_count": 2,
   "metadata": {
    "ExecuteTime": {
     "end_time": "2024-06-11T20:38:48.635054Z",
     "start_time": "2024-06-11T20:38:47.495214Z"
    }
   },
   "outputs": [],
   "source": [
    "import sys\n",
    "sys.path.append('./')\n",
    "from utilities.data_manager import ExchangeDataManager\n",
    "import pandas as pd"
   ]
  },
  {
   "cell_type": "markdown",
   "metadata": {},
   "source": [
    "# Download Historical data into CSV in Database"
   ]
  },
  {
   "cell_type": "code",
   "execution_count": 11,
   "metadata": {
    "ExecuteTime": {
     "end_time": "2024-06-23T20:55:25.905442Z",
     "start_time": "2024-06-23T20:55:25.794388Z"
    }
   },
   "outputs": [
    {
     "name": "stdout",
     "output_type": "stream",
     "text": [
      "\tRécupération pour la paire ADA/USDT:USDT en timeframe 1h sur l'exchange mexc...\n",
      "\tDonnées déjà récupérées\n",
      "\u001B[H\u001B[J"
     ]
    }
   ],
   "source": [
    "exchange_name = \"mexc\"\n",
    "\n",
    "intervals = [\"1h\"]\n",
    "\n",
    "coin_to_dl = [\n",
    "    \"ADA/USDT:USDT\"\n",
    "]\n",
    "\n",
    "exchange = ExchangeDataManager(\n",
    "    exchange_name=exchange_name, path_download=\"./utilities/database/exchanges\"\n",
    ")\n",
    "\n",
    "await exchange.download_data(\n",
    "    coins=coin_to_dl,\n",
    "    intervals=intervals,\n",
    "    #start_date=\"2023-01-01 00:00:00\"\n",
    ")"
   ]
  },
  {
   "cell_type": "code",
   "execution_count": 4,
   "outputs": [
    {
     "data": {
      "text/plain": "                       open    high     low   close    volume\ndate                                                         \n2022-02-22 03:00:00  5.2120  5.2120  5.2120  5.2120      16.0\n2022-02-22 04:00:00  5.2120  5.3260  5.1730  5.1850  108923.0\n2022-02-22 05:00:00  5.1850  5.2580  5.1680  5.1920   51193.0\n2022-02-22 06:00:00  5.1920  5.3200  5.1860  5.2860   43441.0\n2022-02-22 07:00:00  5.2860  5.5790  5.2810  5.4390  139482.0\n...                     ...     ...     ...     ...       ...\n2024-06-11 15:00:00  2.9231  2.9490  2.8128  2.8626  121925.0\n2024-06-11 16:00:00  2.8626  2.8925  2.8119  2.8236  107036.0\n2024-06-11 17:00:00  2.8236  2.8312  2.7755  2.8185   93214.0\n2024-06-11 18:00:00  2.8185  2.8725  2.8178  2.8716   33470.0\n2024-06-11 19:00:00  2.8716  2.8942  2.8525  2.8618   33150.0\n\n[20176 rows x 5 columns]",
      "text/html": "<div>\n<style scoped>\n    .dataframe tbody tr th:only-of-type {\n        vertical-align: middle;\n    }\n\n    .dataframe tbody tr th {\n        vertical-align: top;\n    }\n\n    .dataframe thead th {\n        text-align: right;\n    }\n</style>\n<table border=\"1\" class=\"dataframe\">\n  <thead>\n    <tr style=\"text-align: right;\">\n      <th></th>\n      <th>open</th>\n      <th>high</th>\n      <th>low</th>\n      <th>close</th>\n      <th>volume</th>\n    </tr>\n    <tr>\n      <th>date</th>\n      <th></th>\n      <th></th>\n      <th></th>\n      <th></th>\n      <th></th>\n    </tr>\n  </thead>\n  <tbody>\n    <tr>\n      <th>2022-02-22 03:00:00</th>\n      <td>5.2120</td>\n      <td>5.2120</td>\n      <td>5.2120</td>\n      <td>5.2120</td>\n      <td>16.0</td>\n    </tr>\n    <tr>\n      <th>2022-02-22 04:00:00</th>\n      <td>5.2120</td>\n      <td>5.3260</td>\n      <td>5.1730</td>\n      <td>5.1850</td>\n      <td>108923.0</td>\n    </tr>\n    <tr>\n      <th>2022-02-22 05:00:00</th>\n      <td>5.1850</td>\n      <td>5.2580</td>\n      <td>5.1680</td>\n      <td>5.1920</td>\n      <td>51193.0</td>\n    </tr>\n    <tr>\n      <th>2022-02-22 06:00:00</th>\n      <td>5.1920</td>\n      <td>5.3200</td>\n      <td>5.1860</td>\n      <td>5.2860</td>\n      <td>43441.0</td>\n    </tr>\n    <tr>\n      <th>2022-02-22 07:00:00</th>\n      <td>5.2860</td>\n      <td>5.5790</td>\n      <td>5.2810</td>\n      <td>5.4390</td>\n      <td>139482.0</td>\n    </tr>\n    <tr>\n      <th>...</th>\n      <td>...</td>\n      <td>...</td>\n      <td>...</td>\n      <td>...</td>\n      <td>...</td>\n    </tr>\n    <tr>\n      <th>2024-06-11 15:00:00</th>\n      <td>2.9231</td>\n      <td>2.9490</td>\n      <td>2.8128</td>\n      <td>2.8626</td>\n      <td>121925.0</td>\n    </tr>\n    <tr>\n      <th>2024-06-11 16:00:00</th>\n      <td>2.8626</td>\n      <td>2.8925</td>\n      <td>2.8119</td>\n      <td>2.8236</td>\n      <td>107036.0</td>\n    </tr>\n    <tr>\n      <th>2024-06-11 17:00:00</th>\n      <td>2.8236</td>\n      <td>2.8312</td>\n      <td>2.7755</td>\n      <td>2.8185</td>\n      <td>93214.0</td>\n    </tr>\n    <tr>\n      <th>2024-06-11 18:00:00</th>\n      <td>2.8185</td>\n      <td>2.8725</td>\n      <td>2.8178</td>\n      <td>2.8716</td>\n      <td>33470.0</td>\n    </tr>\n    <tr>\n      <th>2024-06-11 19:00:00</th>\n      <td>2.8716</td>\n      <td>2.8942</td>\n      <td>2.8525</td>\n      <td>2.8618</td>\n      <td>33150.0</td>\n    </tr>\n  </tbody>\n</table>\n<p>20176 rows × 5 columns</p>\n</div>"
     },
     "execution_count": 4,
     "metadata": {},
     "output_type": "execute_result"
    }
   ],
   "source": [
    "df = exchange.load_data(\n",
    "    coin=\"API3/USDT:USDT\",\n",
    "    interval=\"1h\"\n",
    ")\n",
    "\n",
    "df"
   ],
   "metadata": {
    "collapsed": false,
    "ExecuteTime": {
     "end_time": "2024-06-11T20:39:17.034307Z",
     "start_time": "2024-06-11T20:39:16.948212Z"
    }
   }
  },
  {
   "cell_type": "markdown",
   "metadata": {},
   "source": [
    "# Get Historical Data From Database"
   ]
  },
  {
   "cell_type": "code",
   "execution_count": 8,
   "metadata": {
    "ExecuteTime": {
     "end_time": "2024-03-26T17:59:17.461019Z",
     "start_time": "2024-03-26T17:58:12.745880Z"
    }
   },
   "outputs": [
    {
     "name": "stdout",
     "output_type": "stream",
     "text": [
      "\tRécupération pour la paire MAGIC/USDT:USDT en timeframe 15m sur l'exchange binance...\n"
     ]
    },
    {
     "data": {
      "text/plain": "  0%|          | 0/254 [00:00<?, ?it/s]",
      "application/vnd.jupyter.widget-view+json": {
       "version_major": 2,
       "version_minor": 0,
       "model_id": "8cddcee79e704c29b63eb5c00a5f675c"
      }
     },
     "metadata": {},
     "output_type": "display_data"
    },
    {
     "name": "stdout",
     "output_type": "stream",
     "text": [
      "\u001B[H\u001B[J"
     ]
    },
    {
     "data": {
      "text/plain": "                       open    high     low   close    volume\ndate                                                         \n2022-02-22 03:30:00  5.0110  5.3410  5.0110  5.2050  173120.6\n2022-02-22 03:45:00  5.2050  5.2790  5.1130  5.2190  175964.0\n2022-02-22 04:00:00  5.2150  5.3710  5.2010  5.3000  187850.6\n2022-02-22 04:15:00  5.3000  5.3290  5.2060  5.2130  116803.5\n2022-02-22 04:30:00  5.2110  5.3180  5.1450  5.2690  210107.4\n...                     ...     ...     ...     ...       ...\n2024-03-26 16:30:00  3.9188  3.9309  3.8670  3.8788  225125.8\n2024-03-26 16:45:00  3.8792  3.9088  3.8727  3.9009  109166.6\n2024-03-26 17:00:00  3.9007  3.9348  3.8921  3.9020  117680.7\n2024-03-26 17:15:00  3.9029  3.9597  3.9010  3.9480  307609.6\n2024-03-26 17:30:00  3.9477  3.9721  3.9359  3.9450  142088.1\n\n[73305 rows x 5 columns]",
      "text/html": "<div>\n<style scoped>\n    .dataframe tbody tr th:only-of-type {\n        vertical-align: middle;\n    }\n\n    .dataframe tbody tr th {\n        vertical-align: top;\n    }\n\n    .dataframe thead th {\n        text-align: right;\n    }\n</style>\n<table border=\"1\" class=\"dataframe\">\n  <thead>\n    <tr style=\"text-align: right;\">\n      <th></th>\n      <th>open</th>\n      <th>high</th>\n      <th>low</th>\n      <th>close</th>\n      <th>volume</th>\n    </tr>\n    <tr>\n      <th>date</th>\n      <th></th>\n      <th></th>\n      <th></th>\n      <th></th>\n      <th></th>\n    </tr>\n  </thead>\n  <tbody>\n    <tr>\n      <th>2022-02-22 03:30:00</th>\n      <td>5.0110</td>\n      <td>5.3410</td>\n      <td>5.0110</td>\n      <td>5.2050</td>\n      <td>173120.6</td>\n    </tr>\n    <tr>\n      <th>2022-02-22 03:45:00</th>\n      <td>5.2050</td>\n      <td>5.2790</td>\n      <td>5.1130</td>\n      <td>5.2190</td>\n      <td>175964.0</td>\n    </tr>\n    <tr>\n      <th>2022-02-22 04:00:00</th>\n      <td>5.2150</td>\n      <td>5.3710</td>\n      <td>5.2010</td>\n      <td>5.3000</td>\n      <td>187850.6</td>\n    </tr>\n    <tr>\n      <th>2022-02-22 04:15:00</th>\n      <td>5.3000</td>\n      <td>5.3290</td>\n      <td>5.2060</td>\n      <td>5.2130</td>\n      <td>116803.5</td>\n    </tr>\n    <tr>\n      <th>2022-02-22 04:30:00</th>\n      <td>5.2110</td>\n      <td>5.3180</td>\n      <td>5.1450</td>\n      <td>5.2690</td>\n      <td>210107.4</td>\n    </tr>\n    <tr>\n      <th>...</th>\n      <td>...</td>\n      <td>...</td>\n      <td>...</td>\n      <td>...</td>\n      <td>...</td>\n    </tr>\n    <tr>\n      <th>2024-03-26 16:30:00</th>\n      <td>3.9188</td>\n      <td>3.9309</td>\n      <td>3.8670</td>\n      <td>3.8788</td>\n      <td>225125.8</td>\n    </tr>\n    <tr>\n      <th>2024-03-26 16:45:00</th>\n      <td>3.8792</td>\n      <td>3.9088</td>\n      <td>3.8727</td>\n      <td>3.9009</td>\n      <td>109166.6</td>\n    </tr>\n    <tr>\n      <th>2024-03-26 17:00:00</th>\n      <td>3.9007</td>\n      <td>3.9348</td>\n      <td>3.8921</td>\n      <td>3.9020</td>\n      <td>117680.7</td>\n    </tr>\n    <tr>\n      <th>2024-03-26 17:15:00</th>\n      <td>3.9029</td>\n      <td>3.9597</td>\n      <td>3.9010</td>\n      <td>3.9480</td>\n      <td>307609.6</td>\n    </tr>\n    <tr>\n      <th>2024-03-26 17:30:00</th>\n      <td>3.9477</td>\n      <td>3.9721</td>\n      <td>3.9359</td>\n      <td>3.9450</td>\n      <td>142088.1</td>\n    </tr>\n  </tbody>\n</table>\n<p>73305 rows × 5 columns</p>\n</div>"
     },
     "execution_count": 8,
     "metadata": {},
     "output_type": "execute_result"
    }
   ],
   "source": [
    "exchange_name = \"binance\"\n",
    "\n",
    "exchange = ExchangeDataManager(\n",
    "    exchange_name=exchange_name, path_download=\"./database/exchanges\"\n",
    ")\n",
    "\n",
    "await exchange.download_data(\n",
    "    coins=[\"MAGIC/USDT:USDT\"],\n",
    "    intervals=[\"15m\"],\n",
    "    start_date=\"2023-01-01 00:00:00\"\n",
    ")\n",
    "\n",
    "df = exchange.load_data(\n",
    "    coin=\"MAGIC/USDT:USDT\",\n",
    "    interval=\"15m\"\n",
    ")\n",
    "\n",
    "df"
   ]
  },
  {
   "cell_type": "code",
   "execution_count": 9,
   "outputs": [
    {
     "data": {
      "text/plain": "                       open    high     low   close     volume\ndate                                                          \n2023-01-25 03:00:00  1.2900  1.2900  1.1701  1.2200  2852796.1\n2023-01-25 03:15:00  1.2200  1.2300  1.1634  1.1811  2072887.8\n2023-01-25 03:30:00  1.1802  1.2231  1.1716  1.2189  1408061.8\n2023-01-25 03:45:00  1.2172  1.2189  1.1978  1.2053   551361.6\n2023-01-25 04:00:00  1.2042  1.2354  1.2014  1.2321   983829.6\n...                     ...     ...     ...     ...        ...\n2024-03-26 16:30:00  1.1958  1.2015  1.1810  1.1830   594037.0\n2024-03-26 16:45:00  1.1831  1.1903  1.1810  1.1874   364136.2\n2024-03-26 17:00:00  1.1876  1.1911  1.1796  1.1831   262836.5\n2024-03-26 17:15:00  1.1832  1.2017  1.1832  1.2006   202314.2\n2024-03-26 17:30:00  1.2006  1.2026  1.1947  1.1952   156892.9\n\n[40955 rows x 5 columns]",
      "text/html": "<div>\n<style scoped>\n    .dataframe tbody tr th:only-of-type {\n        vertical-align: middle;\n    }\n\n    .dataframe tbody tr th {\n        vertical-align: top;\n    }\n\n    .dataframe thead th {\n        text-align: right;\n    }\n</style>\n<table border=\"1\" class=\"dataframe\">\n  <thead>\n    <tr style=\"text-align: right;\">\n      <th></th>\n      <th>open</th>\n      <th>high</th>\n      <th>low</th>\n      <th>close</th>\n      <th>volume</th>\n    </tr>\n    <tr>\n      <th>date</th>\n      <th></th>\n      <th></th>\n      <th></th>\n      <th></th>\n      <th></th>\n    </tr>\n  </thead>\n  <tbody>\n    <tr>\n      <th>2023-01-25 03:00:00</th>\n      <td>1.2900</td>\n      <td>1.2900</td>\n      <td>1.1701</td>\n      <td>1.2200</td>\n      <td>2852796.1</td>\n    </tr>\n    <tr>\n      <th>2023-01-25 03:15:00</th>\n      <td>1.2200</td>\n      <td>1.2300</td>\n      <td>1.1634</td>\n      <td>1.1811</td>\n      <td>2072887.8</td>\n    </tr>\n    <tr>\n      <th>2023-01-25 03:30:00</th>\n      <td>1.1802</td>\n      <td>1.2231</td>\n      <td>1.1716</td>\n      <td>1.2189</td>\n      <td>1408061.8</td>\n    </tr>\n    <tr>\n      <th>2023-01-25 03:45:00</th>\n      <td>1.2172</td>\n      <td>1.2189</td>\n      <td>1.1978</td>\n      <td>1.2053</td>\n      <td>551361.6</td>\n    </tr>\n    <tr>\n      <th>2023-01-25 04:00:00</th>\n      <td>1.2042</td>\n      <td>1.2354</td>\n      <td>1.2014</td>\n      <td>1.2321</td>\n      <td>983829.6</td>\n    </tr>\n    <tr>\n      <th>...</th>\n      <td>...</td>\n      <td>...</td>\n      <td>...</td>\n      <td>...</td>\n      <td>...</td>\n    </tr>\n    <tr>\n      <th>2024-03-26 16:30:00</th>\n      <td>1.1958</td>\n      <td>1.2015</td>\n      <td>1.1810</td>\n      <td>1.1830</td>\n      <td>594037.0</td>\n    </tr>\n    <tr>\n      <th>2024-03-26 16:45:00</th>\n      <td>1.1831</td>\n      <td>1.1903</td>\n      <td>1.1810</td>\n      <td>1.1874</td>\n      <td>364136.2</td>\n    </tr>\n    <tr>\n      <th>2024-03-26 17:00:00</th>\n      <td>1.1876</td>\n      <td>1.1911</td>\n      <td>1.1796</td>\n      <td>1.1831</td>\n      <td>262836.5</td>\n    </tr>\n    <tr>\n      <th>2024-03-26 17:15:00</th>\n      <td>1.1832</td>\n      <td>1.2017</td>\n      <td>1.1832</td>\n      <td>1.2006</td>\n      <td>202314.2</td>\n    </tr>\n    <tr>\n      <th>2024-03-26 17:30:00</th>\n      <td>1.2006</td>\n      <td>1.2026</td>\n      <td>1.1947</td>\n      <td>1.1952</td>\n      <td>156892.9</td>\n    </tr>\n  </tbody>\n</table>\n<p>40955 rows × 5 columns</p>\n</div>"
     },
     "execution_count": 9,
     "metadata": {},
     "output_type": "execute_result"
    }
   ],
   "source": [
    "df = exchange.load_data(\n",
    "    coin=\"MAGIC/USDT:USDT\",\n",
    "    interval=\"15m\"\n",
    ")\n",
    "\n",
    "df"
   ],
   "metadata": {
    "collapsed": false,
    "ExecuteTime": {
     "end_time": "2024-03-26T17:59:22.535468Z",
     "start_time": "2024-03-26T17:59:21.954275Z"
    }
   }
  },
  {
   "cell_type": "code",
   "execution_count": null,
   "metadata": {},
   "outputs": [],
   "source": [
    "exchange.explore_data()"
   ]
  }
 ],
 "metadata": {
  "kernelspec": {
   "display_name": "Python 3.10.2 ('.venv': venv)",
   "language": "python",
   "name": "python3"
  },
  "language_info": {
   "codemirror_mode": {
    "name": "ipython",
    "version": 3
   },
   "file_extension": ".py",
   "mimetype": "text/x-python",
   "name": "python",
   "nbconvert_exporter": "python",
   "pygments_lexer": "ipython3",
   "version": "3.12.0"
  },
  "vscode": {
   "interpreter": {
    "hash": "d5100c10c6b669a578e86ed43dbb636d25e3c9fb9ee424ec9e5e4bad34e2e434"
   }
  }
 },
 "nbformat": 4,
 "nbformat_minor": 2
}
