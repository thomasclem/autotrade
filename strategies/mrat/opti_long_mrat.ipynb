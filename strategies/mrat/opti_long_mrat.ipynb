{
 "cells": [
  {
   "cell_type": "code",
   "execution_count": 186,
   "metadata": {
    "collapsed": true,
    "ExecuteTime": {
     "end_time": "2024-03-19T23:44:46.205625Z",
     "start_time": "2024-03-19T23:44:46.189784Z"
    }
   },
   "outputs": [],
   "source": [
    "import sys\n",
    "sys.path.append('../..')\n",
    "import pandas as pd\n",
    "import ta\n",
    "from utilities.data_manager import ExchangeDataManager\n",
    "from numpy_ext import rolling_apply as rolling_apply_ext"
   ]
  },
  {
   "cell_type": "code",
   "execution_count": 488,
   "outputs": [],
   "source": [
    "class Strategy():\n",
    "    def __init__(\n",
    "        self,\n",
    "        pair,\n",
    "        type=[\"long\"],\n",
    "        params={},\n",
    "    ):\n",
    "        self.df_pair = None\n",
    "        self.df = None\n",
    "        self.pair = pair\n",
    "        self.initial_wallet = 1000\n",
    "        self.use_long = \"long\" in type\n",
    "        self.use_short = \"short\" in type\n",
    "        self.params = params\n",
    "        self.result_df = None\n",
    "\n",
    "    def get_pair_data(self, timeframe, start = 2050, end = 2050):\n",
    "        exchange = ExchangeDataManager(\n",
    "            exchange_name=exchange_name,\n",
    "            path_download=\"./database/exchanges\"\n",
    "        )\n",
    "\n",
    "        self.df_pair = exchange.load_data(self.pair, timeframe, start)\n",
    "\n",
    "    def populate_indicators2(self):\n",
    "        params = self.params\n",
    "        df = self.df_pair.copy()\n",
    "        df.drop(\n",
    "            columns=df.columns.difference(['open','high','low','close','volume']),\n",
    "            inplace=True\n",
    "        )\n",
    "        df['fast_ma'] = ta.trend.sma_indicator(close=df[\"close\"], window=params[\"fast_ma\"])\n",
    "        df['slow_ma'] = ta.trend.sma_indicator(close=df[\"close\"], window=params[\"slow_ma\"])\n",
    "        df['mrat'] = df['fast_ma'] / df['slow_ma']\n",
    "        df['mean_mrat'] = ta.trend.sma_indicator(close=df['mrat'], window=params[\"mean_mrat_lenght\"])\n",
    "        df['stdev_mrat'] = df['mrat'].rolling(params[\"mean_mrat_lenght\"]).std(ddof=0)\n",
    "        df['open_long_signal'] = df['mean_mrat'].shift(1) - df['mrat'].shift(1) >= params['sigma_open'] * df['stdev_mrat'].shift(1)\n",
    "        df['close_long_signal'] = df['mrat'].shift(1) - df['mean_mrat'].shift(1) >= params['sigma_close'] * df['stdev_mrat'].shift(1)\n",
    "\n",
    "        df_signal = df.loc[\n",
    "            df[\"open_long_signal\"] | df[\"close_long_signal\"],\n",
    "            [\"open_long_signal\", \"close_long_signal\",\"open\", \"close\"]\n",
    "        ]\n",
    "        df_signal[\"open_signal_lag\"] = df_signal[\"open_long_signal\"].shift(fill_value=False)\n",
    "        df_signal[\"close_signal_lag\"] = df_signal[\"close_long_signal\"].shift(fill_value=False)\n",
    "        df_first_signal  = df_signal[\n",
    "            (~ df_signal[\"open_signal_lag\"] & (df_signal[\"open_long_signal\"] | df_signal[\"open_long_signal\"].isnull())) |\n",
    "            (~ df_signal[\"close_signal_lag\"] & df_signal[\"close_long_signal\"])\n",
    "         ]\n",
    "        df_first_signal[\"open_signal_lag\"] = df_first_signal[\"open_long_signal\"].shift(fill_value=False)\n",
    "        df_first_signal[\"close_signal_lag\"] = df_first_signal[\"close_long_signal\"].shift(fill_value=False)\n",
    "\n",
    "        df_order_tmp = df_first_signal[\n",
    "            (df_first_signal[\"open_long_signal\"] & (~df_first_signal[\"open_signal_lag\"] | df_first_signal[\"open_long_signal\"].isnull())) |\n",
    "            (df_first_signal[\"close_long_signal\"] & ~ df_first_signal[\"close_signal_lag\"])\n",
    "        ]\n",
    "        df_order = df_order_tmp.loc[\n",
    "            ~ ( ~ df_order_tmp[\"close_signal_lag\"] & ~ df_order_tmp[\"open_signal_lag\"] & df_order_tmp[\"close_long_signal\"])\n",
    "        ]\n",
    "        df_order[\"order_number\"] = df_order[\"open_long_signal\"].cumsum()\n",
    "        df_order[\"open_lag\"] = df_order[\"open\"].shift(-1)\n",
    "        df_order[\"open_order\"] = df_order[\"open\"].shift()\n",
    "        df_order.loc[df_order[\"open_long_signal\"], \"open_order\"] = df_order.loc[df_order[\"open_long_signal\"], \"open\"]\n",
    "        df_pair = df[[\"open\", \"close\", \"low\", \"high\", \"mrat\", \"mean_mrat\", \"stdev_mrat\", \"open_long_signal\", \"close_long_signal\"]]\n",
    "\n",
    "        leverage = params[\"leverage\"]  # Fixed leverage\n",
    "        maintenance_margin_percent = 0.004\n",
    "        wallet = 1000  # Initial wallet balance\n",
    "        quantity = 0  # Initial quantity\n",
    "\n",
    "        # Ensure the DataFrame has 'quantity' and 'trade_result' columns initialized\n",
    "        df_order['quantity'] = 0.0\n",
    "        df_order['trade_result'] = 0.0\n",
    "        df_order['trade_result_pct'] = 0.0\n",
    "\n",
    "        # Iterating over DataFrame rows to process trading signals\n",
    "        for i, row in df_order.iterrows():\n",
    "            # Check if there is a signal to open a long position\n",
    "            if row['open_long_signal']:\n",
    "                # Calculate the new quantity based on the current wallet and leverage\n",
    "                quantity = wallet * leverage / row['open']\n",
    "                # Update the 'quantity' column with the new quantity\n",
    "                df_order.at[i, 'quantity'] = quantity\n",
    "                # No change in wallet yet as the position has just opened\n",
    "                df_order.at[i, 'wallet'] = wallet\n",
    "                # Track the price at which the position was opened\n",
    "                open = row['open']\n",
    "            elif row['close_long_signal']:\n",
    "                # Calculate the trade result based on the difference between current and open price\n",
    "                trade_result = (row['open'] - open) * quantity\n",
    "                # Update the 'trade_result' column with the result of the closed trade\n",
    "                df_order.at[i, 'trade_result'] = trade_result\n",
    "                df_order.at[i, 'trade_result_pct'] = trade_result / wallet * 100\n",
    "                # Update the wallet with the result of the trade\n",
    "                wallet += trade_result\n",
    "                # Reset quantity as the trade is closed\n",
    "                df_order.at[i, 'quantity'] = quantity\n",
    "                quantity = 0\n",
    "\n",
    "            # Update the wallet and quantity for the current row\n",
    "            df_order.at[i, 'wallet'] = wallet\n",
    "\n",
    "        df_order_tmp = df_order[\n",
    "            [\"order_number\", \"quantity\", \"trade_result\", \"trade_result_pct\", \"wallet\", \"open_order\"]\n",
    "        ]\n",
    "        df_order_final = df_pair.join(df_order_tmp)\n",
    "\n",
    "        f = df_order_final['order_number'].ffill()\n",
    "        b = df_order_final['order_number'].bfill()\n",
    "\n",
    "        df_order_final['order_number'] = df_order_final['order_number'].mask(f == b, f)\n",
    "\n",
    "        f = df_order_final['open_order'].ffill()\n",
    "        b = df_order_final['open_order'].bfill()\n",
    "\n",
    "        df_order_final['open_order'] = df_order_final['open_order'].mask(f == b, f)\n",
    "        df_order_final['wallet'] = df_order_final['wallet'].ffill()\n",
    "        #df_order_final[\"hypothetical_wallet\"] = df_order_final[\"wallet\"] + df_order_final[\"quantity\"] * (df_order_final['open'] - df_order_final[\"open_order\"])\n",
    "        df_order_final[\"hypothetical_wallet\"] = df_order_final[\"wallet\"].shift() + df_order_final[\"quantity\"] * (df_order_final['open'] - df_order_final[\"open_order\"])\n",
    "        df_order_final[\"hypothetical_low_result\"] =  ((df_order_final[\"quantity\"] * df_order_final[\"low\"]) - df_order_final[\"wallet\"]) / df_order_final[\"wallet\"]\n",
    "        df_order_final[\"drawdown\"] = (df_order_final[\"low\"] - df_order_final[\"open_order\"]) / df_order_final[\"open_order\"] * 100 * leverage\n",
    "        df_order_final[\"is_liquidated\"] = df_order_final['hypothetical_wallet'] < (df_order_final[\"wallet\"] / leverage) * maintenance_margin_percent\n",
    "\n",
    "        return df_order_final\n",
    "\n",
    "\n",
    "    def populate_indicators(self):\n",
    "        params = self.params\n",
    "        df = self.df_pair.copy()\n",
    "        df.drop(\n",
    "            columns=df.columns.difference(['open','high','low','close','volume']),\n",
    "            inplace=True\n",
    "        )\n",
    "\n",
    "        # -- Populate indicators --\n",
    "        df['fast_ma'] = ta.trend.sma_indicator(close=df[\"close\"], window=params[\"fast_ma\"])\n",
    "        df['slow_ma'] = ta.trend.sma_indicator(close=df[\"close\"], window=params[\"slow_ma\"])\n",
    "        df['mrat'] = df['fast_ma'] / df['slow_ma']\n",
    "        df['mean_mrat'] = ta.trend.sma_indicator(close=df['mrat'], window=params[\"mean_mrat_lenght\"])\n",
    "        df['stdev_mrat'] = df['mrat'].rolling(params[\"mean_mrat_lenght\"]).std(ddof=0)\n",
    "        df['open_long_signal'] = df['mean_mrat'].shift(1) - df['mrat'].shift(1) >= params['sigma_open'] * df['stdev_mrat'].shift(1)\n",
    "        df['close_long_signal'] = df['mrat'].shift(1) - df['mean_mrat'].shift(1) >= params['sigma_close'] * df['stdev_mrat'].shift(1)\n",
    "\n",
    "        df[\"is_liquidated\"] = False\n",
    "        df[\"order_open\"] = False\n",
    "        # Trading logic\n",
    "        order_open = False\n",
    "        current_order_number = 0\n",
    "        open_price = 0\n",
    "        quantity = 0\n",
    "        trade_result = 0\n",
    "        # Constants and Initialization\n",
    "        initial_wallet = self.initial_wallet\n",
    "        leverage = params[\"leverage\"]  # Fixed leverage\n",
    "        maintenance_margin_percent = 0.004\n",
    "        wallet = initial_wallet\n",
    "        max_equity = initial_wallet  # To track the max equity before a new trade\n",
    "        max_drawdown = 0\n",
    "\n",
    "        for i in df.index:\n",
    "            if df.loc[i, 'open_long_signal'] and not order_open:\n",
    "                # Open a new order\n",
    "                current_order_number += 1\n",
    "                order_open = True\n",
    "                open_price = df.loc[i, 'open']\n",
    "                open_wallet = df.loc[i, 'wallet']\n",
    "                quantity = (wallet / open_price) * leverage\n",
    "                df.loc[i, 'order_number'] = current_order_number\n",
    "                df.loc[i, 'order_open'] = order_open\n",
    "\n",
    "            # Assign order_number to all rows of the current order\n",
    "            if order_open:\n",
    "                df.loc[i, 'order_number'] = current_order_number\n",
    "                df.loc[i, 'order_open'] = order_open\n",
    "                # Calculate hypothetical_wallet\n",
    "                hypothetical_wallet = wallet + quantity * (df.loc[i, 'open'] - open_price)\n",
    "                df.loc[i, 'hypothetical_wallet'] = hypothetical_wallet\n",
    "                df.loc[i, 'quantity'] = quantity\n",
    "\n",
    "                # Check for liquidation\n",
    "                maintenance_margin = (wallet / leverage) * maintenance_margin_percent\n",
    "                if hypothetical_wallet < maintenance_margin:\n",
    "                    df.loc[i, 'is_liquidated'] = True\n",
    "                    df.loc[i, 'trade_result'] = hypothetical_wallet - wallet\n",
    "                    wallet = 0  # Update wallet with the loss\n",
    "                    order_open = False  # Close the order\n",
    "\n",
    "            # Close the order\n",
    "            if df.loc[i, 'close_long_signal'] and order_open:\n",
    "                trade_result = quantity * (df.loc[i, 'open'] - open_price)\n",
    "                trade_result_perc = trade_result / wallet * 100\n",
    "                wallet += trade_result  # Update wallet with the profit or loss\n",
    "                order_open = False  # Close the order\n",
    "                df.loc[i, 'trade_result'] = trade_result\n",
    "                df.loc[i, 'trade_result_perc'] = trade_result_perc\n",
    "\n",
    "            # Set wallet to current wallet value\n",
    "            df.loc[i, 'wallet'] = wallet\n",
    "\n",
    "        df[\"drawdown\"] = (df[\"hypothetical_wallet\"] - df[\"wallet\"]) / df[\"wallet\"] * 100\n",
    "\n",
    "        return df\n",
    "\n",
    "\n",
    "    def get_result_df(self):\n",
    "        df = self.df\n",
    "        final_wallet_amount = df.loc[df[\"order_open\"] & df[\"close_long_signal\"], \"wallet\"].tail(1)\n",
    "        total_profit = final_wallet_amount  - self.initial_wallet\n",
    "        total_profit_perc = total_profit / self.initial_wallet * 100\n",
    "        total_trades = df[\"order_number\"].max()\n",
    "        avg_trade_profit_perc = df[\"trade_result_perc\"].dropna().mean()\n",
    "        avg_trade_profit = df[\"trade_result\"].dropna().mean()\n",
    "        max_drawdown = df[\"drawdown\"].max()\n",
    "\n",
    "        result_df = pd.DataFrame(\n",
    "            {\n",
    "                \"params\": str(self.params),\n",
    "                \"final_wallet_amount\": final_wallet_amount,\n",
    "                \"total_profit\": total_profit,\n",
    "                \"total_profit_perc\": total_profit_perc,\n",
    "                \"total_trades\": total_trades,\n",
    "                \"avg_trade_profit_perc\": avg_trade_profit_perc,\n",
    "                \"avg_trade_profit\": avg_trade_profit,\n",
    "                \"max_drawdown\": max_drawdown,\n",
    "            }\n",
    "        )\n",
    "\n",
    "        self.result_df = result_df"
   ],
   "metadata": {
    "collapsed": false,
    "ExecuteTime": {
     "end_time": "2024-03-20T23:04:10.258687Z",
     "start_time": "2024-03-20T23:04:10.257500Z"
    }
   }
  },
  {
   "cell_type": "code",
   "execution_count": 475,
   "outputs": [],
   "source": [
    "params = {\n",
    "    \"fast_ma\": 5,\n",
    "    \"slow_ma\": 60,\n",
    "    \"sigma_open\": 1,\n",
    "    \"sigma_close\": 2.9,\n",
    "    \"mean_mrat_lenght\": 60,\n",
    "    \"leverage\": 1\n",
    "}\n",
    "\n",
    "pair = \"API3/USDT:USDT\"\n",
    "exchange_name = \"binance\"\n",
    "tf = '15m'\n",
    "oldest_pair = \"API3/USDT:USDT\"\n",
    "start_date = \"2023-01-01 00:00:00\""
   ],
   "metadata": {
    "collapsed": false,
    "ExecuteTime": {
     "end_time": "2024-03-20T23:00:11.651946Z",
     "start_time": "2024-03-20T23:00:11.649964Z"
    }
   }
  },
  {
   "cell_type": "code",
   "execution_count": 476,
   "outputs": [],
   "source": [
    "strat = Strategy(pair=pair, params=params)\n",
    "strat.get_pair_data(timeframe=tf, start=start_date)\n",
    "df1 = strat.populate_indicators()"
   ],
   "metadata": {
    "collapsed": false,
    "ExecuteTime": {
     "end_time": "2024-03-20T23:00:24.608810Z",
     "start_time": "2024-03-20T23:00:12.436243Z"
    }
   }
  },
  {
   "cell_type": "code",
   "execution_count": 489,
   "outputs": [
    {
     "name": "stdout",
     "output_type": "stream",
     "text": [
      "                     open_long_signal  close_long_signal    open   close  \\\n",
      "date                                                                       \n",
      "2023-01-04 02:00:00             False               True  1.0740  1.0750   \n",
      "2023-01-04 11:15:00              True              False  1.0800  1.0770   \n",
      "2023-01-08 20:30:00             False               True  1.1560  1.1640   \n",
      "2023-01-09 11:30:00              True              False  1.2330  1.2330   \n",
      "2023-01-20 17:45:00             False               True  1.2870  1.2900   \n",
      "...                               ...                ...     ...     ...   \n",
      "2024-03-02 10:00:00              True              False  3.8753  3.8697   \n",
      "2024-03-09 05:00:00             False               True  4.1232  4.2837   \n",
      "2024-03-09 11:15:00              True              False  3.8996  3.9059   \n",
      "2024-03-11 00:15:00             False               True  4.0703  3.9796   \n",
      "2024-03-11 14:00:00              True              False  3.8156  3.8310   \n",
      "\n",
      "                     open_signal_lag  close_signal_lag  order_number  \\\n",
      "date                                                                   \n",
      "2023-01-04 02:00:00             True             False             0   \n",
      "2023-01-04 11:15:00            False              True             1   \n",
      "2023-01-08 20:30:00             True             False             1   \n",
      "2023-01-09 11:30:00            False              True             2   \n",
      "2023-01-20 17:45:00             True             False             2   \n",
      "...                              ...               ...           ...   \n",
      "2024-03-02 10:00:00            False              True           105   \n",
      "2024-03-09 05:00:00             True             False           105   \n",
      "2024-03-09 11:15:00            False              True           106   \n",
      "2024-03-11 00:15:00             True             False           106   \n",
      "2024-03-11 14:00:00            False              True           107   \n",
      "\n",
      "                     open_lag  open_order  quantity  trade_result  \\\n",
      "date                                                                \n",
      "2023-01-04 02:00:00    1.0800         NaN       0.0           0.0   \n",
      "2023-01-04 11:15:00    1.1560      1.0800       0.0           0.0   \n",
      "2023-01-08 20:30:00    1.2330      1.0800       0.0           0.0   \n",
      "2023-01-09 11:30:00    1.2870      1.2330       0.0           0.0   \n",
      "2023-01-20 17:45:00    1.7130      1.2330       0.0           0.0   \n",
      "...                       ...         ...       ...           ...   \n",
      "2024-03-02 10:00:00    4.1232      3.8753       0.0           0.0   \n",
      "2024-03-09 05:00:00    3.8996      3.8753       0.0           0.0   \n",
      "2024-03-09 11:15:00    4.0703      3.8996       0.0           0.0   \n",
      "2024-03-11 00:15:00    3.8156      3.8996       0.0           0.0   \n",
      "2024-03-11 14:00:00       NaN      3.8156       0.0           0.0   \n",
      "\n",
      "                     trade_result_pct  \n",
      "date                                   \n",
      "2023-01-04 02:00:00               0.0  \n",
      "2023-01-04 11:15:00               0.0  \n",
      "2023-01-08 20:30:00               0.0  \n",
      "2023-01-09 11:30:00               0.0  \n",
      "2023-01-20 17:45:00               0.0  \n",
      "...                               ...  \n",
      "2024-03-02 10:00:00               0.0  \n",
      "2024-03-09 05:00:00               0.0  \n",
      "2024-03-09 11:15:00               0.0  \n",
      "2024-03-11 00:15:00               0.0  \n",
      "2024-03-11 14:00:00               0.0  \n",
      "\n",
      "[214 rows x 12 columns]\n"
     ]
    },
    {
     "name": "stderr",
     "output_type": "stream",
     "text": [
      "/var/folders/_9/mg2v8fwd04n3k0y4zztq8z7h0000gn/T/ipykernel_55277/604151727.py:50: SettingWithCopyWarning: \n",
      "A value is trying to be set on a copy of a slice from a DataFrame.\n",
      "Try using .loc[row_indexer,col_indexer] = value instead\n",
      "\n",
      "See the caveats in the documentation: https://pandas.pydata.org/pandas-docs/stable/user_guide/indexing.html#returning-a-view-versus-a-copy\n",
      "  df_first_signal[\"open_signal_lag\"] = df_first_signal[\"open_long_signal\"].shift(fill_value=False)\n",
      "/var/folders/_9/mg2v8fwd04n3k0y4zztq8z7h0000gn/T/ipykernel_55277/604151727.py:51: SettingWithCopyWarning: \n",
      "A value is trying to be set on a copy of a slice from a DataFrame.\n",
      "Try using .loc[row_indexer,col_indexer] = value instead\n",
      "\n",
      "See the caveats in the documentation: https://pandas.pydata.org/pandas-docs/stable/user_guide/indexing.html#returning-a-view-versus-a-copy\n",
      "  df_first_signal[\"close_signal_lag\"] = df_first_signal[\"close_long_signal\"].shift(fill_value=False)\n",
      "/var/folders/_9/mg2v8fwd04n3k0y4zztq8z7h0000gn/T/ipykernel_55277/604151727.py:58: SettingWithCopyWarning: \n",
      "A value is trying to be set on a copy of a slice from a DataFrame.\n",
      "Try using .loc[row_indexer,col_indexer] = value instead\n",
      "\n",
      "See the caveats in the documentation: https://pandas.pydata.org/pandas-docs/stable/user_guide/indexing.html#returning-a-view-versus-a-copy\n",
      "  df_order[\"order_number\"] = df_order[\"open_long_signal\"].cumsum()\n",
      "/var/folders/_9/mg2v8fwd04n3k0y4zztq8z7h0000gn/T/ipykernel_55277/604151727.py:59: SettingWithCopyWarning: \n",
      "A value is trying to be set on a copy of a slice from a DataFrame.\n",
      "Try using .loc[row_indexer,col_indexer] = value instead\n",
      "\n",
      "See the caveats in the documentation: https://pandas.pydata.org/pandas-docs/stable/user_guide/indexing.html#returning-a-view-versus-a-copy\n",
      "  df_order[\"open_lag\"] = df_order[\"open\"].shift(-1)\n",
      "/var/folders/_9/mg2v8fwd04n3k0y4zztq8z7h0000gn/T/ipykernel_55277/604151727.py:60: SettingWithCopyWarning: \n",
      "A value is trying to be set on a copy of a slice from a DataFrame.\n",
      "Try using .loc[row_indexer,col_indexer] = value instead\n",
      "\n",
      "See the caveats in the documentation: https://pandas.pydata.org/pandas-docs/stable/user_guide/indexing.html#returning-a-view-versus-a-copy\n",
      "  df_order[\"open_order\"] = df_order[\"open\"].shift()\n",
      "/var/folders/_9/mg2v8fwd04n3k0y4zztq8z7h0000gn/T/ipykernel_55277/604151727.py:70: SettingWithCopyWarning: \n",
      "A value is trying to be set on a copy of a slice from a DataFrame.\n",
      "Try using .loc[row_indexer,col_indexer] = value instead\n",
      "\n",
      "See the caveats in the documentation: https://pandas.pydata.org/pandas-docs/stable/user_guide/indexing.html#returning-a-view-versus-a-copy\n",
      "  df_order['quantity'] = 0.0\n",
      "/var/folders/_9/mg2v8fwd04n3k0y4zztq8z7h0000gn/T/ipykernel_55277/604151727.py:71: SettingWithCopyWarning: \n",
      "A value is trying to be set on a copy of a slice from a DataFrame.\n",
      "Try using .loc[row_indexer,col_indexer] = value instead\n",
      "\n",
      "See the caveats in the documentation: https://pandas.pydata.org/pandas-docs/stable/user_guide/indexing.html#returning-a-view-versus-a-copy\n",
      "  df_order['trade_result'] = 0.0\n",
      "/var/folders/_9/mg2v8fwd04n3k0y4zztq8z7h0000gn/T/ipykernel_55277/604151727.py:72: SettingWithCopyWarning: \n",
      "A value is trying to be set on a copy of a slice from a DataFrame.\n",
      "Try using .loc[row_indexer,col_indexer] = value instead\n",
      "\n",
      "See the caveats in the documentation: https://pandas.pydata.org/pandas-docs/stable/user_guide/indexing.html#returning-a-view-versus-a-copy\n",
      "  df_order['trade_result_pct'] = 0.0\n"
     ]
    },
    {
     "ename": "UnboundLocalError",
     "evalue": "local variable 'open' referenced before assignment",
     "output_type": "error",
     "traceback": [
      "\u001B[0;31m---------------------------------------------------------------------------\u001B[0m",
      "\u001B[0;31mUnboundLocalError\u001B[0m                         Traceback (most recent call last)",
      "Cell \u001B[0;32mIn[489], line 3\u001B[0m\n\u001B[1;32m      1\u001B[0m strat \u001B[38;5;241m=\u001B[39m Strategy(pair\u001B[38;5;241m=\u001B[39mpair, params\u001B[38;5;241m=\u001B[39mparams)\n\u001B[1;32m      2\u001B[0m strat\u001B[38;5;241m.\u001B[39mget_pair_data(timeframe\u001B[38;5;241m=\u001B[39mtf, start\u001B[38;5;241m=\u001B[39mstart_date)\n\u001B[0;32m----> 3\u001B[0m df2 \u001B[38;5;241m=\u001B[39m \u001B[43mstrat\u001B[49m\u001B[38;5;241;43m.\u001B[39;49m\u001B[43mpopulate_indicators2\u001B[49m\u001B[43m(\u001B[49m\u001B[43m)\u001B[49m\n",
      "Cell \u001B[0;32mIn[488], line 90\u001B[0m, in \u001B[0;36mStrategy.populate_indicators2\u001B[0;34m(self)\u001B[0m\n\u001B[1;32m     87\u001B[0m     \u001B[38;5;28mopen\u001B[39m \u001B[38;5;241m=\u001B[39m row[\u001B[38;5;124m'\u001B[39m\u001B[38;5;124mopen\u001B[39m\u001B[38;5;124m'\u001B[39m]\n\u001B[1;32m     88\u001B[0m \u001B[38;5;28;01melif\u001B[39;00m row[\u001B[38;5;124m'\u001B[39m\u001B[38;5;124mclose_long_signal\u001B[39m\u001B[38;5;124m'\u001B[39m]:\n\u001B[1;32m     89\u001B[0m     \u001B[38;5;66;03m# Calculate the trade result based on the difference between current and open price\u001B[39;00m\n\u001B[0;32m---> 90\u001B[0m     trade_result \u001B[38;5;241m=\u001B[39m (row[\u001B[38;5;124m'\u001B[39m\u001B[38;5;124mopen\u001B[39m\u001B[38;5;124m'\u001B[39m] \u001B[38;5;241m-\u001B[39m \u001B[38;5;28;43mopen\u001B[39;49m) \u001B[38;5;241m*\u001B[39m quantity\n\u001B[1;32m     91\u001B[0m     \u001B[38;5;66;03m# Update the 'trade_result' column with the result of the closed trade\u001B[39;00m\n\u001B[1;32m     92\u001B[0m     df_order\u001B[38;5;241m.\u001B[39mat[i, \u001B[38;5;124m'\u001B[39m\u001B[38;5;124mtrade_result\u001B[39m\u001B[38;5;124m'\u001B[39m] \u001B[38;5;241m=\u001B[39m trade_result\n",
      "\u001B[0;31mUnboundLocalError\u001B[0m: local variable 'open' referenced before assignment"
     ]
    }
   ],
   "source": [
    "strat = Strategy(pair=pair, params=params)\n",
    "strat.get_pair_data(timeframe=tf, start=start_date)\n",
    "df2 = strat.populate_indicators2()"
   ],
   "metadata": {
    "collapsed": false,
    "ExecuteTime": {
     "end_time": "2024-03-20T23:04:14.077955Z",
     "start_time": "2024-03-20T23:04:13.923339Z"
    }
   }
  },
  {
   "cell_type": "code",
   "execution_count": 511,
   "outputs": [
    {
     "data": {
      "text/plain": "108.0"
     },
     "execution_count": 511,
     "metadata": {},
     "output_type": "execute_result"
    }
   ],
   "source": [
    "df1.order_number.max()"
   ],
   "metadata": {
    "collapsed": false,
    "ExecuteTime": {
     "end_time": "2024-03-20T23:10:38.041078Z",
     "start_time": "2024-03-20T23:10:38.026504Z"
    }
   }
  },
  {
   "cell_type": "code",
   "execution_count": 491,
   "outputs": [
    {
     "data": {
      "text/plain": "                      open   high    low  close    volume  fast_ma   slow_ma  \\\ndate                                                                           \n2023-01-02 21:45:00  1.053  1.056  1.052  1.053  101779.7   1.0524  1.040250   \n2023-01-04 02:00:00  1.074  1.079  1.074  1.075  117098.9   1.0708  1.042483   \n\n                         mrat  mean_mrat  stdev_mrat  ...  close_long_signal  \\\ndate                                                  ...                      \n2023-01-02 21:45:00  1.011680   1.016680    0.003903  ...              False   \n2023-01-04 02:00:00  1.027163   0.998354    0.009479  ...               True   \n\n                     is_liquidated  order_open      wallet  order_number  \\\ndate                                                                       \n2023-01-02 21:45:00          False        True  1000.00000           1.0   \n2023-01-04 02:00:00          False        True  1019.94302           1.0   \n\n                     hypothetical_wallet    quantity  trade_result  \\\ndate                                                                 \n2023-01-02 21:45:00           1000.00000  949.667616           NaN   \n2023-01-04 02:00:00           1019.94302  949.667616      19.94302   \n\n                     trade_result_perc  drawdown  \ndate                                              \n2023-01-02 21:45:00                NaN       0.0  \n2023-01-04 02:00:00           1.994302       0.0  \n\n[2 rows x 21 columns]",
      "text/html": "<div>\n<style scoped>\n    .dataframe tbody tr th:only-of-type {\n        vertical-align: middle;\n    }\n\n    .dataframe tbody tr th {\n        vertical-align: top;\n    }\n\n    .dataframe thead th {\n        text-align: right;\n    }\n</style>\n<table border=\"1\" class=\"dataframe\">\n  <thead>\n    <tr style=\"text-align: right;\">\n      <th></th>\n      <th>open</th>\n      <th>high</th>\n      <th>low</th>\n      <th>close</th>\n      <th>volume</th>\n      <th>fast_ma</th>\n      <th>slow_ma</th>\n      <th>mrat</th>\n      <th>mean_mrat</th>\n      <th>stdev_mrat</th>\n      <th>...</th>\n      <th>close_long_signal</th>\n      <th>is_liquidated</th>\n      <th>order_open</th>\n      <th>wallet</th>\n      <th>order_number</th>\n      <th>hypothetical_wallet</th>\n      <th>quantity</th>\n      <th>trade_result</th>\n      <th>trade_result_perc</th>\n      <th>drawdown</th>\n    </tr>\n    <tr>\n      <th>date</th>\n      <th></th>\n      <th></th>\n      <th></th>\n      <th></th>\n      <th></th>\n      <th></th>\n      <th></th>\n      <th></th>\n      <th></th>\n      <th></th>\n      <th></th>\n      <th></th>\n      <th></th>\n      <th></th>\n      <th></th>\n      <th></th>\n      <th></th>\n      <th></th>\n      <th></th>\n      <th></th>\n      <th></th>\n    </tr>\n  </thead>\n  <tbody>\n    <tr>\n      <th>2023-01-02 21:45:00</th>\n      <td>1.053</td>\n      <td>1.056</td>\n      <td>1.052</td>\n      <td>1.053</td>\n      <td>101779.7</td>\n      <td>1.0524</td>\n      <td>1.040250</td>\n      <td>1.011680</td>\n      <td>1.016680</td>\n      <td>0.003903</td>\n      <td>...</td>\n      <td>False</td>\n      <td>False</td>\n      <td>True</td>\n      <td>1000.00000</td>\n      <td>1.0</td>\n      <td>1000.00000</td>\n      <td>949.667616</td>\n      <td>NaN</td>\n      <td>NaN</td>\n      <td>0.0</td>\n    </tr>\n    <tr>\n      <th>2023-01-04 02:00:00</th>\n      <td>1.074</td>\n      <td>1.079</td>\n      <td>1.074</td>\n      <td>1.075</td>\n      <td>117098.9</td>\n      <td>1.0708</td>\n      <td>1.042483</td>\n      <td>1.027163</td>\n      <td>0.998354</td>\n      <td>0.009479</td>\n      <td>...</td>\n      <td>True</td>\n      <td>False</td>\n      <td>True</td>\n      <td>1019.94302</td>\n      <td>1.0</td>\n      <td>1019.94302</td>\n      <td>949.667616</td>\n      <td>19.94302</td>\n      <td>1.994302</td>\n      <td>0.0</td>\n    </tr>\n  </tbody>\n</table>\n<p>2 rows × 21 columns</p>\n</div>"
     },
     "execution_count": 491,
     "metadata": {},
     "output_type": "execute_result"
    }
   ],
   "source": [
    "df1.loc[df1[\"order_number\"] == 1].iloc[[0,-1], :]"
   ],
   "metadata": {
    "collapsed": false,
    "ExecuteTime": {
     "end_time": "2024-03-20T23:05:29.680289Z",
     "start_time": "2024-03-20T23:05:29.676622Z"
    }
   }
  },
  {
   "cell_type": "code",
   "execution_count": 458,
   "outputs": [
    {
     "data": {
      "text/plain": "                      open  close    low   high      mrat  mean_mrat  \\\ndate                                                                   \n2023-01-28 08:30:00  1.619  1.618  1.614  1.620  0.984200   0.999415   \n2023-01-29 01:15:00  1.601  1.604  1.594  1.614  1.002999   0.984805   \n\n                     stdev_mrat  open_long_signal  close_long_signal  \\\ndate                                                                   \n2023-01-28 08:30:00    0.006731              True              False   \n2023-01-29 01:15:00    0.005801             False               True   \n\n                     order_number     quantity  trade_result  \\\ndate                                                           \n2023-01-28 08:30:00           8.0  1832.828366      0.000000   \n2023-01-29 01:15:00           8.0  1832.828366    -32.990911   \n\n                     trade_result_pct       wallet  open_order  \\\ndate                                                             \n2023-01-28 08:30:00          0.000000  1483.674563       1.619   \n2023-01-29 01:15:00         -2.223595  1450.683652       1.619   \n\n                     hypothetical_wallet  hypothetical_low_result  drawdown  \\\ndate                                                                          \n2023-01-28 08:30:00          1483.674563                 0.993823 -0.617665   \n2023-01-29 01:15:00          1450.683652                 1.013898 -3.088326   \n\n                     is_liquidated  \ndate                                \n2023-01-28 08:30:00          False  \n2023-01-29 01:15:00          False  ",
      "text/html": "<div>\n<style scoped>\n    .dataframe tbody tr th:only-of-type {\n        vertical-align: middle;\n    }\n\n    .dataframe tbody tr th {\n        vertical-align: top;\n    }\n\n    .dataframe thead th {\n        text-align: right;\n    }\n</style>\n<table border=\"1\" class=\"dataframe\">\n  <thead>\n    <tr style=\"text-align: right;\">\n      <th></th>\n      <th>open</th>\n      <th>close</th>\n      <th>low</th>\n      <th>high</th>\n      <th>mrat</th>\n      <th>mean_mrat</th>\n      <th>stdev_mrat</th>\n      <th>open_long_signal</th>\n      <th>close_long_signal</th>\n      <th>order_number</th>\n      <th>quantity</th>\n      <th>trade_result</th>\n      <th>trade_result_pct</th>\n      <th>wallet</th>\n      <th>open_order</th>\n      <th>hypothetical_wallet</th>\n      <th>hypothetical_low_result</th>\n      <th>drawdown</th>\n      <th>is_liquidated</th>\n    </tr>\n    <tr>\n      <th>date</th>\n      <th></th>\n      <th></th>\n      <th></th>\n      <th></th>\n      <th></th>\n      <th></th>\n      <th></th>\n      <th></th>\n      <th></th>\n      <th></th>\n      <th></th>\n      <th></th>\n      <th></th>\n      <th></th>\n      <th></th>\n      <th></th>\n      <th></th>\n      <th></th>\n      <th></th>\n    </tr>\n  </thead>\n  <tbody>\n    <tr>\n      <th>2023-01-28 08:30:00</th>\n      <td>1.619</td>\n      <td>1.618</td>\n      <td>1.614</td>\n      <td>1.620</td>\n      <td>0.984200</td>\n      <td>0.999415</td>\n      <td>0.006731</td>\n      <td>True</td>\n      <td>False</td>\n      <td>8.0</td>\n      <td>1832.828366</td>\n      <td>0.000000</td>\n      <td>0.000000</td>\n      <td>1483.674563</td>\n      <td>1.619</td>\n      <td>1483.674563</td>\n      <td>0.993823</td>\n      <td>-0.617665</td>\n      <td>False</td>\n    </tr>\n    <tr>\n      <th>2023-01-29 01:15:00</th>\n      <td>1.601</td>\n      <td>1.604</td>\n      <td>1.594</td>\n      <td>1.614</td>\n      <td>1.002999</td>\n      <td>0.984805</td>\n      <td>0.005801</td>\n      <td>False</td>\n      <td>True</td>\n      <td>8.0</td>\n      <td>1832.828366</td>\n      <td>-32.990911</td>\n      <td>-2.223595</td>\n      <td>1450.683652</td>\n      <td>1.619</td>\n      <td>1450.683652</td>\n      <td>1.013898</td>\n      <td>-3.088326</td>\n      <td>False</td>\n    </tr>\n  </tbody>\n</table>\n</div>"
     },
     "execution_count": 458,
     "metadata": {},
     "output_type": "execute_result"
    }
   ],
   "source": [
    "df2.loc[df2[\"order_number\"] == 8].iloc[[0,-1], :]"
   ],
   "metadata": {
    "collapsed": false,
    "ExecuteTime": {
     "end_time": "2024-03-20T22:43:23.187034Z",
     "start_time": "2024-03-20T22:43:23.165551Z"
    }
   }
  },
  {
   "cell_type": "code",
   "execution_count": 483,
   "outputs": [],
   "source": [
    "df = df1[[\"open\", \"close\", \"low\", \"high\"]]"
   ],
   "metadata": {
    "collapsed": false,
    "ExecuteTime": {
     "end_time": "2024-03-20T23:02:54.674821Z",
     "start_time": "2024-03-20T23:02:54.672122Z"
    }
   }
  },
  {
   "cell_type": "code",
   "execution_count": 507,
   "outputs": [
    {
     "name": "stderr",
     "output_type": "stream",
     "text": [
      "/var/folders/_9/mg2v8fwd04n3k0y4zztq8z7h0000gn/T/ipykernel_55277/2872500578.py:1: SettingWithCopyWarning: \n",
      "A value is trying to be set on a copy of a slice from a DataFrame.\n",
      "Try using .loc[row_indexer,col_indexer] = value instead\n",
      "\n",
      "See the caveats in the documentation: https://pandas.pydata.org/pandas-docs/stable/user_guide/indexing.html#returning-a-view-versus-a-copy\n",
      "  df['fast_ma'] = ta.trend.sma_indicator(close=df[\"close\"], window=params[\"fast_ma\"])\n",
      "/var/folders/_9/mg2v8fwd04n3k0y4zztq8z7h0000gn/T/ipykernel_55277/2872500578.py:2: SettingWithCopyWarning: \n",
      "A value is trying to be set on a copy of a slice from a DataFrame.\n",
      "Try using .loc[row_indexer,col_indexer] = value instead\n",
      "\n",
      "See the caveats in the documentation: https://pandas.pydata.org/pandas-docs/stable/user_guide/indexing.html#returning-a-view-versus-a-copy\n",
      "  df['slow_ma'] = ta.trend.sma_indicator(close=df[\"close\"], window=params[\"slow_ma\"])\n",
      "/var/folders/_9/mg2v8fwd04n3k0y4zztq8z7h0000gn/T/ipykernel_55277/2872500578.py:3: SettingWithCopyWarning: \n",
      "A value is trying to be set on a copy of a slice from a DataFrame.\n",
      "Try using .loc[row_indexer,col_indexer] = value instead\n",
      "\n",
      "See the caveats in the documentation: https://pandas.pydata.org/pandas-docs/stable/user_guide/indexing.html#returning-a-view-versus-a-copy\n",
      "  df['mrat'] = df['fast_ma'] / df['slow_ma']\n",
      "/var/folders/_9/mg2v8fwd04n3k0y4zztq8z7h0000gn/T/ipykernel_55277/2872500578.py:4: SettingWithCopyWarning: \n",
      "A value is trying to be set on a copy of a slice from a DataFrame.\n",
      "Try using .loc[row_indexer,col_indexer] = value instead\n",
      "\n",
      "See the caveats in the documentation: https://pandas.pydata.org/pandas-docs/stable/user_guide/indexing.html#returning-a-view-versus-a-copy\n",
      "  df['mean_mrat'] = ta.trend.sma_indicator(close=df['mrat'], window=params[\"mean_mrat_lenght\"])\n",
      "/var/folders/_9/mg2v8fwd04n3k0y4zztq8z7h0000gn/T/ipykernel_55277/2872500578.py:5: SettingWithCopyWarning: \n",
      "A value is trying to be set on a copy of a slice from a DataFrame.\n",
      "Try using .loc[row_indexer,col_indexer] = value instead\n",
      "\n",
      "See the caveats in the documentation: https://pandas.pydata.org/pandas-docs/stable/user_guide/indexing.html#returning-a-view-versus-a-copy\n",
      "  df['stdev_mrat'] = df['mrat'].rolling(params[\"mean_mrat_lenght\"]).std(ddof=0)\n",
      "/var/folders/_9/mg2v8fwd04n3k0y4zztq8z7h0000gn/T/ipykernel_55277/2872500578.py:6: SettingWithCopyWarning: \n",
      "A value is trying to be set on a copy of a slice from a DataFrame.\n",
      "Try using .loc[row_indexer,col_indexer] = value instead\n",
      "\n",
      "See the caveats in the documentation: https://pandas.pydata.org/pandas-docs/stable/user_guide/indexing.html#returning-a-view-versus-a-copy\n",
      "  df['open_long_signal'] = df['mean_mrat'].shift(1) - df['mrat'].shift(1) >= params['sigma_open'] * df['stdev_mrat'].shift(1)\n",
      "/var/folders/_9/mg2v8fwd04n3k0y4zztq8z7h0000gn/T/ipykernel_55277/2872500578.py:7: SettingWithCopyWarning: \n",
      "A value is trying to be set on a copy of a slice from a DataFrame.\n",
      "Try using .loc[row_indexer,col_indexer] = value instead\n",
      "\n",
      "See the caveats in the documentation: https://pandas.pydata.org/pandas-docs/stable/user_guide/indexing.html#returning-a-view-versus-a-copy\n",
      "  df['close_long_signal'] = df['mrat'].shift(1) - df['mean_mrat'].shift(1) >= params['sigma_close'] * df['stdev_mrat'].shift(1)\n",
      "/var/folders/_9/mg2v8fwd04n3k0y4zztq8z7h0000gn/T/ipykernel_55277/2872500578.py:19: SettingWithCopyWarning: \n",
      "A value is trying to be set on a copy of a slice from a DataFrame.\n",
      "Try using .loc[row_indexer,col_indexer] = value instead\n",
      "\n",
      "See the caveats in the documentation: https://pandas.pydata.org/pandas-docs/stable/user_guide/indexing.html#returning-a-view-versus-a-copy\n",
      "  df_first_signal[\"open_signal_lag\"] = df_first_signal[\"open_long_signal\"].shift(fill_value=False)\n",
      "/var/folders/_9/mg2v8fwd04n3k0y4zztq8z7h0000gn/T/ipykernel_55277/2872500578.py:20: SettingWithCopyWarning: \n",
      "A value is trying to be set on a copy of a slice from a DataFrame.\n",
      "Try using .loc[row_indexer,col_indexer] = value instead\n",
      "\n",
      "See the caveats in the documentation: https://pandas.pydata.org/pandas-docs/stable/user_guide/indexing.html#returning-a-view-versus-a-copy\n",
      "  df_first_signal[\"close_signal_lag\"] = df_first_signal[\"close_long_signal\"].shift(fill_value=False)\n"
     ]
    }
   ],
   "source": [
    "df['fast_ma'] = ta.trend.sma_indicator(close=df[\"close\"], window=params[\"fast_ma\"])\n",
    "df['slow_ma'] = ta.trend.sma_indicator(close=df[\"close\"], window=params[\"slow_ma\"])\n",
    "df['mrat'] = df['fast_ma'] / df['slow_ma']\n",
    "df['mean_mrat'] = ta.trend.sma_indicator(close=df['mrat'], window=params[\"mean_mrat_lenght\"])\n",
    "df['stdev_mrat'] = df['mrat'].rolling(params[\"mean_mrat_lenght\"]).std(ddof=0)\n",
    "df['open_long_signal'] = df['mean_mrat'].shift(1) - df['mrat'].shift(1) >= params['sigma_open'] * df['stdev_mrat'].shift(1)\n",
    "df['close_long_signal'] = df['mrat'].shift(1) - df['mean_mrat'].shift(1) >= params['sigma_close'] * df['stdev_mrat'].shift(1)\n",
    "\n",
    "df_signal = df.loc[\n",
    "    df[\"open_long_signal\"] | df[\"close_long_signal\"],\n",
    "    [\"open_long_signal\", \"close_long_signal\",\"open\", \"close\"]\n",
    "]\n",
    "df_signal[\"open_signal_lag\"] = df_signal[\"open_long_signal\"].shift(fill_value=False)\n",
    "df_signal[\"close_signal_lag\"] = df_signal[\"close_long_signal\"].shift(fill_value=False)\n",
    "df_first_signal  = df_signal[\n",
    "    (~ df_signal[\"open_signal_lag\"] & (df_signal[\"open_long_signal\"])) |\n",
    "    (~ df_signal[\"close_signal_lag\"] & df_signal[\"close_long_signal\"])\n",
    " ]\n",
    "df_first_signal[\"open_signal_lag\"] = df_first_signal[\"open_long_signal\"].shift(fill_value=False)\n",
    "df_first_signal[\"close_signal_lag\"] = df_first_signal[\"close_long_signal\"].shift(fill_value=False)\n",
    "\n",
    "df_order_tmp = df_first_signal[\n",
    "    (df_first_signal[\"open_long_signal\"] & (~df_first_signal[\"open_signal_lag\"] | df_first_signal[\"open_long_signal\"].isnull())) |\n",
    "    (df_first_signal[\"close_long_signal\"] & ~ df_first_signal[\"close_signal_lag\"])\n",
    "]\n",
    "df_order = df_order_tmp.loc[~ ( ~ df_order_tmp[\"close_signal_lag\"] & ~ df_order_tmp[\"open_signal_lag\"] & df_order_tmp[\"close_long_signal\"])]\n",
    "df_order[\"order_number\"] = df_order[\"open_long_signal\"].cumsum()"
   ],
   "metadata": {
    "collapsed": false,
    "ExecuteTime": {
     "end_time": "2024-03-20T23:10:01.962029Z",
     "start_time": "2024-03-20T23:10:01.940166Z"
    }
   }
  },
  {
   "cell_type": "code",
   "execution_count": 508,
   "outputs": [
    {
     "data": {
      "text/plain": "                     open_long_signal  close_long_signal    open   close  \\\ndate                                                                       \n2023-01-02 21:45:00              True              False  1.0530  1.0530   \n2023-01-04 02:00:00             False               True  1.0740  1.0750   \n2023-01-04 11:15:00              True              False  1.0800  1.0770   \n2023-01-08 20:30:00             False               True  1.1560  1.1640   \n2023-01-09 11:30:00              True              False  1.2330  1.2330   \n...                               ...                ...     ...     ...   \n2024-03-02 10:00:00              True              False  3.8753  3.8697   \n2024-03-09 05:00:00             False               True  4.1232  4.2837   \n2024-03-09 11:15:00              True              False  3.8996  3.9059   \n2024-03-11 00:15:00             False               True  4.0703  3.9796   \n2024-03-11 14:00:00              True              False  3.8156  3.8310   \n\n                     open_signal_lag  close_signal_lag  \ndate                                                    \n2023-01-02 21:45:00            False             False  \n2023-01-04 02:00:00             True             False  \n2023-01-04 11:15:00            False              True  \n2023-01-08 20:30:00             True             False  \n2023-01-09 11:30:00            False              True  \n...                              ...               ...  \n2024-03-02 10:00:00            False              True  \n2024-03-09 05:00:00             True             False  \n2024-03-09 11:15:00            False              True  \n2024-03-11 00:15:00             True             False  \n2024-03-11 14:00:00            False              True  \n\n[215 rows x 6 columns]",
      "text/html": "<div>\n<style scoped>\n    .dataframe tbody tr th:only-of-type {\n        vertical-align: middle;\n    }\n\n    .dataframe tbody tr th {\n        vertical-align: top;\n    }\n\n    .dataframe thead th {\n        text-align: right;\n    }\n</style>\n<table border=\"1\" class=\"dataframe\">\n  <thead>\n    <tr style=\"text-align: right;\">\n      <th></th>\n      <th>open_long_signal</th>\n      <th>close_long_signal</th>\n      <th>open</th>\n      <th>close</th>\n      <th>open_signal_lag</th>\n      <th>close_signal_lag</th>\n    </tr>\n    <tr>\n      <th>date</th>\n      <th></th>\n      <th></th>\n      <th></th>\n      <th></th>\n      <th></th>\n      <th></th>\n    </tr>\n  </thead>\n  <tbody>\n    <tr>\n      <th>2023-01-02 21:45:00</th>\n      <td>True</td>\n      <td>False</td>\n      <td>1.0530</td>\n      <td>1.0530</td>\n      <td>False</td>\n      <td>False</td>\n    </tr>\n    <tr>\n      <th>2023-01-04 02:00:00</th>\n      <td>False</td>\n      <td>True</td>\n      <td>1.0740</td>\n      <td>1.0750</td>\n      <td>True</td>\n      <td>False</td>\n    </tr>\n    <tr>\n      <th>2023-01-04 11:15:00</th>\n      <td>True</td>\n      <td>False</td>\n      <td>1.0800</td>\n      <td>1.0770</td>\n      <td>False</td>\n      <td>True</td>\n    </tr>\n    <tr>\n      <th>2023-01-08 20:30:00</th>\n      <td>False</td>\n      <td>True</td>\n      <td>1.1560</td>\n      <td>1.1640</td>\n      <td>True</td>\n      <td>False</td>\n    </tr>\n    <tr>\n      <th>2023-01-09 11:30:00</th>\n      <td>True</td>\n      <td>False</td>\n      <td>1.2330</td>\n      <td>1.2330</td>\n      <td>False</td>\n      <td>True</td>\n    </tr>\n    <tr>\n      <th>...</th>\n      <td>...</td>\n      <td>...</td>\n      <td>...</td>\n      <td>...</td>\n      <td>...</td>\n      <td>...</td>\n    </tr>\n    <tr>\n      <th>2024-03-02 10:00:00</th>\n      <td>True</td>\n      <td>False</td>\n      <td>3.8753</td>\n      <td>3.8697</td>\n      <td>False</td>\n      <td>True</td>\n    </tr>\n    <tr>\n      <th>2024-03-09 05:00:00</th>\n      <td>False</td>\n      <td>True</td>\n      <td>4.1232</td>\n      <td>4.2837</td>\n      <td>True</td>\n      <td>False</td>\n    </tr>\n    <tr>\n      <th>2024-03-09 11:15:00</th>\n      <td>True</td>\n      <td>False</td>\n      <td>3.8996</td>\n      <td>3.9059</td>\n      <td>False</td>\n      <td>True</td>\n    </tr>\n    <tr>\n      <th>2024-03-11 00:15:00</th>\n      <td>False</td>\n      <td>True</td>\n      <td>4.0703</td>\n      <td>3.9796</td>\n      <td>True</td>\n      <td>False</td>\n    </tr>\n    <tr>\n      <th>2024-03-11 14:00:00</th>\n      <td>True</td>\n      <td>False</td>\n      <td>3.8156</td>\n      <td>3.8310</td>\n      <td>False</td>\n      <td>True</td>\n    </tr>\n  </tbody>\n</table>\n<p>215 rows × 6 columns</p>\n</div>"
     },
     "execution_count": 508,
     "metadata": {},
     "output_type": "execute_result"
    }
   ],
   "source": [
    "df_order_tmp"
   ],
   "metadata": {
    "collapsed": false,
    "ExecuteTime": {
     "end_time": "2024-03-20T23:10:02.911433Z",
     "start_time": "2024-03-20T23:10:02.906306Z"
    }
   }
  },
  {
   "cell_type": "code",
   "execution_count": 510,
   "outputs": [
    {
     "data": {
      "text/plain": "108"
     },
     "execution_count": 510,
     "metadata": {},
     "output_type": "execute_result"
    }
   ],
   "source": [
    "df_order.order_number.max()"
   ],
   "metadata": {
    "collapsed": false,
    "ExecuteTime": {
     "end_time": "2024-03-20T23:10:16.700541Z",
     "start_time": "2024-03-20T23:10:16.695366Z"
    }
   }
  },
  {
   "cell_type": "code",
   "execution_count": 485,
   "outputs": [
    {
     "name": "stderr",
     "output_type": "stream",
     "text": [
      "/var/folders/_9/mg2v8fwd04n3k0y4zztq8z7h0000gn/T/ipykernel_55277/4262159250.py:1: SettingWithCopyWarning: \n",
      "A value is trying to be set on a copy of a slice from a DataFrame.\n",
      "Try using .loc[row_indexer,col_indexer] = value instead\n",
      "\n",
      "See the caveats in the documentation: https://pandas.pydata.org/pandas-docs/stable/user_guide/indexing.html#returning-a-view-versus-a-copy\n",
      "  df_order[\"open_lag\"] = df_order[\"open\"].shift(-1)\n",
      "/var/folders/_9/mg2v8fwd04n3k0y4zztq8z7h0000gn/T/ipykernel_55277/4262159250.py:2: SettingWithCopyWarning: \n",
      "A value is trying to be set on a copy of a slice from a DataFrame.\n",
      "Try using .loc[row_indexer,col_indexer] = value instead\n",
      "\n",
      "See the caveats in the documentation: https://pandas.pydata.org/pandas-docs/stable/user_guide/indexing.html#returning-a-view-versus-a-copy\n",
      "  df_order[\"open_order\"] = df_order[\"open\"].shift()\n",
      "/var/folders/_9/mg2v8fwd04n3k0y4zztq8z7h0000gn/T/ipykernel_55277/4262159250.py:12: SettingWithCopyWarning: \n",
      "A value is trying to be set on a copy of a slice from a DataFrame.\n",
      "Try using .loc[row_indexer,col_indexer] = value instead\n",
      "\n",
      "See the caveats in the documentation: https://pandas.pydata.org/pandas-docs/stable/user_guide/indexing.html#returning-a-view-versus-a-copy\n",
      "  df_order['quantity'] = 0.0\n",
      "/var/folders/_9/mg2v8fwd04n3k0y4zztq8z7h0000gn/T/ipykernel_55277/4262159250.py:13: SettingWithCopyWarning: \n",
      "A value is trying to be set on a copy of a slice from a DataFrame.\n",
      "Try using .loc[row_indexer,col_indexer] = value instead\n",
      "\n",
      "See the caveats in the documentation: https://pandas.pydata.org/pandas-docs/stable/user_guide/indexing.html#returning-a-view-versus-a-copy\n",
      "  df_order['trade_result'] = 0.0\n",
      "/var/folders/_9/mg2v8fwd04n3k0y4zztq8z7h0000gn/T/ipykernel_55277/4262159250.py:14: SettingWithCopyWarning: \n",
      "A value is trying to be set on a copy of a slice from a DataFrame.\n",
      "Try using .loc[row_indexer,col_indexer] = value instead\n",
      "\n",
      "See the caveats in the documentation: https://pandas.pydata.org/pandas-docs/stable/user_guide/indexing.html#returning-a-view-versus-a-copy\n",
      "  df_order['trade_result_pct'] = 0.0\n",
      "/var/folders/_9/mg2v8fwd04n3k0y4zztq8z7h0000gn/T/ipykernel_55277/4262159250.py:41: SettingWithCopyWarning: \n",
      "A value is trying to be set on a copy of a slice from a DataFrame.\n",
      "Try using .loc[row_indexer,col_indexer] = value instead\n",
      "\n",
      "See the caveats in the documentation: https://pandas.pydata.org/pandas-docs/stable/user_guide/indexing.html#returning-a-view-versus-a-copy\n",
      "  df_order.at[i, 'wallet'] = wallet\n"
     ]
    }
   ],
   "source": [
    "df_order[\"open_lag\"] = df_order[\"open\"].shift(-1)\n",
    "df_order[\"open_order\"] = df_order[\"open\"].shift()\n",
    "df_order.loc[df_order[\"open_long_signal\"], \"open_order\"] = df_order.loc[df_order[\"open_long_signal\"], \"open\"]\n",
    "df_pair = df[[\"open\", \"close\", \"low\", \"high\", \"mrat\", \"mean_mrat\", \"stdev_mrat\", \"open_long_signal\", \"close_long_signal\"]]\n",
    "\n",
    "leverage = params[\"leverage\"]  # Fixed leverage\n",
    "maintenance_margin_percent = 0.004\n",
    "wallet = 1000  # Initial wallet balance\n",
    "quantity = 0  # Initial quantity\n",
    "\n",
    "# Ensure the DataFrame has 'quantity' and 'trade_result' columns initialized\n",
    "df_order['quantity'] = 0.0\n",
    "df_order['trade_result'] = 0.0\n",
    "df_order['trade_result_pct'] = 0.0\n",
    "\n",
    "# Iterating over DataFrame rows to process trading signals\n",
    "for i, row in df_order.iterrows():\n",
    "    # Check if there is a signal to open a long position\n",
    "    if row['open_long_signal']:\n",
    "        # Calculate the new quantity based on the current wallet and leverage\n",
    "        quantity = wallet * leverage / row['open']\n",
    "        # Update the 'quantity' column with the new quantity\n",
    "        df_order.at[i, 'quantity'] = quantity\n",
    "        # No change in wallet yet as the position has just opened\n",
    "        df_order.at[i, 'wallet'] = wallet\n",
    "        # Track the price at which the position was opened\n",
    "        open = row['open']\n",
    "    elif row['close_long_signal']:\n",
    "        # Calculate the trade result based on the difference between current and open price\n",
    "        trade_result = (row['open'] - open) * quantity\n",
    "        # Update the 'trade_result' column with the result of the closed trade\n",
    "        df_order.at[i, 'trade_result'] = trade_result\n",
    "        df_order.at[i, 'trade_result_pct'] = trade_result / wallet * 100\n",
    "        # Update the wallet with the result of the trade\n",
    "        wallet += trade_result\n",
    "        # Reset quantity as the trade is closed\n",
    "        df_order.at[i, 'quantity'] = quantity\n",
    "        quantity = 0\n",
    "\n",
    "    # Update the wallet and quantity for the current row\n",
    "    df_order.at[i, 'wallet'] = wallet"
   ],
   "metadata": {
    "collapsed": false,
    "ExecuteTime": {
     "end_time": "2024-03-20T23:02:59.013328Z",
     "start_time": "2024-03-20T23:02:59.010540Z"
    }
   }
  },
  {
   "cell_type": "code",
   "execution_count": null,
   "outputs": [],
   "source": [],
   "metadata": {
    "collapsed": false
   }
  }
 ],
 "metadata": {
  "kernelspec": {
   "display_name": "Python 3",
   "language": "python",
   "name": "python3"
  },
  "language_info": {
   "codemirror_mode": {
    "name": "ipython",
    "version": 2
   },
   "file_extension": ".py",
   "mimetype": "text/x-python",
   "name": "python",
   "nbconvert_exporter": "python",
   "pygments_lexer": "ipython2",
   "version": "2.7.6"
  }
 },
 "nbformat": 4,
 "nbformat_minor": 0
}
