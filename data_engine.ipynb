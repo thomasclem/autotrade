{
 "cells": [
  {
   "cell_type": "code",
   "execution_count": 2,
   "metadata": {
    "ExecuteTime": {
     "end_time": "2024-03-26T18:00:55.375169Z",
     "start_time": "2024-03-26T18:00:53.892552Z"
    }
   },
   "outputs": [],
   "source": [
    "import sys\n",
    "sys.path.append('./')\n",
    "from utilities.data_manager import ExchangeDataManager\n",
    "import pandas as pd"
   ]
  },
  {
   "cell_type": "markdown",
   "metadata": {},
   "source": [
    "# Download Historical data into CSV in Database"
   ]
  },
  {
   "cell_type": "code",
   "execution_count": 22,
   "metadata": {
    "ExecuteTime": {
     "end_time": "2024-03-27T21:17:05.254616Z",
     "start_time": "2024-03-27T21:16:36.267308Z"
    }
   },
   "outputs": [
    {
     "name": "stdout",
     "output_type": "stream",
     "text": [
      "\tRécupération pour la paire RVN/USDT:USDT en timeframe 15m sur l'exchange mexc...\n",
      "\tDonnées déjà récupérées\n",
      "\u001B[H\u001B[J\tRécupération pour la paire DUSK/USDT:USDT en timeframe 15m sur l'exchange mexc...\n"
     ]
    },
    {
     "data": {
      "text/plain": "  0%|          | 0/254 [00:00<?, ?it/s]",
      "application/vnd.jupyter.widget-view+json": {
       "version_major": 2,
       "version_minor": 0,
       "model_id": "7a018492f2304b15b6ac2b751e84c222"
      }
     },
     "metadata": {},
     "output_type": "display_data"
    },
    {
     "name": "stdout",
     "output_type": "stream",
     "text": [
      "Error during download DUSK/USDT:USDT 15m 1636225200000 mexc {\"success\":false,\"code\":510,\"message\":\"Request frequently too fast!\"}\n",
      "\u001B[H\u001B[J\tRécupération pour la paire ATOM/USDT:USDT en timeframe 15m sur l'exchange mexc...\n",
      "\tDonnées déjà récupérées\n",
      "\u001B[H\u001B[J"
     ]
    }
   ],
   "source": [
    "exchange_name = \"mexc\"\n",
    "\n",
    "intervals = [\"15m\"]\n",
    "\n",
    "coin_to_dl = [\n",
    "    \"RVN/USDT:USDT\",\n",
    "    \"DUSK/USDT:USDT\",\n",
    "    \"ATOM/USDT:USDT\",\n",
    "]\n",
    "\n",
    "exchange = ExchangeDataManager(\n",
    "    exchange_name=exchange_name, path_download=\"./database/exchanges\"\n",
    ")\n",
    "\n",
    "await exchange.download_data(\n",
    "    coins=coin_to_dl,\n",
    "    intervals=intervals,\n",
    "    #start_date=\"2023-01-01 00:00:00\"\n",
    ")"
   ]
  },
  {
   "cell_type": "code",
   "execution_count": 19,
   "outputs": [
    {
     "data": {
      "text/plain": "                        open     high      low    close    volume\ndate                                                             \n2021-04-02 02:45:00  1.44200  1.44307  1.44178  1.44219    1010.0\n2021-04-02 03:00:00  1.44219  1.44810  1.44114  1.44214   15390.0\n2021-04-02 03:15:00  1.44214  1.44334  1.43711  1.44334    7158.0\n2021-04-02 03:30:00  1.44334  1.44709  1.44234  1.44459    9148.0\n2021-04-02 03:45:00  1.44459  1.44621  1.43970  1.44271    9028.0\n...                      ...      ...      ...      ...       ...\n2024-03-27 19:00:00  1.29600  1.31450  1.29500  1.31300  461816.0\n2024-03-27 19:15:00  1.31300  1.31900  1.30840  1.31890  319903.0\n2024-03-27 19:30:00  1.31890  1.31910  1.29710  1.29820  437442.0\n2024-03-27 19:45:00  1.29820  1.31270  1.29620  1.30950  260617.0\n2024-03-27 20:00:00  1.30950  1.33910  1.30500  1.33810  828852.0\n\n[104667 rows x 5 columns]",
      "text/html": "<div>\n<style scoped>\n    .dataframe tbody tr th:only-of-type {\n        vertical-align: middle;\n    }\n\n    .dataframe tbody tr th {\n        vertical-align: top;\n    }\n\n    .dataframe thead th {\n        text-align: right;\n    }\n</style>\n<table border=\"1\" class=\"dataframe\">\n  <thead>\n    <tr style=\"text-align: right;\">\n      <th></th>\n      <th>open</th>\n      <th>high</th>\n      <th>low</th>\n      <th>close</th>\n      <th>volume</th>\n    </tr>\n    <tr>\n      <th>date</th>\n      <th></th>\n      <th></th>\n      <th></th>\n      <th></th>\n      <th></th>\n    </tr>\n  </thead>\n  <tbody>\n    <tr>\n      <th>2021-04-02 02:45:00</th>\n      <td>1.44200</td>\n      <td>1.44307</td>\n      <td>1.44178</td>\n      <td>1.44219</td>\n      <td>1010.0</td>\n    </tr>\n    <tr>\n      <th>2021-04-02 03:00:00</th>\n      <td>1.44219</td>\n      <td>1.44810</td>\n      <td>1.44114</td>\n      <td>1.44214</td>\n      <td>15390.0</td>\n    </tr>\n    <tr>\n      <th>2021-04-02 03:15:00</th>\n      <td>1.44214</td>\n      <td>1.44334</td>\n      <td>1.43711</td>\n      <td>1.44334</td>\n      <td>7158.0</td>\n    </tr>\n    <tr>\n      <th>2021-04-02 03:30:00</th>\n      <td>1.44334</td>\n      <td>1.44709</td>\n      <td>1.44234</td>\n      <td>1.44459</td>\n      <td>9148.0</td>\n    </tr>\n    <tr>\n      <th>2021-04-02 03:45:00</th>\n      <td>1.44459</td>\n      <td>1.44621</td>\n      <td>1.43970</td>\n      <td>1.44271</td>\n      <td>9028.0</td>\n    </tr>\n    <tr>\n      <th>...</th>\n      <td>...</td>\n      <td>...</td>\n      <td>...</td>\n      <td>...</td>\n      <td>...</td>\n    </tr>\n    <tr>\n      <th>2024-03-27 19:00:00</th>\n      <td>1.29600</td>\n      <td>1.31450</td>\n      <td>1.29500</td>\n      <td>1.31300</td>\n      <td>461816.0</td>\n    </tr>\n    <tr>\n      <th>2024-03-27 19:15:00</th>\n      <td>1.31300</td>\n      <td>1.31900</td>\n      <td>1.30840</td>\n      <td>1.31890</td>\n      <td>319903.0</td>\n    </tr>\n    <tr>\n      <th>2024-03-27 19:30:00</th>\n      <td>1.31890</td>\n      <td>1.31910</td>\n      <td>1.29710</td>\n      <td>1.29820</td>\n      <td>437442.0</td>\n    </tr>\n    <tr>\n      <th>2024-03-27 19:45:00</th>\n      <td>1.29820</td>\n      <td>1.31270</td>\n      <td>1.29620</td>\n      <td>1.30950</td>\n      <td>260617.0</td>\n    </tr>\n    <tr>\n      <th>2024-03-27 20:00:00</th>\n      <td>1.30950</td>\n      <td>1.33910</td>\n      <td>1.30500</td>\n      <td>1.33810</td>\n      <td>828852.0</td>\n    </tr>\n  </tbody>\n</table>\n<p>104667 rows × 5 columns</p>\n</div>"
     },
     "execution_count": 19,
     "metadata": {},
     "output_type": "execute_result"
    }
   ],
   "source": [
    "df = exchange.load_data(\n",
    "    coin=\"OCEAN/USDT:USDT\",\n",
    "    interval=\"15m\"\n",
    ")\n",
    "\n",
    "df"
   ],
   "metadata": {
    "collapsed": false,
    "ExecuteTime": {
     "end_time": "2024-03-27T20:19:35.236724Z",
     "start_time": "2024-03-27T20:19:35.060698Z"
    }
   }
  },
  {
   "cell_type": "markdown",
   "metadata": {},
   "source": [
    "# Get Historical Data From Database"
   ]
  },
  {
   "cell_type": "code",
   "execution_count": 8,
   "metadata": {
    "ExecuteTime": {
     "end_time": "2024-03-26T17:59:17.461019Z",
     "start_time": "2024-03-26T17:58:12.745880Z"
    }
   },
   "outputs": [
    {
     "name": "stdout",
     "output_type": "stream",
     "text": [
      "\tRécupération pour la paire MAGIC/USDT:USDT en timeframe 15m sur l'exchange binance...\n"
     ]
    },
    {
     "data": {
      "text/plain": "  0%|          | 0/254 [00:00<?, ?it/s]",
      "application/vnd.jupyter.widget-view+json": {
       "version_major": 2,
       "version_minor": 0,
       "model_id": "8cddcee79e704c29b63eb5c00a5f675c"
      }
     },
     "metadata": {},
     "output_type": "display_data"
    },
    {
     "name": "stdout",
     "output_type": "stream",
     "text": [
      "\u001B[H\u001B[J"
     ]
    },
    {
     "data": {
      "text/plain": "                       open    high     low   close    volume\ndate                                                         \n2022-02-22 03:30:00  5.0110  5.3410  5.0110  5.2050  173120.6\n2022-02-22 03:45:00  5.2050  5.2790  5.1130  5.2190  175964.0\n2022-02-22 04:00:00  5.2150  5.3710  5.2010  5.3000  187850.6\n2022-02-22 04:15:00  5.3000  5.3290  5.2060  5.2130  116803.5\n2022-02-22 04:30:00  5.2110  5.3180  5.1450  5.2690  210107.4\n...                     ...     ...     ...     ...       ...\n2024-03-26 16:30:00  3.9188  3.9309  3.8670  3.8788  225125.8\n2024-03-26 16:45:00  3.8792  3.9088  3.8727  3.9009  109166.6\n2024-03-26 17:00:00  3.9007  3.9348  3.8921  3.9020  117680.7\n2024-03-26 17:15:00  3.9029  3.9597  3.9010  3.9480  307609.6\n2024-03-26 17:30:00  3.9477  3.9721  3.9359  3.9450  142088.1\n\n[73305 rows x 5 columns]",
      "text/html": "<div>\n<style scoped>\n    .dataframe tbody tr th:only-of-type {\n        vertical-align: middle;\n    }\n\n    .dataframe tbody tr th {\n        vertical-align: top;\n    }\n\n    .dataframe thead th {\n        text-align: right;\n    }\n</style>\n<table border=\"1\" class=\"dataframe\">\n  <thead>\n    <tr style=\"text-align: right;\">\n      <th></th>\n      <th>open</th>\n      <th>high</th>\n      <th>low</th>\n      <th>close</th>\n      <th>volume</th>\n    </tr>\n    <tr>\n      <th>date</th>\n      <th></th>\n      <th></th>\n      <th></th>\n      <th></th>\n      <th></th>\n    </tr>\n  </thead>\n  <tbody>\n    <tr>\n      <th>2022-02-22 03:30:00</th>\n      <td>5.0110</td>\n      <td>5.3410</td>\n      <td>5.0110</td>\n      <td>5.2050</td>\n      <td>173120.6</td>\n    </tr>\n    <tr>\n      <th>2022-02-22 03:45:00</th>\n      <td>5.2050</td>\n      <td>5.2790</td>\n      <td>5.1130</td>\n      <td>5.2190</td>\n      <td>175964.0</td>\n    </tr>\n    <tr>\n      <th>2022-02-22 04:00:00</th>\n      <td>5.2150</td>\n      <td>5.3710</td>\n      <td>5.2010</td>\n      <td>5.3000</td>\n      <td>187850.6</td>\n    </tr>\n    <tr>\n      <th>2022-02-22 04:15:00</th>\n      <td>5.3000</td>\n      <td>5.3290</td>\n      <td>5.2060</td>\n      <td>5.2130</td>\n      <td>116803.5</td>\n    </tr>\n    <tr>\n      <th>2022-02-22 04:30:00</th>\n      <td>5.2110</td>\n      <td>5.3180</td>\n      <td>5.1450</td>\n      <td>5.2690</td>\n      <td>210107.4</td>\n    </tr>\n    <tr>\n      <th>...</th>\n      <td>...</td>\n      <td>...</td>\n      <td>...</td>\n      <td>...</td>\n      <td>...</td>\n    </tr>\n    <tr>\n      <th>2024-03-26 16:30:00</th>\n      <td>3.9188</td>\n      <td>3.9309</td>\n      <td>3.8670</td>\n      <td>3.8788</td>\n      <td>225125.8</td>\n    </tr>\n    <tr>\n      <th>2024-03-26 16:45:00</th>\n      <td>3.8792</td>\n      <td>3.9088</td>\n      <td>3.8727</td>\n      <td>3.9009</td>\n      <td>109166.6</td>\n    </tr>\n    <tr>\n      <th>2024-03-26 17:00:00</th>\n      <td>3.9007</td>\n      <td>3.9348</td>\n      <td>3.8921</td>\n      <td>3.9020</td>\n      <td>117680.7</td>\n    </tr>\n    <tr>\n      <th>2024-03-26 17:15:00</th>\n      <td>3.9029</td>\n      <td>3.9597</td>\n      <td>3.9010</td>\n      <td>3.9480</td>\n      <td>307609.6</td>\n    </tr>\n    <tr>\n      <th>2024-03-26 17:30:00</th>\n      <td>3.9477</td>\n      <td>3.9721</td>\n      <td>3.9359</td>\n      <td>3.9450</td>\n      <td>142088.1</td>\n    </tr>\n  </tbody>\n</table>\n<p>73305 rows × 5 columns</p>\n</div>"
     },
     "execution_count": 8,
     "metadata": {},
     "output_type": "execute_result"
    }
   ],
   "source": [
    "exchange_name = \"binance\"\n",
    "\n",
    "exchange = ExchangeDataManager(\n",
    "    exchange_name=exchange_name, path_download=\"./database/exchanges\"\n",
    ")\n",
    "\n",
    "await exchange.download_data(\n",
    "    coins=[\"MAGIC/USDT:USDT\"],\n",
    "    intervals=[\"15m\"],\n",
    "    start_date=\"2023-01-01 00:00:00\"\n",
    ")\n",
    "\n",
    "df = exchange.load_data(\n",
    "    coin=\"MAGIC/USDT:USDT\",\n",
    "    interval=\"15m\"\n",
    ")\n",
    "\n",
    "df"
   ]
  },
  {
   "cell_type": "code",
   "execution_count": 9,
   "outputs": [
    {
     "data": {
      "text/plain": "                       open    high     low   close     volume\ndate                                                          \n2023-01-25 03:00:00  1.2900  1.2900  1.1701  1.2200  2852796.1\n2023-01-25 03:15:00  1.2200  1.2300  1.1634  1.1811  2072887.8\n2023-01-25 03:30:00  1.1802  1.2231  1.1716  1.2189  1408061.8\n2023-01-25 03:45:00  1.2172  1.2189  1.1978  1.2053   551361.6\n2023-01-25 04:00:00  1.2042  1.2354  1.2014  1.2321   983829.6\n...                     ...     ...     ...     ...        ...\n2024-03-26 16:30:00  1.1958  1.2015  1.1810  1.1830   594037.0\n2024-03-26 16:45:00  1.1831  1.1903  1.1810  1.1874   364136.2\n2024-03-26 17:00:00  1.1876  1.1911  1.1796  1.1831   262836.5\n2024-03-26 17:15:00  1.1832  1.2017  1.1832  1.2006   202314.2\n2024-03-26 17:30:00  1.2006  1.2026  1.1947  1.1952   156892.9\n\n[40955 rows x 5 columns]",
      "text/html": "<div>\n<style scoped>\n    .dataframe tbody tr th:only-of-type {\n        vertical-align: middle;\n    }\n\n    .dataframe tbody tr th {\n        vertical-align: top;\n    }\n\n    .dataframe thead th {\n        text-align: right;\n    }\n</style>\n<table border=\"1\" class=\"dataframe\">\n  <thead>\n    <tr style=\"text-align: right;\">\n      <th></th>\n      <th>open</th>\n      <th>high</th>\n      <th>low</th>\n      <th>close</th>\n      <th>volume</th>\n    </tr>\n    <tr>\n      <th>date</th>\n      <th></th>\n      <th></th>\n      <th></th>\n      <th></th>\n      <th></th>\n    </tr>\n  </thead>\n  <tbody>\n    <tr>\n      <th>2023-01-25 03:00:00</th>\n      <td>1.2900</td>\n      <td>1.2900</td>\n      <td>1.1701</td>\n      <td>1.2200</td>\n      <td>2852796.1</td>\n    </tr>\n    <tr>\n      <th>2023-01-25 03:15:00</th>\n      <td>1.2200</td>\n      <td>1.2300</td>\n      <td>1.1634</td>\n      <td>1.1811</td>\n      <td>2072887.8</td>\n    </tr>\n    <tr>\n      <th>2023-01-25 03:30:00</th>\n      <td>1.1802</td>\n      <td>1.2231</td>\n      <td>1.1716</td>\n      <td>1.2189</td>\n      <td>1408061.8</td>\n    </tr>\n    <tr>\n      <th>2023-01-25 03:45:00</th>\n      <td>1.2172</td>\n      <td>1.2189</td>\n      <td>1.1978</td>\n      <td>1.2053</td>\n      <td>551361.6</td>\n    </tr>\n    <tr>\n      <th>2023-01-25 04:00:00</th>\n      <td>1.2042</td>\n      <td>1.2354</td>\n      <td>1.2014</td>\n      <td>1.2321</td>\n      <td>983829.6</td>\n    </tr>\n    <tr>\n      <th>...</th>\n      <td>...</td>\n      <td>...</td>\n      <td>...</td>\n      <td>...</td>\n      <td>...</td>\n    </tr>\n    <tr>\n      <th>2024-03-26 16:30:00</th>\n      <td>1.1958</td>\n      <td>1.2015</td>\n      <td>1.1810</td>\n      <td>1.1830</td>\n      <td>594037.0</td>\n    </tr>\n    <tr>\n      <th>2024-03-26 16:45:00</th>\n      <td>1.1831</td>\n      <td>1.1903</td>\n      <td>1.1810</td>\n      <td>1.1874</td>\n      <td>364136.2</td>\n    </tr>\n    <tr>\n      <th>2024-03-26 17:00:00</th>\n      <td>1.1876</td>\n      <td>1.1911</td>\n      <td>1.1796</td>\n      <td>1.1831</td>\n      <td>262836.5</td>\n    </tr>\n    <tr>\n      <th>2024-03-26 17:15:00</th>\n      <td>1.1832</td>\n      <td>1.2017</td>\n      <td>1.1832</td>\n      <td>1.2006</td>\n      <td>202314.2</td>\n    </tr>\n    <tr>\n      <th>2024-03-26 17:30:00</th>\n      <td>1.2006</td>\n      <td>1.2026</td>\n      <td>1.1947</td>\n      <td>1.1952</td>\n      <td>156892.9</td>\n    </tr>\n  </tbody>\n</table>\n<p>40955 rows × 5 columns</p>\n</div>"
     },
     "execution_count": 9,
     "metadata": {},
     "output_type": "execute_result"
    }
   ],
   "source": [
    "df = exchange.load_data(\n",
    "    coin=\"MAGIC/USDT:USDT\",\n",
    "    interval=\"15m\"\n",
    ")\n",
    "\n",
    "df"
   ],
   "metadata": {
    "collapsed": false,
    "ExecuteTime": {
     "end_time": "2024-03-26T17:59:22.535468Z",
     "start_time": "2024-03-26T17:59:21.954275Z"
    }
   }
  },
  {
   "cell_type": "code",
   "execution_count": null,
   "metadata": {},
   "outputs": [],
   "source": [
    "exchange.explore_data()"
   ]
  }
 ],
 "metadata": {
  "kernelspec": {
   "display_name": "Python 3.10.2 ('.venv': venv)",
   "language": "python",
   "name": "python3"
  },
  "language_info": {
   "codemirror_mode": {
    "name": "ipython",
    "version": 3
   },
   "file_extension": ".py",
   "mimetype": "text/x-python",
   "name": "python",
   "nbconvert_exporter": "python",
   "pygments_lexer": "ipython3",
   "version": "3.12.0"
  },
  "vscode": {
   "interpreter": {
    "hash": "d5100c10c6b669a578e86ed43dbb636d25e3c9fb9ee424ec9e5e4bad34e2e434"
   }
  }
 },
 "nbformat": 4,
 "nbformat_minor": 2
}
